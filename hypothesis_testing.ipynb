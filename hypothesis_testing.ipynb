{
 "cells": [
  {
   "cell_type": "code",
   "execution_count": 1574,
   "id": "11692012",
   "metadata": {},
   "outputs": [],
   "source": [
    "import pandas as pd\n",
    "import numpy as np\n",
    "import matplotlib.pyplot as plt\n",
    "import scipy.stats as stats\n",
    "import seaborn as sns\n",
    "from pydataset import data\n",
    "import env\n",
    "\n",
    "pd.options.display.max_columns = None\n"
   ]
  },
  {
   "cell_type": "markdown",
   "id": "ef2e6687",
   "metadata": {},
   "source": [
    "For each of the following questions, formulate a null and alternative hypothesis (be as specific as you can be), then give an example of what a true positive, true negative, type I and type II errors would look like. Note that some of the questions are intentionally phrased in a vague way. It is your job to reword these as more precise questions that could be tested.\n",
    "\n",
    "- Has the network latency gone up since we switched internet service providers?\n",
    "- Is the website redesign any good?\n",
    "- Is our television ad driving more sales?"
   ]
  },
  {
   "cell_type": "markdown",
   "id": "2a6e9b7e",
   "metadata": {},
   "source": [
    "#### Has the network latency gone up since we switched internet service providers?\n",
    "$H_{0}$ :  Service providers has no effect on network latency\n",
    "\n",
    "$H_{a}$ : Service providers has effect on network latency\n",
    "\n",
    "True Positive: we rejected Null Hypothesis, new service provider's clogged network on busy hours. \n",
    "\n",
    "True Negative: We failed to reject Null Hypothesis, playing 4k games increases network latency\n",
    "\n",
    "type I: We rejected Null Hypothesis, slow computer causes increase on network latency\n",
    "\n",
    "type II: We failed to reject Null Hypothesis, service provider's internet speed is slower than other service provider's internet speed."
   ]
  },
  {
   "cell_type": "markdown",
   "id": "237ee676",
   "metadata": {},
   "source": [
    "#### Is the website redesign any good?\n",
    "$H_{0}$ : website redesign is not good\n",
    "\n",
    "$H_{a}$ : website redesign is good\n",
    "\n",
    "True Positive: we rejected Null Hypothesis, website redsegin voted best by consumers\n",
    "\n",
    "True Negative: we failed to reject Null Hypothesis, website redsegin voted worst by consumers\n",
    "\n",
    "Type I: we rejected Null Hypothesis, number users visitng website decreases because of bad redesign\n",
    "\n",
    "Type II: we failed to reject Null Hypothesis, high number of users said that website redesign is good"
   ]
  },
  {
   "cell_type": "markdown",
   "id": "ef54db08",
   "metadata": {},
   "source": [
    "#### Is our television ad driving more sales?\n",
    "$H_{0}$ : television ad is not increasing sales\n",
    "\n",
    "$H_{a}$ : television ad increases sales\n",
    "\n",
    "True Positive: we rejected Null Hypothesis, sales remain same after television ad\n",
    "\n",
    "True Negative: we failed to reject Null Hypothesis, customers who haven't seen televsions ad increased sales\n",
    "\n",
    "type I: we rejected  Null Hypothesis, sales decreases after televison ad\n",
    "\n",
    "type II: we failed to reject Null Hypothesis, sales increases after television ad"
   ]
  },
  {
   "cell_type": "markdown",
   "id": "9edd25be",
   "metadata": {},
   "source": [
    "#### Answer with the type of test you would use (assume normal distribution):\n",
    "\n",
    "   - Is there a difference in grades of students on the second floor compared to grades of all students?\n",
    "    \n",
    "   - Are adults who drink milk taller than adults who dont drink milk?\n",
    "     \n",
    "   - Is the the price of gas higher in texas or in new mexico?    \n",
    "    \n",
    "   - Are there differences in stress levels between students who take data science vs students who take web development vs students who take cloud academy?\n",
    "   "
   ]
  },
  {
   "cell_type": "markdown",
   "id": "3e476758",
   "metadata": {},
   "source": [
    "2-tail One Sample T-Test\n",
    "\n",
    "1-tail Independent T-Test\n",
    "\n",
    "1-tail Independent T-Test, greater than\n",
    "\n",
    "ANOVA Analysis of Variance\n"
   ]
  },
  {
   "cell_type": "markdown",
   "id": "42fa6400",
   "metadata": {},
   "source": [
    "####  3. Load the mpg dataset and use it to answer the following questions:\n",
    "\n",
    "    - Is there a difference in fuel-efficiency in cars from 2008 vs 1999? \n",
    "    \n",
    "    - Are compact cars more fuel-efficient than the average car?\n",
    "    \n",
    "    - Do manual cars get better gas mileage than automatic cars?"
   ]
  },
  {
   "cell_type": "code",
   "execution_count": 1018,
   "id": "426c478a",
   "metadata": {},
   "outputs": [
    {
     "data": {
      "text/html": [
       "<div>\n",
       "<style scoped>\n",
       "    .dataframe tbody tr th:only-of-type {\n",
       "        vertical-align: middle;\n",
       "    }\n",
       "\n",
       "    .dataframe tbody tr th {\n",
       "        vertical-align: top;\n",
       "    }\n",
       "\n",
       "    .dataframe thead th {\n",
       "        text-align: right;\n",
       "    }\n",
       "</style>\n",
       "<table border=\"1\" class=\"dataframe\">\n",
       "  <thead>\n",
       "    <tr style=\"text-align: right;\">\n",
       "      <th></th>\n",
       "      <th>manufacturer</th>\n",
       "      <th>model</th>\n",
       "      <th>displ</th>\n",
       "      <th>year</th>\n",
       "      <th>cyl</th>\n",
       "      <th>trans</th>\n",
       "      <th>drv</th>\n",
       "      <th>cty</th>\n",
       "      <th>hwy</th>\n",
       "      <th>fl</th>\n",
       "      <th>class</th>\n",
       "    </tr>\n",
       "  </thead>\n",
       "  <tbody>\n",
       "    <tr>\n",
       "      <th>1</th>\n",
       "      <td>audi</td>\n",
       "      <td>a4</td>\n",
       "      <td>1.8</td>\n",
       "      <td>1999</td>\n",
       "      <td>4</td>\n",
       "      <td>auto(l5)</td>\n",
       "      <td>f</td>\n",
       "      <td>18</td>\n",
       "      <td>29</td>\n",
       "      <td>p</td>\n",
       "      <td>compact</td>\n",
       "    </tr>\n",
       "    <tr>\n",
       "      <th>2</th>\n",
       "      <td>audi</td>\n",
       "      <td>a4</td>\n",
       "      <td>1.8</td>\n",
       "      <td>1999</td>\n",
       "      <td>4</td>\n",
       "      <td>manual(m5)</td>\n",
       "      <td>f</td>\n",
       "      <td>21</td>\n",
       "      <td>29</td>\n",
       "      <td>p</td>\n",
       "      <td>compact</td>\n",
       "    </tr>\n",
       "    <tr>\n",
       "      <th>3</th>\n",
       "      <td>audi</td>\n",
       "      <td>a4</td>\n",
       "      <td>2.0</td>\n",
       "      <td>2008</td>\n",
       "      <td>4</td>\n",
       "      <td>manual(m6)</td>\n",
       "      <td>f</td>\n",
       "      <td>20</td>\n",
       "      <td>31</td>\n",
       "      <td>p</td>\n",
       "      <td>compact</td>\n",
       "    </tr>\n",
       "    <tr>\n",
       "      <th>4</th>\n",
       "      <td>audi</td>\n",
       "      <td>a4</td>\n",
       "      <td>2.0</td>\n",
       "      <td>2008</td>\n",
       "      <td>4</td>\n",
       "      <td>auto(av)</td>\n",
       "      <td>f</td>\n",
       "      <td>21</td>\n",
       "      <td>30</td>\n",
       "      <td>p</td>\n",
       "      <td>compact</td>\n",
       "    </tr>\n",
       "    <tr>\n",
       "      <th>5</th>\n",
       "      <td>audi</td>\n",
       "      <td>a4</td>\n",
       "      <td>2.8</td>\n",
       "      <td>1999</td>\n",
       "      <td>6</td>\n",
       "      <td>auto(l5)</td>\n",
       "      <td>f</td>\n",
       "      <td>16</td>\n",
       "      <td>26</td>\n",
       "      <td>p</td>\n",
       "      <td>compact</td>\n",
       "    </tr>\n",
       "  </tbody>\n",
       "</table>\n",
       "</div>"
      ],
      "text/plain": [
       "  manufacturer model  displ  year  cyl       trans drv  cty  hwy fl    class\n",
       "1         audi    a4    1.8  1999    4    auto(l5)   f   18   29  p  compact\n",
       "2         audi    a4    1.8  1999    4  manual(m5)   f   21   29  p  compact\n",
       "3         audi    a4    2.0  2008    4  manual(m6)   f   20   31  p  compact\n",
       "4         audi    a4    2.0  2008    4    auto(av)   f   21   30  p  compact\n",
       "5         audi    a4    2.8  1999    6    auto(l5)   f   16   26  p  compact"
      ]
     },
     "execution_count": 1018,
     "metadata": {},
     "output_type": "execute_result"
    }
   ],
   "source": [
    "df = data('mpg')\n",
    "df.head()"
   ]
  },
  {
   "cell_type": "code",
   "execution_count": 1019,
   "id": "2f513697",
   "metadata": {},
   "outputs": [
    {
     "name": "stdout",
     "output_type": "stream",
     "text": [
      "<class 'pandas.core.frame.DataFrame'>\n",
      "Int64Index: 234 entries, 1 to 234\n",
      "Data columns (total 11 columns):\n",
      " #   Column        Non-Null Count  Dtype  \n",
      "---  ------        --------------  -----  \n",
      " 0   manufacturer  234 non-null    object \n",
      " 1   model         234 non-null    object \n",
      " 2   displ         234 non-null    float64\n",
      " 3   year          234 non-null    int64  \n",
      " 4   cyl           234 non-null    int64  \n",
      " 5   trans         234 non-null    object \n",
      " 6   drv           234 non-null    object \n",
      " 7   cty           234 non-null    int64  \n",
      " 8   hwy           234 non-null    int64  \n",
      " 9   fl            234 non-null    object \n",
      " 10  class         234 non-null    object \n",
      "dtypes: float64(1), int64(4), object(6)\n",
      "memory usage: 21.9+ KB\n"
     ]
    }
   ],
   "source": [
    "df.info()"
   ]
  },
  {
   "cell_type": "code",
   "execution_count": 1020,
   "id": "64160d17",
   "metadata": {},
   "outputs": [
    {
     "data": {
      "text/html": [
       "<div>\n",
       "<style scoped>\n",
       "    .dataframe tbody tr th:only-of-type {\n",
       "        vertical-align: middle;\n",
       "    }\n",
       "\n",
       "    .dataframe tbody tr th {\n",
       "        vertical-align: top;\n",
       "    }\n",
       "\n",
       "    .dataframe thead th {\n",
       "        text-align: right;\n",
       "    }\n",
       "</style>\n",
       "<table border=\"1\" class=\"dataframe\">\n",
       "  <thead>\n",
       "    <tr style=\"text-align: right;\">\n",
       "      <th></th>\n",
       "      <th>manufacturer</th>\n",
       "      <th>model</th>\n",
       "      <th>displ</th>\n",
       "      <th>year</th>\n",
       "      <th>cyl</th>\n",
       "      <th>trans</th>\n",
       "      <th>drv</th>\n",
       "      <th>cty</th>\n",
       "      <th>hwy</th>\n",
       "      <th>fl</th>\n",
       "      <th>class</th>\n",
       "      <th>fuel_efficiency</th>\n",
       "    </tr>\n",
       "  </thead>\n",
       "  <tbody>\n",
       "    <tr>\n",
       "      <th>1</th>\n",
       "      <td>audi</td>\n",
       "      <td>a4</td>\n",
       "      <td>1.8</td>\n",
       "      <td>1999</td>\n",
       "      <td>4</td>\n",
       "      <td>auto(l5)</td>\n",
       "      <td>f</td>\n",
       "      <td>18</td>\n",
       "      <td>29</td>\n",
       "      <td>p</td>\n",
       "      <td>compact</td>\n",
       "      <td>23.5</td>\n",
       "    </tr>\n",
       "    <tr>\n",
       "      <th>2</th>\n",
       "      <td>audi</td>\n",
       "      <td>a4</td>\n",
       "      <td>1.8</td>\n",
       "      <td>1999</td>\n",
       "      <td>4</td>\n",
       "      <td>manual(m5)</td>\n",
       "      <td>f</td>\n",
       "      <td>21</td>\n",
       "      <td>29</td>\n",
       "      <td>p</td>\n",
       "      <td>compact</td>\n",
       "      <td>25.0</td>\n",
       "    </tr>\n",
       "    <tr>\n",
       "      <th>3</th>\n",
       "      <td>audi</td>\n",
       "      <td>a4</td>\n",
       "      <td>2.0</td>\n",
       "      <td>2008</td>\n",
       "      <td>4</td>\n",
       "      <td>manual(m6)</td>\n",
       "      <td>f</td>\n",
       "      <td>20</td>\n",
       "      <td>31</td>\n",
       "      <td>p</td>\n",
       "      <td>compact</td>\n",
       "      <td>25.5</td>\n",
       "    </tr>\n",
       "    <tr>\n",
       "      <th>4</th>\n",
       "      <td>audi</td>\n",
       "      <td>a4</td>\n",
       "      <td>2.0</td>\n",
       "      <td>2008</td>\n",
       "      <td>4</td>\n",
       "      <td>auto(av)</td>\n",
       "      <td>f</td>\n",
       "      <td>21</td>\n",
       "      <td>30</td>\n",
       "      <td>p</td>\n",
       "      <td>compact</td>\n",
       "      <td>25.5</td>\n",
       "    </tr>\n",
       "    <tr>\n",
       "      <th>5</th>\n",
       "      <td>audi</td>\n",
       "      <td>a4</td>\n",
       "      <td>2.8</td>\n",
       "      <td>1999</td>\n",
       "      <td>6</td>\n",
       "      <td>auto(l5)</td>\n",
       "      <td>f</td>\n",
       "      <td>16</td>\n",
       "      <td>26</td>\n",
       "      <td>p</td>\n",
       "      <td>compact</td>\n",
       "      <td>21.0</td>\n",
       "    </tr>\n",
       "    <tr>\n",
       "      <th>...</th>\n",
       "      <td>...</td>\n",
       "      <td>...</td>\n",
       "      <td>...</td>\n",
       "      <td>...</td>\n",
       "      <td>...</td>\n",
       "      <td>...</td>\n",
       "      <td>...</td>\n",
       "      <td>...</td>\n",
       "      <td>...</td>\n",
       "      <td>...</td>\n",
       "      <td>...</td>\n",
       "      <td>...</td>\n",
       "    </tr>\n",
       "    <tr>\n",
       "      <th>230</th>\n",
       "      <td>volkswagen</td>\n",
       "      <td>passat</td>\n",
       "      <td>2.0</td>\n",
       "      <td>2008</td>\n",
       "      <td>4</td>\n",
       "      <td>auto(s6)</td>\n",
       "      <td>f</td>\n",
       "      <td>19</td>\n",
       "      <td>28</td>\n",
       "      <td>p</td>\n",
       "      <td>midsize</td>\n",
       "      <td>23.5</td>\n",
       "    </tr>\n",
       "    <tr>\n",
       "      <th>231</th>\n",
       "      <td>volkswagen</td>\n",
       "      <td>passat</td>\n",
       "      <td>2.0</td>\n",
       "      <td>2008</td>\n",
       "      <td>4</td>\n",
       "      <td>manual(m6)</td>\n",
       "      <td>f</td>\n",
       "      <td>21</td>\n",
       "      <td>29</td>\n",
       "      <td>p</td>\n",
       "      <td>midsize</td>\n",
       "      <td>25.0</td>\n",
       "    </tr>\n",
       "    <tr>\n",
       "      <th>232</th>\n",
       "      <td>volkswagen</td>\n",
       "      <td>passat</td>\n",
       "      <td>2.8</td>\n",
       "      <td>1999</td>\n",
       "      <td>6</td>\n",
       "      <td>auto(l5)</td>\n",
       "      <td>f</td>\n",
       "      <td>16</td>\n",
       "      <td>26</td>\n",
       "      <td>p</td>\n",
       "      <td>midsize</td>\n",
       "      <td>21.0</td>\n",
       "    </tr>\n",
       "    <tr>\n",
       "      <th>233</th>\n",
       "      <td>volkswagen</td>\n",
       "      <td>passat</td>\n",
       "      <td>2.8</td>\n",
       "      <td>1999</td>\n",
       "      <td>6</td>\n",
       "      <td>manual(m5)</td>\n",
       "      <td>f</td>\n",
       "      <td>18</td>\n",
       "      <td>26</td>\n",
       "      <td>p</td>\n",
       "      <td>midsize</td>\n",
       "      <td>22.0</td>\n",
       "    </tr>\n",
       "    <tr>\n",
       "      <th>234</th>\n",
       "      <td>volkswagen</td>\n",
       "      <td>passat</td>\n",
       "      <td>3.6</td>\n",
       "      <td>2008</td>\n",
       "      <td>6</td>\n",
       "      <td>auto(s6)</td>\n",
       "      <td>f</td>\n",
       "      <td>17</td>\n",
       "      <td>26</td>\n",
       "      <td>p</td>\n",
       "      <td>midsize</td>\n",
       "      <td>21.5</td>\n",
       "    </tr>\n",
       "  </tbody>\n",
       "</table>\n",
       "<p>234 rows × 12 columns</p>\n",
       "</div>"
      ],
      "text/plain": [
       "    manufacturer   model  displ  year  cyl       trans drv  cty  hwy fl  \\\n",
       "1           audi      a4    1.8  1999    4    auto(l5)   f   18   29  p   \n",
       "2           audi      a4    1.8  1999    4  manual(m5)   f   21   29  p   \n",
       "3           audi      a4    2.0  2008    4  manual(m6)   f   20   31  p   \n",
       "4           audi      a4    2.0  2008    4    auto(av)   f   21   30  p   \n",
       "5           audi      a4    2.8  1999    6    auto(l5)   f   16   26  p   \n",
       "..           ...     ...    ...   ...  ...         ...  ..  ...  ... ..   \n",
       "230   volkswagen  passat    2.0  2008    4    auto(s6)   f   19   28  p   \n",
       "231   volkswagen  passat    2.0  2008    4  manual(m6)   f   21   29  p   \n",
       "232   volkswagen  passat    2.8  1999    6    auto(l5)   f   16   26  p   \n",
       "233   volkswagen  passat    2.8  1999    6  manual(m5)   f   18   26  p   \n",
       "234   volkswagen  passat    3.6  2008    6    auto(s6)   f   17   26  p   \n",
       "\n",
       "       class  fuel_efficiency  \n",
       "1    compact             23.5  \n",
       "2    compact             25.0  \n",
       "3    compact             25.5  \n",
       "4    compact             25.5  \n",
       "5    compact             21.0  \n",
       "..       ...              ...  \n",
       "230  midsize             23.5  \n",
       "231  midsize             25.0  \n",
       "232  midsize             21.0  \n",
       "233  midsize             22.0  \n",
       "234  midsize             21.5  \n",
       "\n",
       "[234 rows x 12 columns]"
      ]
     },
     "execution_count": 1020,
     "metadata": {},
     "output_type": "execute_result"
    }
   ],
   "source": [
    "df['fuel_efficiency'] = (df.cty + df.hwy)/2\n",
    "df"
   ]
  },
  {
   "cell_type": "markdown",
   "id": "93a74abc",
   "metadata": {},
   "source": [
    "###  Is there a difference in fuel-efficiency in cars from 2008 vs 1999?"
   ]
  },
  {
   "cell_type": "code",
   "execution_count": 1021,
   "id": "997df18d",
   "metadata": {},
   "outputs": [],
   "source": [
    "# Independent T-Test 2_tail, significantly different"
   ]
  },
  {
   "cell_type": "markdown",
   "id": "d2a9e4eb",
   "metadata": {},
   "source": [
    "### Hypothesis\n",
    "$H_{0}$ : cars from 2008 and 1999 has no difference in fuel-efficiency\n",
    "\n",
    "$H_{a}$ : cars from 2008 and 1999 has difference in fuel- efficiency\n",
    "\n",
    "### Significane Level\n",
    "Alpha set to 0.05"
   ]
  },
  {
   "cell_type": "code",
   "execution_count": 1022,
   "id": "f4d4a711",
   "metadata": {},
   "outputs": [],
   "source": [
    "year_1999 = df[df.year == 1999].fuel_efficiency\n",
    "year_2008 = df[df.year == 2008].fuel_efficiency"
   ]
  },
  {
   "cell_type": "code",
   "execution_count": 1023,
   "id": "e39c2793",
   "metadata": {},
   "outputs": [],
   "source": [
    "alpha = 0.05"
   ]
  },
  {
   "cell_type": "markdown",
   "id": "83b30f3b",
   "metadata": {},
   "source": [
    "### Verify assumptions\n",
    "\n",
    "- Independent sample\n",
    "- Normal Distribution, or at least 30 observations\n",
    "- Equal Variance"
   ]
  },
  {
   "cell_type": "code",
   "execution_count": 1024,
   "id": "fee24462",
   "metadata": {},
   "outputs": [
    {
     "data": {
      "text/plain": [
       "1999    117\n",
       "2008    117\n",
       "Name: year, dtype: int64"
      ]
     },
     "execution_count": 1024,
     "metadata": {},
     "output_type": "execute_result"
    }
   ],
   "source": [
    "df.year.value_counts()"
   ]
  },
  {
   "cell_type": "code",
   "execution_count": 1025,
   "id": "58724e48",
   "metadata": {},
   "outputs": [
    {
     "name": "stdout",
     "output_type": "stream",
     "text": [
      "27.122605363984682\n",
      "24.097480106100797\n"
     ]
    }
   ],
   "source": [
    "print(year_1999.var())\n",
    "print(year_2008.var())"
   ]
  },
  {
   "cell_type": "markdown",
   "id": "536fb139",
   "metadata": {},
   "source": [
    "### Compute test statistic and probability (t-statistic & p-value)"
   ]
  },
  {
   "cell_type": "code",
   "execution_count": 1026,
   "id": "d7a32580",
   "metadata": {},
   "outputs": [
    {
     "data": {
      "text/plain": [
       "(0.21960177245940962, 0.8263750772060638)"
      ]
     },
     "execution_count": 1026,
     "metadata": {},
     "output_type": "execute_result"
    }
   ],
   "source": [
    "t, p = stats.ttest_ind(year_1999, year_2008, equal_var=False)\n",
    "t, p"
   ]
  },
  {
   "cell_type": "markdown",
   "id": "34903da7",
   "metadata": {},
   "source": [
    "### Decide:\n",
    "    \n",
    "- p-value < alpha"
   ]
  },
  {
   "cell_type": "code",
   "execution_count": 1027,
   "id": "0ad012b6",
   "metadata": {},
   "outputs": [
    {
     "name": "stdout",
     "output_type": "stream",
     "text": [
      "Fail to reject $H_{0}$ \n"
     ]
    }
   ],
   "source": [
    "# Is there a difference in fuel-efficiency in cars from 2008 vs 1999?\n",
    "\n",
    "if p < alpha:\n",
    "    print('Reject $H_{0}$')\n",
    "else: \n",
    "    print('Fail to reject $H_{0}$ ')\n",
    "\n"
   ]
  },
  {
   "cell_type": "markdown",
   "id": "200a3a5e",
   "metadata": {},
   "source": [
    "### Conclusion: \n",
    "We failed to reject the Null Hypothesis, there is no significant difference in fuel effficiency between cars made in 1999 and 2008"
   ]
  },
  {
   "cell_type": "markdown",
   "id": "8394d616",
   "metadata": {},
   "source": [
    "#### Are compact cars more fuel-efficient than the average car?"
   ]
  },
  {
   "cell_type": "code",
   "execution_count": 1028,
   "id": "f5d4c464",
   "metadata": {},
   "outputs": [],
   "source": [
    "# One Sample T-Test 1-tail, significantly larger"
   ]
  },
  {
   "cell_type": "markdown",
   "id": "85d6a16a",
   "metadata": {},
   "source": [
    "### Hypothesis\n",
    "$H_{0}$ :compact cars are not fuel-effiecient than average car\n",
    "\n",
    "$H_{a}$ : compact cars are more fuel-effiecient than of all car\n",
    "\n",
    "### Significane Level\n",
    "Alpha set to 0.05"
   ]
  },
  {
   "cell_type": "code",
   "execution_count": 1029,
   "id": "99d32345",
   "metadata": {},
   "outputs": [],
   "source": [
    "alpha = 0.05"
   ]
  },
  {
   "cell_type": "markdown",
   "id": "0b4f4127",
   "metadata": {},
   "source": [
    "### Verify Assumptions\n",
    "\n",
    "- Normal Distribution, or at least 30 observations "
   ]
  },
  {
   "cell_type": "code",
   "execution_count": 1030,
   "id": "bc87086c",
   "metadata": {},
   "outputs": [
    {
     "data": {
      "text/plain": [
       "suv           62\n",
       "compact       47\n",
       "midsize       41\n",
       "subcompact    35\n",
       "pickup        33\n",
       "minivan       11\n",
       "2seater        5\n",
       "Name: class, dtype: int64"
      ]
     },
     "execution_count": 1030,
     "metadata": {},
     "output_type": "execute_result"
    }
   ],
   "source": [
    "df['class'].value_counts()"
   ]
  },
  {
   "cell_type": "code",
   "execution_count": 1031,
   "id": "611b459e",
   "metadata": {},
   "outputs": [
    {
     "data": {
      "text/plain": [
       "20.14957264957265"
      ]
     },
     "execution_count": 1031,
     "metadata": {},
     "output_type": "execute_result"
    }
   ],
   "source": [
    "compact_sample = df[df['class'] == 'compact'].fuel_efficiency\n",
    "overall_mean = df.fuel_efficiency.mean()\n",
    "overall_mean"
   ]
  },
  {
   "cell_type": "markdown",
   "id": "15d7aa1b",
   "metadata": {},
   "source": [
    "### Compute test statistic and probability (t-statistic & p-value)"
   ]
  },
  {
   "cell_type": "code",
   "execution_count": 1032,
   "id": "4f9818ac",
   "metadata": {},
   "outputs": [
    {
     "data": {
      "text/plain": [
       "(7.896888573132533, 2.0992818971585743e-10)"
      ]
     },
     "execution_count": 1032,
     "metadata": {},
     "output_type": "execute_result"
    }
   ],
   "source": [
    "t, p = stats.ttest_1samp(compact_sample, overall_mean)\n",
    "t, p/2"
   ]
  },
  {
   "cell_type": "markdown",
   "id": "7b9565fa",
   "metadata": {},
   "source": [
    "### Decide\n",
    "\n",
    "- p/2 < alpha and t > 0\n"
   ]
  },
  {
   "cell_type": "code",
   "execution_count": 1033,
   "id": "163592af",
   "metadata": {},
   "outputs": [
    {
     "name": "stdout",
     "output_type": "stream",
     "text": [
      "We reject $H_{0}$\n"
     ]
    }
   ],
   "source": [
    "# Are compact cars more fuel-efficient than the average car?\n",
    "\n",
    "if p/2 > alpha:\n",
    "    print(\"We fail to reject $H_{0}$\")\n",
    "elif t < 0:\n",
    "    print(\"We fail to reject $H_{0}$\")\n",
    "else:\n",
    "    print(\"We reject $H_{0}$\")\n"
   ]
  },
  {
   "cell_type": "markdown",
   "id": "ae302bac",
   "metadata": {},
   "source": [
    "### Conclusion: \n",
    "We rejected the Null Hypothesis, compact cars are more efficient than the average car"
   ]
  },
  {
   "cell_type": "markdown",
   "id": "6b21c567",
   "metadata": {},
   "source": [
    "###  Do manual cars get better gas mileage than automatic cars?"
   ]
  },
  {
   "cell_type": "code",
   "execution_count": 1034,
   "id": "b5972f76",
   "metadata": {},
   "outputs": [],
   "source": [
    "# Independent T-Test 1 tail, significantly larger"
   ]
  },
  {
   "cell_type": "markdown",
   "id": "150cef69",
   "metadata": {},
   "source": [
    "### Hypothesis\n",
    "\n",
    "$𝐻_{0}$  : manual cars are not more fuel-efficient than automatic cars\n",
    "\n",
    "$𝐻_{𝑎}$  : manual cars are more fuel-efficient than automatic cars\n",
    "\n",
    "###  Significane Level\n",
    "\n",
    "Alpha set to 0.05"
   ]
  },
  {
   "cell_type": "code",
   "execution_count": 1035,
   "id": "633581aa",
   "metadata": {},
   "outputs": [],
   "source": [
    "alpha = 0.05"
   ]
  },
  {
   "cell_type": "code",
   "execution_count": 1036,
   "id": "2fb2866d",
   "metadata": {},
   "outputs": [
    {
     "data": {
      "text/html": [
       "<div>\n",
       "<style scoped>\n",
       "    .dataframe tbody tr th:only-of-type {\n",
       "        vertical-align: middle;\n",
       "    }\n",
       "\n",
       "    .dataframe tbody tr th {\n",
       "        vertical-align: top;\n",
       "    }\n",
       "\n",
       "    .dataframe thead th {\n",
       "        text-align: right;\n",
       "    }\n",
       "</style>\n",
       "<table border=\"1\" class=\"dataframe\">\n",
       "  <thead>\n",
       "    <tr style=\"text-align: right;\">\n",
       "      <th></th>\n",
       "      <th>manufacturer</th>\n",
       "      <th>model</th>\n",
       "      <th>displ</th>\n",
       "      <th>year</th>\n",
       "      <th>cyl</th>\n",
       "      <th>trans</th>\n",
       "      <th>drv</th>\n",
       "      <th>cty</th>\n",
       "      <th>hwy</th>\n",
       "      <th>fl</th>\n",
       "      <th>class</th>\n",
       "      <th>fuel_efficiency</th>\n",
       "    </tr>\n",
       "  </thead>\n",
       "  <tbody>\n",
       "    <tr>\n",
       "      <th>1</th>\n",
       "      <td>audi</td>\n",
       "      <td>a4</td>\n",
       "      <td>1.8</td>\n",
       "      <td>1999</td>\n",
       "      <td>4</td>\n",
       "      <td>auto(l5)</td>\n",
       "      <td>f</td>\n",
       "      <td>18</td>\n",
       "      <td>29</td>\n",
       "      <td>p</td>\n",
       "      <td>compact</td>\n",
       "      <td>23.5</td>\n",
       "    </tr>\n",
       "    <tr>\n",
       "      <th>2</th>\n",
       "      <td>audi</td>\n",
       "      <td>a4</td>\n",
       "      <td>1.8</td>\n",
       "      <td>1999</td>\n",
       "      <td>4</td>\n",
       "      <td>manual(m5)</td>\n",
       "      <td>f</td>\n",
       "      <td>21</td>\n",
       "      <td>29</td>\n",
       "      <td>p</td>\n",
       "      <td>compact</td>\n",
       "      <td>25.0</td>\n",
       "    </tr>\n",
       "    <tr>\n",
       "      <th>3</th>\n",
       "      <td>audi</td>\n",
       "      <td>a4</td>\n",
       "      <td>2.0</td>\n",
       "      <td>2008</td>\n",
       "      <td>4</td>\n",
       "      <td>manual(m6)</td>\n",
       "      <td>f</td>\n",
       "      <td>20</td>\n",
       "      <td>31</td>\n",
       "      <td>p</td>\n",
       "      <td>compact</td>\n",
       "      <td>25.5</td>\n",
       "    </tr>\n",
       "    <tr>\n",
       "      <th>4</th>\n",
       "      <td>audi</td>\n",
       "      <td>a4</td>\n",
       "      <td>2.0</td>\n",
       "      <td>2008</td>\n",
       "      <td>4</td>\n",
       "      <td>auto(av)</td>\n",
       "      <td>f</td>\n",
       "      <td>21</td>\n",
       "      <td>30</td>\n",
       "      <td>p</td>\n",
       "      <td>compact</td>\n",
       "      <td>25.5</td>\n",
       "    </tr>\n",
       "    <tr>\n",
       "      <th>5</th>\n",
       "      <td>audi</td>\n",
       "      <td>a4</td>\n",
       "      <td>2.8</td>\n",
       "      <td>1999</td>\n",
       "      <td>6</td>\n",
       "      <td>auto(l5)</td>\n",
       "      <td>f</td>\n",
       "      <td>16</td>\n",
       "      <td>26</td>\n",
       "      <td>p</td>\n",
       "      <td>compact</td>\n",
       "      <td>21.0</td>\n",
       "    </tr>\n",
       "  </tbody>\n",
       "</table>\n",
       "</div>"
      ],
      "text/plain": [
       "  manufacturer model  displ  year  cyl       trans drv  cty  hwy fl    class  \\\n",
       "1         audi    a4    1.8  1999    4    auto(l5)   f   18   29  p  compact   \n",
       "2         audi    a4    1.8  1999    4  manual(m5)   f   21   29  p  compact   \n",
       "3         audi    a4    2.0  2008    4  manual(m6)   f   20   31  p  compact   \n",
       "4         audi    a4    2.0  2008    4    auto(av)   f   21   30  p  compact   \n",
       "5         audi    a4    2.8  1999    6    auto(l5)   f   16   26  p  compact   \n",
       "\n",
       "   fuel_efficiency  \n",
       "1             23.5  \n",
       "2             25.0  \n",
       "3             25.5  \n",
       "4             25.5  \n",
       "5             21.0  "
      ]
     },
     "execution_count": 1036,
     "metadata": {},
     "output_type": "execute_result"
    }
   ],
   "source": [
    "df.head()"
   ]
  },
  {
   "cell_type": "code",
   "execution_count": 1037,
   "id": "22ac0325",
   "metadata": {},
   "outputs": [],
   "source": [
    "manual_sample = df[df.trans.str.startswith('m')].fuel_efficiency\n",
    "auto_sample =df[df.trans.str.startswith('a')].fuel_efficiency \n"
   ]
  },
  {
   "cell_type": "code",
   "execution_count": 1038,
   "id": "3f7ca5e3",
   "metadata": {},
   "outputs": [
    {
     "data": {
      "text/plain": [
       "22.227272727272727"
      ]
     },
     "execution_count": 1038,
     "metadata": {},
     "output_type": "execute_result"
    }
   ],
   "source": [
    "manual_sample.mean()"
   ]
  },
  {
   "cell_type": "code",
   "execution_count": 1039,
   "id": "2c41b0b0",
   "metadata": {},
   "outputs": [
    {
     "data": {
      "text/plain": [
       "19.130573248407643"
      ]
     },
     "execution_count": 1039,
     "metadata": {},
     "output_type": "execute_result"
    }
   ],
   "source": [
    "auto_sample.mean()"
   ]
  },
  {
   "cell_type": "markdown",
   "id": "e9ee0e2b",
   "metadata": {},
   "source": [
    "### Verify assumptions\n",
    "\n",
    "- Independent sample\n",
    "- Normal Distribution, or at least 30 observations\n",
    "- Equal Variance"
   ]
  },
  {
   "cell_type": "code",
   "execution_count": 1040,
   "id": "5443c78d",
   "metadata": {},
   "outputs": [
    {
     "data": {
      "text/plain": [
       "auto(l4)      83\n",
       "manual(m5)    58\n",
       "auto(l5)      39\n",
       "manual(m6)    19\n",
       "auto(s6)      16\n",
       "auto(l6)       6\n",
       "auto(av)       5\n",
       "auto(s5)       3\n",
       "auto(s4)       3\n",
       "auto(l3)       2\n",
       "Name: trans, dtype: int64"
      ]
     },
     "execution_count": 1040,
     "metadata": {},
     "output_type": "execute_result"
    }
   ],
   "source": [
    "df.trans.value_counts()"
   ]
  },
  {
   "cell_type": "code",
   "execution_count": 1041,
   "id": "6452797d",
   "metadata": {},
   "outputs": [
    {
     "data": {
      "text/plain": [
       "26.635167464114826"
      ]
     },
     "execution_count": 1041,
     "metadata": {},
     "output_type": "execute_result"
    }
   ],
   "source": [
    "manual_sample.var()"
   ]
  },
  {
   "cell_type": "code",
   "execution_count": 1042,
   "id": "19b83521",
   "metadata": {},
   "outputs": [
    {
     "data": {
      "text/plain": [
       "21.942777233382337"
      ]
     },
     "execution_count": 1042,
     "metadata": {},
     "output_type": "execute_result"
    }
   ],
   "source": [
    "auto_sample.var()"
   ]
  },
  {
   "cell_type": "code",
   "execution_count": 1043,
   "id": "1a53b8e7",
   "metadata": {},
   "outputs": [
    {
     "data": {
      "text/plain": [
       "(0.20075824847529639, 0.32726381775659286)"
      ]
     },
     "execution_count": 1043,
     "metadata": {},
     "output_type": "execute_result"
    }
   ],
   "source": [
    "# check variance \n",
    "\n",
    "t, p = stats.levene(manual_sample, auto_sample)\n",
    "t, p/2"
   ]
  },
  {
   "cell_type": "markdown",
   "id": "2a3234fd",
   "metadata": {},
   "source": [
    "### Compute test statistic and probability (t-statistic & p-value)"
   ]
  },
  {
   "cell_type": "code",
   "execution_count": 1044,
   "id": "017a3ea7",
   "metadata": {},
   "outputs": [
    {
     "data": {
      "text/plain": [
       "(4.443514012903072, 8.976124499958947e-06)"
      ]
     },
     "execution_count": 1044,
     "metadata": {},
     "output_type": "execute_result"
    }
   ],
   "source": [
    "t, p = stats.ttest_ind(manual_sample, auto_sample, equal_var=False)\n",
    "t, p / 2\n"
   ]
  },
  {
   "cell_type": "markdown",
   "id": "197b1a32",
   "metadata": {},
   "source": [
    "### Decide\n",
    "\n",
    "- p/2 < alpha and t > 0"
   ]
  },
  {
   "cell_type": "code",
   "execution_count": 1045,
   "id": "51a3df55",
   "metadata": {},
   "outputs": [
    {
     "name": "stdout",
     "output_type": "stream",
     "text": [
      "We reject $H_{0}$\n"
     ]
    }
   ],
   "source": [
    "#Do manual cars get better gas mileage than automatic cars?\n",
    "\n",
    "if p / 2 > alpha:\n",
    "    print(\"We fail to reject $H_{0}$\")\n",
    "elif t < 0:\n",
    "    print(\"We fail to reject $H_{0}$\")\n",
    "else:\n",
    "    print(\"We reject $H_{0}$\")\n",
    "\n",
    "    \n",
    "# another way\n",
    "\n",
    "# if t > 0 and (p/2) < alpha:\n",
    "#     print(\"We reject $H_{0}$\")\n",
    "# else:\n",
    "#     print(\"We fail to reject $H_{0}$\")\n",
    "    \n"
   ]
  },
  {
   "cell_type": "markdown",
   "id": "a8dc6183",
   "metadata": {},
   "source": [
    "### Conclusion:\n",
    "We rejected the Null Hypothesis, manual cars are more fuel-efficient than automatic car"
   ]
  },
  {
   "cell_type": "markdown",
   "id": "0a617433",
   "metadata": {},
   "source": [
    "------------"
   ]
  },
  {
   "cell_type": "markdown",
   "id": "c94056a3",
   "metadata": {},
   "source": [
    "#### 1. Answer with the type of stats test you would use (assume normal distribution):\n",
    "\n",
    "- Is there a relationship between the length of your arm and the length of your foot?\n",
    "\n",
    "  Pearson's R and Spearmans\n",
    "  \n",
    "    \n",
    "- Do guys and gals quit their jobs at the same rate?\n",
    "\n",
    "    T-Test, independent, 2 tailed\n",
    "    \n",
    "    \n",
    "- Does the length of time of the lecture correlate with a students grade?\n",
    "\n",
    "    perason's R"
   ]
  },
  {
   "cell_type": "code",
   "execution_count": 1046,
   "id": "0980b1f2",
   "metadata": {},
   "outputs": [],
   "source": [
    "from pydataset import data\n",
    "import env"
   ]
  },
  {
   "cell_type": "markdown",
   "id": "ebe20cd9",
   "metadata": {},
   "source": [
    "#### 2. Use the telco_churn data.\n",
    "- Does tenure correlate with monthly charges?\n",
    "- Total charges?\n",
    "- What happens if you control for phone and internet service?"
   ]
  },
  {
   "cell_type": "code",
   "execution_count": 1341,
   "id": "1be868bd",
   "metadata": {},
   "outputs": [],
   "source": [
    "url = f'mysql+pymysql://{username}:{password}@{host}/telco_churn'\n",
    "df = pd.read_sql('SELECT * FROM customers', url)"
   ]
  },
  {
   "cell_type": "code",
   "execution_count": 1342,
   "id": "7d7aa31b",
   "metadata": {},
   "outputs": [
    {
     "data": {
      "text/html": [
       "<div>\n",
       "<style scoped>\n",
       "    .dataframe tbody tr th:only-of-type {\n",
       "        vertical-align: middle;\n",
       "    }\n",
       "\n",
       "    .dataframe tbody tr th {\n",
       "        vertical-align: top;\n",
       "    }\n",
       "\n",
       "    .dataframe thead th {\n",
       "        text-align: right;\n",
       "    }\n",
       "</style>\n",
       "<table border=\"1\" class=\"dataframe\">\n",
       "  <thead>\n",
       "    <tr style=\"text-align: right;\">\n",
       "      <th></th>\n",
       "      <th>customer_id</th>\n",
       "      <th>gender</th>\n",
       "      <th>senior_citizen</th>\n",
       "      <th>partner</th>\n",
       "      <th>dependents</th>\n",
       "      <th>tenure</th>\n",
       "      <th>phone_service</th>\n",
       "      <th>multiple_lines</th>\n",
       "      <th>internet_service_type_id</th>\n",
       "      <th>online_security</th>\n",
       "      <th>online_backup</th>\n",
       "      <th>device_protection</th>\n",
       "      <th>tech_support</th>\n",
       "      <th>streaming_tv</th>\n",
       "      <th>streaming_movies</th>\n",
       "      <th>contract_type_id</th>\n",
       "      <th>paperless_billing</th>\n",
       "      <th>payment_type_id</th>\n",
       "      <th>monthly_charges</th>\n",
       "      <th>total_charges</th>\n",
       "      <th>churn</th>\n",
       "    </tr>\n",
       "  </thead>\n",
       "  <tbody>\n",
       "    <tr>\n",
       "      <th>0</th>\n",
       "      <td>0002-ORFBO</td>\n",
       "      <td>Female</td>\n",
       "      <td>0</td>\n",
       "      <td>Yes</td>\n",
       "      <td>Yes</td>\n",
       "      <td>9</td>\n",
       "      <td>Yes</td>\n",
       "      <td>No</td>\n",
       "      <td>1</td>\n",
       "      <td>No</td>\n",
       "      <td>Yes</td>\n",
       "      <td>No</td>\n",
       "      <td>Yes</td>\n",
       "      <td>Yes</td>\n",
       "      <td>No</td>\n",
       "      <td>2</td>\n",
       "      <td>Yes</td>\n",
       "      <td>2</td>\n",
       "      <td>65.6</td>\n",
       "      <td>593.3</td>\n",
       "      <td>No</td>\n",
       "    </tr>\n",
       "    <tr>\n",
       "      <th>1</th>\n",
       "      <td>0003-MKNFE</td>\n",
       "      <td>Male</td>\n",
       "      <td>0</td>\n",
       "      <td>No</td>\n",
       "      <td>No</td>\n",
       "      <td>9</td>\n",
       "      <td>Yes</td>\n",
       "      <td>Yes</td>\n",
       "      <td>1</td>\n",
       "      <td>No</td>\n",
       "      <td>No</td>\n",
       "      <td>No</td>\n",
       "      <td>No</td>\n",
       "      <td>No</td>\n",
       "      <td>Yes</td>\n",
       "      <td>1</td>\n",
       "      <td>No</td>\n",
       "      <td>2</td>\n",
       "      <td>59.9</td>\n",
       "      <td>542.4</td>\n",
       "      <td>No</td>\n",
       "    </tr>\n",
       "    <tr>\n",
       "      <th>2</th>\n",
       "      <td>0004-TLHLJ</td>\n",
       "      <td>Male</td>\n",
       "      <td>0</td>\n",
       "      <td>No</td>\n",
       "      <td>No</td>\n",
       "      <td>4</td>\n",
       "      <td>Yes</td>\n",
       "      <td>No</td>\n",
       "      <td>2</td>\n",
       "      <td>No</td>\n",
       "      <td>No</td>\n",
       "      <td>Yes</td>\n",
       "      <td>No</td>\n",
       "      <td>No</td>\n",
       "      <td>No</td>\n",
       "      <td>1</td>\n",
       "      <td>Yes</td>\n",
       "      <td>1</td>\n",
       "      <td>73.9</td>\n",
       "      <td>280.85</td>\n",
       "      <td>Yes</td>\n",
       "    </tr>\n",
       "    <tr>\n",
       "      <th>3</th>\n",
       "      <td>0011-IGKFF</td>\n",
       "      <td>Male</td>\n",
       "      <td>1</td>\n",
       "      <td>Yes</td>\n",
       "      <td>No</td>\n",
       "      <td>13</td>\n",
       "      <td>Yes</td>\n",
       "      <td>No</td>\n",
       "      <td>2</td>\n",
       "      <td>No</td>\n",
       "      <td>Yes</td>\n",
       "      <td>Yes</td>\n",
       "      <td>No</td>\n",
       "      <td>Yes</td>\n",
       "      <td>Yes</td>\n",
       "      <td>1</td>\n",
       "      <td>Yes</td>\n",
       "      <td>1</td>\n",
       "      <td>98.0</td>\n",
       "      <td>1237.85</td>\n",
       "      <td>Yes</td>\n",
       "    </tr>\n",
       "    <tr>\n",
       "      <th>4</th>\n",
       "      <td>0013-EXCHZ</td>\n",
       "      <td>Female</td>\n",
       "      <td>1</td>\n",
       "      <td>Yes</td>\n",
       "      <td>No</td>\n",
       "      <td>3</td>\n",
       "      <td>Yes</td>\n",
       "      <td>No</td>\n",
       "      <td>2</td>\n",
       "      <td>No</td>\n",
       "      <td>No</td>\n",
       "      <td>No</td>\n",
       "      <td>Yes</td>\n",
       "      <td>Yes</td>\n",
       "      <td>No</td>\n",
       "      <td>1</td>\n",
       "      <td>Yes</td>\n",
       "      <td>2</td>\n",
       "      <td>83.9</td>\n",
       "      <td>267.4</td>\n",
       "      <td>Yes</td>\n",
       "    </tr>\n",
       "  </tbody>\n",
       "</table>\n",
       "</div>"
      ],
      "text/plain": [
       "  customer_id  gender  senior_citizen partner dependents  tenure  \\\n",
       "0  0002-ORFBO  Female               0     Yes        Yes       9   \n",
       "1  0003-MKNFE    Male               0      No         No       9   \n",
       "2  0004-TLHLJ    Male               0      No         No       4   \n",
       "3  0011-IGKFF    Male               1     Yes         No      13   \n",
       "4  0013-EXCHZ  Female               1     Yes         No       3   \n",
       "\n",
       "  phone_service multiple_lines  internet_service_type_id online_security  \\\n",
       "0           Yes             No                         1              No   \n",
       "1           Yes            Yes                         1              No   \n",
       "2           Yes             No                         2              No   \n",
       "3           Yes             No                         2              No   \n",
       "4           Yes             No                         2              No   \n",
       "\n",
       "  online_backup device_protection tech_support streaming_tv streaming_movies  \\\n",
       "0           Yes                No          Yes          Yes               No   \n",
       "1            No                No           No           No              Yes   \n",
       "2            No               Yes           No           No               No   \n",
       "3           Yes               Yes           No          Yes              Yes   \n",
       "4            No                No          Yes          Yes               No   \n",
       "\n",
       "   contract_type_id paperless_billing  payment_type_id  monthly_charges  \\\n",
       "0                 2               Yes                2             65.6   \n",
       "1                 1                No                2             59.9   \n",
       "2                 1               Yes                1             73.9   \n",
       "3                 1               Yes                1             98.0   \n",
       "4                 1               Yes                2             83.9   \n",
       "\n",
       "  total_charges churn  \n",
       "0         593.3    No  \n",
       "1         542.4    No  \n",
       "2        280.85   Yes  \n",
       "3       1237.85   Yes  \n",
       "4         267.4   Yes  "
      ]
     },
     "execution_count": 1342,
     "metadata": {},
     "output_type": "execute_result"
    }
   ],
   "source": [
    "df.head()"
   ]
  },
  {
   "cell_type": "code",
   "execution_count": 1344,
   "id": "1fd4d2ba",
   "metadata": {
    "scrolled": true
   },
   "outputs": [
    {
     "name": "stdout",
     "output_type": "stream",
     "text": [
      "<class 'pandas.core.frame.DataFrame'>\n",
      "RangeIndex: 7043 entries, 0 to 7042\n",
      "Data columns (total 21 columns):\n",
      " #   Column                    Non-Null Count  Dtype  \n",
      "---  ------                    --------------  -----  \n",
      " 0   customer_id               7043 non-null   object \n",
      " 1   gender                    7043 non-null   object \n",
      " 2   senior_citizen            7043 non-null   int64  \n",
      " 3   partner                   7043 non-null   object \n",
      " 4   dependents                7043 non-null   object \n",
      " 5   tenure                    7043 non-null   int64  \n",
      " 6   phone_service             7043 non-null   object \n",
      " 7   multiple_lines            7043 non-null   object \n",
      " 8   internet_service_type_id  7043 non-null   int64  \n",
      " 9   online_security           7043 non-null   object \n",
      " 10  online_backup             7043 non-null   object \n",
      " 11  device_protection         7043 non-null   object \n",
      " 12  tech_support              7043 non-null   object \n",
      " 13  streaming_tv              7043 non-null   object \n",
      " 14  streaming_movies          7043 non-null   object \n",
      " 15  contract_type_id          7043 non-null   int64  \n",
      " 16  paperless_billing         7043 non-null   object \n",
      " 17  payment_type_id           7043 non-null   int64  \n",
      " 18  monthly_charges           7043 non-null   float64\n",
      " 19  total_charges             7043 non-null   object \n",
      " 20  churn                     7043 non-null   object \n",
      "dtypes: float64(1), int64(5), object(15)\n",
      "memory usage: 1.1+ MB\n"
     ]
    }
   ],
   "source": [
    "# check for data types\n",
    "\n",
    "df.info()"
   ]
  },
  {
   "cell_type": "markdown",
   "id": "5cb0069e",
   "metadata": {},
   "source": [
    "### Hypothesis\n",
    "\n",
    "$H_0$ - There is no linear relationship between tenure and monthly charges\n",
    "\n",
    "$H_a$ - There is linear relationship between tenure and monthly charges"
   ]
  },
  {
   "cell_type": "code",
   "execution_count": 1255,
   "id": "2856ca89",
   "metadata": {},
   "outputs": [],
   "source": [
    "# set alpha\n",
    "\n",
    "alpha = 0.05"
   ]
  },
  {
   "cell_type": "code",
   "execution_count": 1345,
   "id": "806baed4",
   "metadata": {},
   "outputs": [
    {
     "data": {
      "text/plain": [
       "<AxesSubplot:xlabel='tenure', ylabel='monthly_charges'>"
      ]
     },
     "execution_count": 1345,
     "metadata": {},
     "output_type": "execute_result"
    },
    {
     "data": {
      "image/png": "[encoded data removed]",
      "text/plain": [
       "<Figure size 640x480 with 1 Axes>"
      ]
     },
     "metadata": {},
     "output_type": "display_data"
    }
   ],
   "source": [
    "# select data\n",
    "\n",
    "charges_df = df[['tenure', 'monthly_charges']]\n",
    "\n",
    "# plot data\n",
    "\n",
    "sns.regplot(x='tenure', y='monthly_charges', data=charges_df)"
   ]
  },
  {
   "cell_type": "code",
   "execution_count": 1346,
   "id": "c748405c",
   "metadata": {},
   "outputs": [
    {
     "data": {
      "text/plain": [
       "<AxesSubplot:xlabel='tenure', ylabel='monthly_charges'>"
      ]
     },
     "execution_count": 1346,
     "metadata": {},
     "output_type": "execute_result"
    },
    {
     "data": {
      "image/png": "[encoded data removed]",
      "text/plain": [
       "<Figure size 640x480 with 1 Axes>"
      ]
     },
     "metadata": {},
     "output_type": "display_data"
    }
   ],
   "source": [
    "# better version \n",
    "\n",
    "sns.regplot(x='tenure', y='monthly_charges', data=charges_df, marker='.', line_kws={'color':'rebeccapurple'})"
   ]
  },
  {
   "cell_type": "code",
   "execution_count": 1347,
   "id": "ce034788",
   "metadata": {},
   "outputs": [
    {
     "data": {
      "image/png": "[encoded data removed]",
      "text/plain": [
       "<Figure size 640x480 with 1 Axes>"
      ]
     },
     "metadata": {},
     "output_type": "display_data"
    },
    {
     "data": {
      "text/plain": [
       "<AxesSubplot:>"
      ]
     },
     "execution_count": 1347,
     "metadata": {},
     "output_type": "execute_result"
    },
    {
     "data": {
      "image/png": "[encoded data removed]",
      "text/plain": [
       "<Figure size 640x480 with 1 Axes>"
      ]
     },
     "metadata": {},
     "output_type": "display_data"
    }
   ],
   "source": [
    "# distributions of the data to check for normalcy\n",
    "\n",
    "charges_df.monthly_charges.hist()\n",
    "plt.show()\n",
    "charges_df.tenure.hist()"
   ]
  },
  {
   "cell_type": "markdown",
   "id": "79ba0efc",
   "metadata": {},
   "source": [
    "These distributions are not normal, so we use a Speramans test"
   ]
  },
  {
   "cell_type": "code",
   "execution_count": 1348,
   "id": "64626055",
   "metadata": {},
   "outputs": [
    {
     "data": {
      "text/plain": [
       "(0.27641678933130215, 1.0271266876409408e-123)"
      ]
     },
     "execution_count": 1348,
     "metadata": {},
     "output_type": "execute_result"
    }
   ],
   "source": [
    "# find r and p-value\n",
    "\n",
    "r, p = stats.spearmanr(df.tenure, df.monthly_charges)\n",
    "r, p"
   ]
  },
  {
   "cell_type": "code",
   "execution_count": 1349,
   "id": "9f1f7dfa",
   "metadata": {},
   "outputs": [
    {
     "data": {
      "text/plain": [
       "'We rejected Null Hypothesis. There is a linear corelation. (p-value): 1.0271266876409408e-123'"
      ]
     },
     "execution_count": 1349,
     "metadata": {},
     "output_type": "execute_result"
    }
   ],
   "source": [
    "# compare p-value\n",
    "\n",
    "def eval_result(alpha, p):\n",
    "    if p < alpha: \n",
    "       return (f'We rejected Null Hypothesis. There is a linear corelation. (p-value): {p}')\n",
    "    else:\n",
    "        return (f'We Fail to reject Null Hypothesis. There is no linear corelation. (p-value): {p}')\n",
    "    \n",
    "\n",
    "eval_result(alpha,p)"
   ]
  },
  {
   "cell_type": "markdown",
   "id": "ee9c7f9b",
   "metadata": {},
   "source": [
    "### Conclusion:\n",
    "We rejected the Null Hypothesis, there is a linear relationship between tenure and monthly charges"
   ]
  },
  {
   "cell_type": "markdown",
   "id": "277f65b9",
   "metadata": {},
   "source": [
    "--------\n",
    "#### Tenure with total_charges?"
   ]
  },
  {
   "cell_type": "markdown",
   "id": "b9c9e4dc",
   "metadata": {},
   "source": [
    "### Hypothesis¶\n",
    "𝐻0  - there is no linear relationship between tenure and total charges\n",
    "\n",
    "𝐻𝑎  - there is linear relationship between tenure and total charges\n"
   ]
  },
  {
   "cell_type": "code",
   "execution_count": 1350,
   "id": "9c6f490e",
   "metadata": {},
   "outputs": [],
   "source": [
    "total_charges_df = df[['tenure', 'total_charges']]"
   ]
  },
  {
   "cell_type": "code",
   "execution_count": 1351,
   "id": "9da7b79c",
   "metadata": {},
   "outputs": [
    {
     "data": {
      "text/html": [
       "<div>\n",
       "<style scoped>\n",
       "    .dataframe tbody tr th:only-of-type {\n",
       "        vertical-align: middle;\n",
       "    }\n",
       "\n",
       "    .dataframe tbody tr th {\n",
       "        vertical-align: top;\n",
       "    }\n",
       "\n",
       "    .dataframe thead th {\n",
       "        text-align: right;\n",
       "    }\n",
       "</style>\n",
       "<table border=\"1\" class=\"dataframe\">\n",
       "  <thead>\n",
       "    <tr style=\"text-align: right;\">\n",
       "      <th></th>\n",
       "      <th>tenure</th>\n",
       "      <th>total_charges</th>\n",
       "    </tr>\n",
       "  </thead>\n",
       "  <tbody>\n",
       "    <tr>\n",
       "      <th>0</th>\n",
       "      <td>9</td>\n",
       "      <td>593.3</td>\n",
       "    </tr>\n",
       "    <tr>\n",
       "      <th>1</th>\n",
       "      <td>9</td>\n",
       "      <td>542.4</td>\n",
       "    </tr>\n",
       "    <tr>\n",
       "      <th>2</th>\n",
       "      <td>4</td>\n",
       "      <td>280.85</td>\n",
       "    </tr>\n",
       "    <tr>\n",
       "      <th>3</th>\n",
       "      <td>13</td>\n",
       "      <td>1237.85</td>\n",
       "    </tr>\n",
       "    <tr>\n",
       "      <th>4</th>\n",
       "      <td>3</td>\n",
       "      <td>267.4</td>\n",
       "    </tr>\n",
       "    <tr>\n",
       "      <th>...</th>\n",
       "      <td>...</td>\n",
       "      <td>...</td>\n",
       "    </tr>\n",
       "    <tr>\n",
       "      <th>7038</th>\n",
       "      <td>13</td>\n",
       "      <td>742.9</td>\n",
       "    </tr>\n",
       "    <tr>\n",
       "      <th>7039</th>\n",
       "      <td>22</td>\n",
       "      <td>1873.7</td>\n",
       "    </tr>\n",
       "    <tr>\n",
       "      <th>7040</th>\n",
       "      <td>2</td>\n",
       "      <td>92.75</td>\n",
       "    </tr>\n",
       "    <tr>\n",
       "      <th>7041</th>\n",
       "      <td>67</td>\n",
       "      <td>4627.65</td>\n",
       "    </tr>\n",
       "    <tr>\n",
       "      <th>7042</th>\n",
       "      <td>63</td>\n",
       "      <td>3707.6</td>\n",
       "    </tr>\n",
       "  </tbody>\n",
       "</table>\n",
       "<p>7043 rows × 2 columns</p>\n",
       "</div>"
      ],
      "text/plain": [
       "      tenure total_charges\n",
       "0          9         593.3\n",
       "1          9         542.4\n",
       "2          4        280.85\n",
       "3         13       1237.85\n",
       "4          3         267.4\n",
       "...      ...           ...\n",
       "7038      13         742.9\n",
       "7039      22        1873.7\n",
       "7040       2         92.75\n",
       "7041      67       4627.65\n",
       "7042      63        3707.6\n",
       "\n",
       "[7043 rows x 2 columns]"
      ]
     },
     "execution_count": 1351,
     "metadata": {},
     "output_type": "execute_result"
    }
   ],
   "source": [
    "# check data \n",
    "\n",
    "total_charges_df"
   ]
  },
  {
   "cell_type": "code",
   "execution_count": 1352,
   "id": "ddefc338",
   "metadata": {},
   "outputs": [
    {
     "data": {
      "text/plain": [
       "dtype('O')"
      ]
     },
     "execution_count": 1352,
     "metadata": {},
     "output_type": "execute_result"
    }
   ],
   "source": [
    "total_charges_df.total_charges.dtypes\n"
   ]
  },
  {
   "cell_type": "code",
   "execution_count": 1353,
   "id": "afed6726",
   "metadata": {},
   "outputs": [
    {
     "name": "stderr",
     "output_type": "stream",
     "text": [
      "/var/folders/zx/rl1648955j94d0gt7b_0rshh0000gn/T/ipykernel_7291/41546047.py:5: SettingWithCopyWarning: \n",
      "A value is trying to be set on a copy of a slice from a DataFrame.\n",
      "Try using .loc[row_indexer,col_indexer] = value instead\n",
      "\n",
      "See the caveats in the documentation: https://pandas.pydata.org/pandas-docs/stable/user_guide/indexing.html#returning-a-view-versus-a-copy\n",
      "  total_charges_df['total_charges'] = total_charges_df['total_charges'].str.replace(' ', '0')\n"
     ]
    }
   ],
   "source": [
    "# in order to convert dtype object to float, need to replace total_charges that have empty space\n",
    "\n",
    "# replace string(' ') with string with('0')\n",
    "\n",
    "total_charges_df['total_charges'] = total_charges_df['total_charges'].str.replace(' ', '0')"
   ]
  },
  {
   "cell_type": "code",
   "execution_count": 1354,
   "id": "06840353",
   "metadata": {},
   "outputs": [
    {
     "name": "stderr",
     "output_type": "stream",
     "text": [
      "/var/folders/zx/rl1648955j94d0gt7b_0rshh0000gn/T/ipykernel_7291/1036179661.py:3: SettingWithCopyWarning: \n",
      "A value is trying to be set on a copy of a slice from a DataFrame.\n",
      "Try using .loc[row_indexer,col_indexer] = value instead\n",
      "\n",
      "See the caveats in the documentation: https://pandas.pydata.org/pandas-docs/stable/user_guide/indexing.html#returning-a-view-versus-a-copy\n",
      "  total_charges_df['total_charges'] = total_charges_df['total_charges'].astype(float)\n"
     ]
    }
   ],
   "source": [
    "# convert dtype object to float\n",
    "\n",
    "total_charges_df['total_charges'] = total_charges_df['total_charges'].astype(float)"
   ]
  },
  {
   "cell_type": "code",
   "execution_count": null,
   "id": "39fe2e07",
   "metadata": {},
   "outputs": [],
   "source": [
    "#  replace and convert in one step \n",
    "\n",
    "# total_charges_df['total_charges'] = total_charges_df['total_charges'].str.replace(' ', '0').astype(float)"
   ]
  },
  {
   "cell_type": "code",
   "execution_count": 1355,
   "id": "e4ec599d",
   "metadata": {},
   "outputs": [
    {
     "data": {
      "text/plain": [
       "dtype('float64')"
      ]
     },
     "execution_count": 1355,
     "metadata": {},
     "output_type": "execute_result"
    }
   ],
   "source": [
    "total_charges_df['total_charges'].dtypes"
   ]
  },
  {
   "cell_type": "code",
   "execution_count": 1356,
   "id": "23f97cde",
   "metadata": {},
   "outputs": [
    {
     "data": {
      "text/plain": [
       "<AxesSubplot:xlabel='tenure', ylabel='total_charges'>"
      ]
     },
     "execution_count": 1356,
     "metadata": {},
     "output_type": "execute_result"
    },
    {
     "data": {
      "image/png": "[encoded data removed]",
      "text/plain": [
       "<Figure size 640x480 with 1 Axes>"
      ]
     },
     "metadata": {},
     "output_type": "display_data"
    }
   ],
   "source": [
    "# plot \n",
    "\n",
    "sns.regplot ( x='tenure', y='total_charges',\n",
    "             data=total_charges_df, \n",
    "             marker='.',\n",
    "             line_kws={'color': 'rebeccapurple'})"
   ]
  },
  {
   "cell_type": "code",
   "execution_count": 1266,
   "id": "ee25894d",
   "metadata": {},
   "outputs": [
    {
     "data": {
      "image/png": "[encoded data removed]",
      "text/plain": [
       "<Figure size 640x480 with 1 Axes>"
      ]
     },
     "metadata": {},
     "output_type": "display_data"
    },
    {
     "data": {
      "text/plain": [
       "<AxesSubplot:>"
      ]
     },
     "execution_count": 1266,
     "metadata": {},
     "output_type": "execute_result"
    },
    {
     "data": {
      "image/png": "[encoded data removed]",
      "text/plain": [
       "<Figure size 640x480 with 1 Axes>"
      ]
     },
     "metadata": {},
     "output_type": "display_data"
    }
   ],
   "source": [
    "# check for normalcy\n",
    "\n",
    "total_charges_df.tenure.hist()\n",
    "plt.show()\n",
    "total_charges_df.total_charges.hist()"
   ]
  },
  {
   "cell_type": "markdown",
   "id": "1eb304bd",
   "metadata": {},
   "source": [
    "These distributions are not normal, so use Spearmans test"
   ]
  },
  {
   "cell_type": "code",
   "execution_count": 1267,
   "id": "7c7f9a9a",
   "metadata": {},
   "outputs": [
    {
     "data": {
      "text/plain": [
       "(0.8896957900597576, 0.0)"
      ]
     },
     "execution_count": 1267,
     "metadata": {},
     "output_type": "execute_result"
    }
   ],
   "source": [
    "# find r and p-value\n",
    "\n",
    "alpha = 0.05\n",
    "r, p = stats.spearmanr(total_charges_df.total_charges, total_charges_df.tenure)\n",
    "r, p\n"
   ]
  },
  {
   "cell_type": "code",
   "execution_count": 1357,
   "id": "820a8272",
   "metadata": {},
   "outputs": [
    {
     "data": {
      "text/plain": [
       "'We rejected Null Hypothesis. There is a linear corelation. (p-value): 1.0271266876409408e-123'"
      ]
     },
     "execution_count": 1357,
     "metadata": {},
     "output_type": "execute_result"
    }
   ],
   "source": [
    "# compare p-value calling function\n",
    "\n",
    "eval_result(alpha,  p)"
   ]
  },
  {
   "cell_type": "markdown",
   "id": "262952a8",
   "metadata": {},
   "source": [
    "### Conclusion: \n",
    "There is a linear corelation between tenure and totalcharges. with an r of .89, the corelation is strong"
   ]
  },
  {
   "cell_type": "code",
   "execution_count": 1054,
   "id": "fff679ee",
   "metadata": {},
   "outputs": [
    {
     "name": "stdout",
     "output_type": "stream",
     "text": [
      "Error at 945:  \n",
      "Error at 1731:  \n",
      "Error at 1906:  \n",
      "Error at 2025:  \n",
      "Error at 2176:  \n",
      "Error at 2250:  \n",
      "Error at 2855:  \n",
      "Error at 3052:  \n",
      "Error at 3118:  \n",
      "Error at 4054:  \n",
      "Error at 5433:  \n"
     ]
    }
   ],
   "source": [
    "# find index causing ValueError: could not convert string to float: ''\n",
    "\n",
    "# for i, item in enumerate(df1.total_charges):\n",
    "#     try:\n",
    "#         float(item)\n",
    "#     except ValueError:\n",
    "        print(f\"Error at {i}: {item}\")"
   ]
  },
  {
   "cell_type": "markdown",
   "id": "4e092b96",
   "metadata": {},
   "source": [
    "-----"
   ]
  },
  {
   "cell_type": "code",
   "execution_count": 1055,
   "id": "8dcdd506",
   "metadata": {},
   "outputs": [
    {
     "data": {
      "text/plain": [
       "' '"
      ]
     },
     "execution_count": 1055,
     "metadata": {},
     "output_type": "execute_result"
    }
   ],
   "source": [
    "# find valus causing ValueError: could not convert string to float: ''\n",
    "\n",
    "# df.total_charges[945]"
   ]
  },
  {
   "cell_type": "code",
   "execution_count": 1056,
   "id": "81ef81cd",
   "metadata": {},
   "outputs": [],
   "source": [
    "# convert string to Float even those causing errors\n",
    "\n",
    "# df.total_charges= pd.to_numeric(df.total_charges,errors='coerce')"
   ]
  },
  {
   "cell_type": "code",
   "execution_count": 1057,
   "id": "5f9ea24f",
   "metadata": {},
   "outputs": [
    {
     "data": {
      "text/plain": [
       "dtype('float64')"
      ]
     },
     "execution_count": 1057,
     "metadata": {},
     "output_type": "execute_result"
    }
   ],
   "source": [
    "# check data types\n",
    "\n",
    "# df.total_charges.dtypes"
   ]
  },
  {
   "cell_type": "code",
   "execution_count": 1358,
   "id": "a6e18050",
   "metadata": {},
   "outputs": [],
   "source": [
    "# convert NAN to zeros\n",
    "\n",
    "# df.total_charges = df.total_charges.fillna(0)"
   ]
  },
  {
   "cell_type": "code",
   "execution_count": null,
   "id": "2b62d70d",
   "metadata": {},
   "outputs": [],
   "source": [
    "# Check if NAN is converted to zero\n",
    "\n",
    "# df.total_charges[945]"
   ]
  },
  {
   "cell_type": "markdown",
   "id": "674b4c92",
   "metadata": {},
   "source": [
    "----"
   ]
  },
  {
   "cell_type": "markdown",
   "id": "ead761e4",
   "metadata": {},
   "source": [
    "-----------------\n",
    "####  What happens if you control for phone and internet service?"
   ]
  },
  {
   "cell_type": "code",
   "execution_count": 1248,
   "id": "3eba2b3e",
   "metadata": {},
   "outputs": [],
   "source": [
    "# look at customers who have phone service and no internet"
   ]
  },
  {
   "cell_type": "markdown",
   "id": "48286f5a",
   "metadata": {},
   "source": [
    "#### Customers who have only phone service:\n",
    "    H_0: There is no linear corelation between tenure and monthly charges\n",
    "    H_a: There is linear corelation between tenure and monthly charges"
   ]
  },
  {
   "cell_type": "code",
   "execution_count": 1270,
   "id": "eb32b02c",
   "metadata": {},
   "outputs": [],
   "source": [
    "# set alpha\n",
    "alpha = 0.05\n",
    "\n",
    "#select the data \n",
    "phone_df = df[(df1.phone_service == 'Yes') & (df1.internet_service_type_id == 1)][['tenure', 'monthly_charges']]"
   ]
  },
  {
   "cell_type": "code",
   "execution_count": 1272,
   "id": "b527fb4b",
   "metadata": {},
   "outputs": [
    {
     "data": {
      "text/html": [
       "<div>\n",
       "<style scoped>\n",
       "    .dataframe tbody tr th:only-of-type {\n",
       "        vertical-align: middle;\n",
       "    }\n",
       "\n",
       "    .dataframe tbody tr th {\n",
       "        vertical-align: top;\n",
       "    }\n",
       "\n",
       "    .dataframe thead th {\n",
       "        text-align: right;\n",
       "    }\n",
       "</style>\n",
       "<table border=\"1\" class=\"dataframe\">\n",
       "  <thead>\n",
       "    <tr style=\"text-align: right;\">\n",
       "      <th></th>\n",
       "      <th>tenure</th>\n",
       "      <th>monthly_charges</th>\n",
       "    </tr>\n",
       "  </thead>\n",
       "  <tbody>\n",
       "    <tr>\n",
       "      <th>0</th>\n",
       "      <td>9</td>\n",
       "      <td>65.60</td>\n",
       "    </tr>\n",
       "    <tr>\n",
       "      <th>1</th>\n",
       "      <td>9</td>\n",
       "      <td>59.90</td>\n",
       "    </tr>\n",
       "    <tr>\n",
       "      <th>5</th>\n",
       "      <td>9</td>\n",
       "      <td>69.40</td>\n",
       "    </tr>\n",
       "    <tr>\n",
       "      <th>8</th>\n",
       "      <td>7</td>\n",
       "      <td>48.20</td>\n",
       "    </tr>\n",
       "    <tr>\n",
       "      <th>9</th>\n",
       "      <td>65</td>\n",
       "      <td>90.45</td>\n",
       "    </tr>\n",
       "  </tbody>\n",
       "</table>\n",
       "</div>"
      ],
      "text/plain": [
       "   tenure  monthly_charges\n",
       "0       9            65.60\n",
       "1       9            59.90\n",
       "5       9            69.40\n",
       "8       7            48.20\n",
       "9      65            90.45"
      ]
     },
     "execution_count": 1272,
     "metadata": {},
     "output_type": "execute_result"
    }
   ],
   "source": [
    "# checking data\n",
    "phone_df.head()"
   ]
  },
  {
   "cell_type": "code",
   "execution_count": 1362,
   "id": "775fe8d4",
   "metadata": {},
   "outputs": [
    {
     "data": {
      "image/png": "[encoded data removed]",
      "text/plain": [
       "<Figure size 640x480 with 1 Axes>"
      ]
     },
     "metadata": {},
     "output_type": "display_data"
    },
    {
     "data": {
      "text/plain": [
       "<AxesSubplot:>"
      ]
     },
     "execution_count": 1362,
     "metadata": {},
     "output_type": "execute_result"
    },
    {
     "data": {
      "image/png": "[encoded data removed]",
      "text/plain": [
       "<Figure size 640x480 with 1 Axes>"
      ]
     },
     "metadata": {},
     "output_type": "display_data"
    }
   ],
   "source": [
    "# check normalcy\n",
    "\n",
    "phone_df.tenure.hist()\n",
    "plt.show()\n",
    "phone_df.monthly_charges.hist()"
   ]
  },
  {
   "cell_type": "markdown",
   "id": "4d5c2d58",
   "metadata": {},
   "source": [
    "These distributions are not normal, so use Spearmans test"
   ]
  },
  {
   "cell_type": "code",
   "execution_count": 1364,
   "id": "3da61c86",
   "metadata": {},
   "outputs": [
    {
     "name": "stdout",
     "output_type": "stream",
     "text": [
      "0.6644708508462759 5.423601644635052e-222\n"
     ]
    }
   ],
   "source": [
    "# find r and p-value\n",
    "r, p = stats.spearmanr(phone_df.tenure, phone_df.monthly_charges)\n",
    "\n",
    "print(r, p)\n"
   ]
  },
  {
   "cell_type": "code",
   "execution_count": 1365,
   "id": "5e0a8d65",
   "metadata": {},
   "outputs": [
    {
     "data": {
      "text/plain": [
       "'We rejected Null Hypothesis. There is a linear corelation. (p-value): 5.423601644635052e-222'"
      ]
     },
     "execution_count": 1365,
     "metadata": {},
     "output_type": "execute_result"
    }
   ],
   "source": [
    "# compare value \n",
    "eval_result(alpha, p)"
   ]
  },
  {
   "cell_type": "markdown",
   "id": "e0b2c811",
   "metadata": {},
   "source": [
    "### Conclusion:\n",
    "Thes is moderate-strong relationship between tenure and monthly charges for customers who have only phone service \n"
   ]
  },
  {
   "cell_type": "markdown",
   "id": "2db0acf4",
   "metadata": {},
   "source": [
    "#### 3. Use the employees database.\n",
    "- Is there a relationship between how long an employee has been with the company and their salary?\n",
    "- Is there a relationship between how long an employee has been with the company and the number of titles they have had?"
   ]
  },
  {
   "cell_type": "code",
   "execution_count": null,
   "id": "a02c30a4",
   "metadata": {},
   "outputs": [],
   "source": [
    "querry_salary_title = \"\"\"\n",
    "    SELECT emp_no, s.salary, s.from_date, s.to_date, t.title\n",
    "    FROM salaries s\n",
    "    JOIN titles t USING(emp_no);\n",
    "    \"\"\""
   ]
  },
  {
   "cell_type": "code",
   "execution_count": 1137,
   "id": "bfc353b4",
   "metadata": {},
   "outputs": [],
   "source": [
    "url = f'mysql+pymysql://{username}:{password}@{host}/employees'\n",
    "df = pd.read_sql(querry_salary_title, url)\n"
   ]
  },
  {
   "cell_type": "code",
   "execution_count": 1153,
   "id": "9b40c12a",
   "metadata": {},
   "outputs": [
    {
     "data": {
      "text/html": [
       "<div>\n",
       "<style scoped>\n",
       "    .dataframe tbody tr th:only-of-type {\n",
       "        vertical-align: middle;\n",
       "    }\n",
       "\n",
       "    .dataframe tbody tr th {\n",
       "        vertical-align: top;\n",
       "    }\n",
       "\n",
       "    .dataframe thead th {\n",
       "        text-align: right;\n",
       "    }\n",
       "</style>\n",
       "<table border=\"1\" class=\"dataframe\">\n",
       "  <thead>\n",
       "    <tr style=\"text-align: right;\">\n",
       "      <th></th>\n",
       "      <th>emp_no</th>\n",
       "      <th>salary</th>\n",
       "      <th>from_date</th>\n",
       "      <th>to_date</th>\n",
       "      <th>title</th>\n",
       "      <th>Salary_to_date</th>\n",
       "    </tr>\n",
       "  </thead>\n",
       "  <tbody>\n",
       "    <tr>\n",
       "      <th>0</th>\n",
       "      <td>10001</td>\n",
       "      <td>60117</td>\n",
       "      <td>1986-06-26</td>\n",
       "      <td>1987-06-26</td>\n",
       "      <td>Senior Engineer</td>\n",
       "      <td>1987-06-26</td>\n",
       "    </tr>\n",
       "    <tr>\n",
       "      <th>1</th>\n",
       "      <td>10001</td>\n",
       "      <td>62102</td>\n",
       "      <td>1987-06-26</td>\n",
       "      <td>1988-06-25</td>\n",
       "      <td>Senior Engineer</td>\n",
       "      <td>1988-06-25</td>\n",
       "    </tr>\n",
       "    <tr>\n",
       "      <th>2</th>\n",
       "      <td>10001</td>\n",
       "      <td>66074</td>\n",
       "      <td>1988-06-25</td>\n",
       "      <td>1989-06-25</td>\n",
       "      <td>Senior Engineer</td>\n",
       "      <td>1989-06-25</td>\n",
       "    </tr>\n",
       "    <tr>\n",
       "      <th>3</th>\n",
       "      <td>10001</td>\n",
       "      <td>66596</td>\n",
       "      <td>1989-06-25</td>\n",
       "      <td>1990-06-25</td>\n",
       "      <td>Senior Engineer</td>\n",
       "      <td>1990-06-25</td>\n",
       "    </tr>\n",
       "    <tr>\n",
       "      <th>4</th>\n",
       "      <td>10001</td>\n",
       "      <td>66961</td>\n",
       "      <td>1990-06-25</td>\n",
       "      <td>1991-06-25</td>\n",
       "      <td>Senior Engineer</td>\n",
       "      <td>1991-06-25</td>\n",
       "    </tr>\n",
       "  </tbody>\n",
       "</table>\n",
       "</div>"
      ],
      "text/plain": [
       "   emp_no  salary   from_date     to_date            title Salary_to_date\n",
       "0   10001   60117  1986-06-26  1987-06-26  Senior Engineer     1987-06-26\n",
       "1   10001   62102  1987-06-26  1988-06-25  Senior Engineer     1988-06-25\n",
       "2   10001   66074  1988-06-25  1989-06-25  Senior Engineer     1989-06-25\n",
       "3   10001   66596  1989-06-25  1990-06-25  Senior Engineer     1990-06-25\n",
       "4   10001   66961  1990-06-25  1991-06-25  Senior Engineer     1991-06-25"
      ]
     },
     "execution_count": 1153,
     "metadata": {},
     "output_type": "execute_result"
    }
   ],
   "source": [
    "# check if data is migrated correctly\n",
    "df.head()"
   ]
  },
  {
   "cell_type": "code",
   "execution_count": 1366,
   "id": "00e6e1d5",
   "metadata": {},
   "outputs": [
    {
     "name": "stdout",
     "output_type": "stream",
     "text": [
      "<class 'pandas.core.frame.DataFrame'>\n",
      "RangeIndex: 7043 entries, 0 to 7042\n",
      "Data columns (total 21 columns):\n",
      " #   Column                    Non-Null Count  Dtype  \n",
      "---  ------                    --------------  -----  \n",
      " 0   customer_id               7043 non-null   object \n",
      " 1   gender                    7043 non-null   object \n",
      " 2   senior_citizen            7043 non-null   int64  \n",
      " 3   partner                   7043 non-null   object \n",
      " 4   dependents                7043 non-null   object \n",
      " 5   tenure                    7043 non-null   int64  \n",
      " 6   phone_service             7043 non-null   object \n",
      " 7   multiple_lines            7043 non-null   object \n",
      " 8   internet_service_type_id  7043 non-null   int64  \n",
      " 9   online_security           7043 non-null   object \n",
      " 10  online_backup             7043 non-null   object \n",
      " 11  device_protection         7043 non-null   object \n",
      " 12  tech_support              7043 non-null   object \n",
      " 13  streaming_tv              7043 non-null   object \n",
      " 14  streaming_movies          7043 non-null   object \n",
      " 15  contract_type_id          7043 non-null   int64  \n",
      " 16  paperless_billing         7043 non-null   object \n",
      " 17  payment_type_id           7043 non-null   int64  \n",
      " 18  monthly_charges           7043 non-null   float64\n",
      " 19  total_charges             7043 non-null   object \n",
      " 20  churn                     7043 non-null   object \n",
      "dtypes: float64(1), int64(5), object(15)\n",
      "memory usage: 1.1+ MB\n"
     ]
    }
   ],
   "source": [
    "# check dtypes\n",
    "df.info()"
   ]
  },
  {
   "cell_type": "code",
   "execution_count": 1368,
   "id": "b4463cc6",
   "metadata": {},
   "outputs": [
    {
     "data": {
      "text/plain": [
       "(7043, 21)"
      ]
     },
     "execution_count": 1368,
     "metadata": {},
     "output_type": "execute_result"
    }
   ],
   "source": [
    "#check size \n",
    "df.shape"
   ]
  },
  {
   "cell_type": "code",
   "execution_count": 1149,
   "id": "e3a76e52",
   "metadata": {},
   "outputs": [
    {
     "data": {
      "text/plain": [
       "(2022, 12, 5)"
      ]
     },
     "execution_count": 1149,
     "metadata": {},
     "output_type": "execute_result"
    }
   ],
   "source": [
    "# getting today's date\n",
    "import datetime\n",
    "\n",
    "today_date = datetime.date.today()\n",
    "today_date\n",
    "\n",
    "today_date.year, today_date.month,today_date.day\n",
    "\n",
    "# df.to_date.astype(str).str.replace('date.today', today_date)\n"
   ]
  },
  {
   "cell_type": "code",
   "execution_count": 1156,
   "id": "1a995fef",
   "metadata": {},
   "outputs": [],
   "source": [
    "df['Salary_to_date'] = df.to_date"
   ]
  },
  {
   "cell_type": "code",
   "execution_count": 1157,
   "id": "c41f046c",
   "metadata": {},
   "outputs": [],
   "source": [
    "df['duration'] = df['to_date']- df['from_date']\n"
   ]
  },
  {
   "cell_type": "code",
   "execution_count": 1158,
   "id": "77354f6f",
   "metadata": {},
   "outputs": [
    {
     "data": {
      "text/html": [
       "<div>\n",
       "<style scoped>\n",
       "    .dataframe tbody tr th:only-of-type {\n",
       "        vertical-align: middle;\n",
       "    }\n",
       "\n",
       "    .dataframe tbody tr th {\n",
       "        vertical-align: top;\n",
       "    }\n",
       "\n",
       "    .dataframe thead th {\n",
       "        text-align: right;\n",
       "    }\n",
       "</style>\n",
       "<table border=\"1\" class=\"dataframe\">\n",
       "  <thead>\n",
       "    <tr style=\"text-align: right;\">\n",
       "      <th></th>\n",
       "      <th>emp_no</th>\n",
       "      <th>salary</th>\n",
       "      <th>from_date</th>\n",
       "      <th>to_date</th>\n",
       "      <th>title</th>\n",
       "      <th>Salary_to_date</th>\n",
       "      <th>duration</th>\n",
       "    </tr>\n",
       "  </thead>\n",
       "  <tbody>\n",
       "    <tr>\n",
       "      <th>0</th>\n",
       "      <td>10001</td>\n",
       "      <td>60117</td>\n",
       "      <td>1986-06-26</td>\n",
       "      <td>1987-06-26</td>\n",
       "      <td>Senior Engineer</td>\n",
       "      <td>1987-06-26</td>\n",
       "      <td>365 days, 0:00:00</td>\n",
       "    </tr>\n",
       "    <tr>\n",
       "      <th>1</th>\n",
       "      <td>10001</td>\n",
       "      <td>62102</td>\n",
       "      <td>1987-06-26</td>\n",
       "      <td>1988-06-25</td>\n",
       "      <td>Senior Engineer</td>\n",
       "      <td>1988-06-25</td>\n",
       "      <td>365 days, 0:00:00</td>\n",
       "    </tr>\n",
       "    <tr>\n",
       "      <th>2</th>\n",
       "      <td>10001</td>\n",
       "      <td>66074</td>\n",
       "      <td>1988-06-25</td>\n",
       "      <td>1989-06-25</td>\n",
       "      <td>Senior Engineer</td>\n",
       "      <td>1989-06-25</td>\n",
       "      <td>365 days, 0:00:00</td>\n",
       "    </tr>\n",
       "    <tr>\n",
       "      <th>3</th>\n",
       "      <td>10001</td>\n",
       "      <td>66596</td>\n",
       "      <td>1989-06-25</td>\n",
       "      <td>1990-06-25</td>\n",
       "      <td>Senior Engineer</td>\n",
       "      <td>1990-06-25</td>\n",
       "      <td>365 days, 0:00:00</td>\n",
       "    </tr>\n",
       "    <tr>\n",
       "      <th>4</th>\n",
       "      <td>10001</td>\n",
       "      <td>66961</td>\n",
       "      <td>1990-06-25</td>\n",
       "      <td>1991-06-25</td>\n",
       "      <td>Senior Engineer</td>\n",
       "      <td>1991-06-25</td>\n",
       "      <td>365 days, 0:00:00</td>\n",
       "    </tr>\n",
       "  </tbody>\n",
       "</table>\n",
       "</div>"
      ],
      "text/plain": [
       "   emp_no  salary   from_date     to_date            title Salary_to_date  \\\n",
       "0   10001   60117  1986-06-26  1987-06-26  Senior Engineer     1987-06-26   \n",
       "1   10001   62102  1987-06-26  1988-06-25  Senior Engineer     1988-06-25   \n",
       "2   10001   66074  1988-06-25  1989-06-25  Senior Engineer     1989-06-25   \n",
       "3   10001   66596  1989-06-25  1990-06-25  Senior Engineer     1990-06-25   \n",
       "4   10001   66961  1990-06-25  1991-06-25  Senior Engineer     1991-06-25   \n",
       "\n",
       "            duration  \n",
       "0  365 days, 0:00:00  \n",
       "1  365 days, 0:00:00  \n",
       "2  365 days, 0:00:00  \n",
       "3  365 days, 0:00:00  \n",
       "4  365 days, 0:00:00  "
      ]
     },
     "execution_count": 1158,
     "metadata": {},
     "output_type": "execute_result"
    }
   ],
   "source": [
    "df.head()"
   ]
  },
  {
   "cell_type": "markdown",
   "id": "1afda57b",
   "metadata": {},
   "source": [
    "----------\n",
    "#### Solution: "
   ]
  },
  {
   "cell_type": "code",
   "execution_count": 1370,
   "id": "7d65fdf6",
   "metadata": {},
   "outputs": [],
   "source": [
    "\n",
    "\n",
    "querry = \"\"\"\n",
    "SELECT * \n",
    "FROM employees\n",
    "JOIN salaries USING(emp_no)\n",
    "WHERE to_date = '9999-01-01';\n",
    "\"\"\""
   ]
  },
  {
   "cell_type": "code",
   "execution_count": 1371,
   "id": "73979a26",
   "metadata": {},
   "outputs": [],
   "source": [
    "url = f'mysql+pymysql://{username}:{password}@{host}/employees'\n",
    "df = pd.read_sql(querry, url)"
   ]
  },
  {
   "cell_type": "markdown",
   "id": "453b2aa1",
   "metadata": {},
   "source": [
    "#### Steps: \n",
    "- state hypothesis, set alpha\n",
    "- select data, run .info()\n",
    "- plot the data\n",
    "- test for asumptions\n",
    "- run test\n",
    "- draw conclusion\n"
   ]
  },
  {
   "cell_type": "markdown",
   "id": "280f4fec",
   "metadata": {},
   "source": [
    "#### Is there a relationship between an employees tenure and salary"
   ]
  },
  {
   "cell_type": "markdown",
   "id": "d0a0b4f1",
   "metadata": {},
   "source": [
    "### Hypothesis\n",
    "H_O : There is no corelation between tenure and salary\n",
    "    \n",
    "H_a : There is corelation between tenure and salary"
   ]
  },
  {
   "cell_type": "code",
   "execution_count": 1294,
   "id": "578d1cda",
   "metadata": {},
   "outputs": [],
   "source": [
    "# set alpha\n",
    "alpha = 0.05\n"
   ]
  },
  {
   "cell_type": "code",
   "execution_count": 1373,
   "id": "e8da5d59",
   "metadata": {},
   "outputs": [],
   "source": [
    "# get data for tenure by subtracting hire_date from today's date\n",
    "df['tenure'] = pd.to_datetime('today')- pd.to_datetime(df.hire_date)"
   ]
  },
  {
   "cell_type": "code",
   "execution_count": 1375,
   "id": "c760083c",
   "metadata": {},
   "outputs": [
    {
     "data": {
      "text/plain": [
       "0   13311 days 14:01:42.393623\n",
       "1   13528 days 14:01:42.393623\n",
       "2   13248 days 14:01:42.393623\n",
       "3   13153 days 14:01:42.393623\n",
       "4   12137 days 14:01:42.393623\n",
       "Name: tenure, dtype: timedelta64[ns]"
      ]
     },
     "execution_count": 1375,
     "metadata": {},
     "output_type": "execute_result"
    }
   ],
   "source": [
    "# check data of tenure \n",
    "df.tenure.head()"
   ]
  },
  {
   "cell_type": "code",
   "execution_count": 1383,
   "id": "f64a9182",
   "metadata": {},
   "outputs": [
    {
     "name": "stdout",
     "output_type": "stream",
     "text": [
      "<class 'pandas.core.series.Series'>\n",
      "RangeIndex: 240124 entries, 0 to 240123\n",
      "Series name: tenure\n",
      "Non-Null Count   Dtype          \n",
      "--------------   -----          \n",
      "240124 non-null  timedelta64[ns]\n",
      "dtypes: timedelta64[ns](1)\n",
      "memory usage: 1.8 MB\n"
     ]
    }
   ],
   "source": [
    "df.tenure.info()"
   ]
  },
  {
   "cell_type": "code",
   "execution_count": 1296,
   "id": "e04432ef",
   "metadata": {},
   "outputs": [
    {
     "data": {
      "text/html": [
       "<div>\n",
       "<style scoped>\n",
       "    .dataframe tbody tr th:only-of-type {\n",
       "        vertical-align: middle;\n",
       "    }\n",
       "\n",
       "    .dataframe tbody tr th {\n",
       "        vertical-align: top;\n",
       "    }\n",
       "\n",
       "    .dataframe thead th {\n",
       "        text-align: right;\n",
       "    }\n",
       "</style>\n",
       "<table border=\"1\" class=\"dataframe\">\n",
       "  <thead>\n",
       "    <tr style=\"text-align: right;\">\n",
       "      <th></th>\n",
       "      <th>0</th>\n",
       "      <th>1</th>\n",
       "      <th>2</th>\n",
       "    </tr>\n",
       "  </thead>\n",
       "  <tbody>\n",
       "    <tr>\n",
       "      <th>0</th>\n",
       "      <td>13311</td>\n",
       "      <td>days</td>\n",
       "      <td>11:51:54.307792</td>\n",
       "    </tr>\n",
       "    <tr>\n",
       "      <th>1</th>\n",
       "      <td>13528</td>\n",
       "      <td>days</td>\n",
       "      <td>11:51:54.307792</td>\n",
       "    </tr>\n",
       "    <tr>\n",
       "      <th>2</th>\n",
       "      <td>13248</td>\n",
       "      <td>days</td>\n",
       "      <td>11:51:54.307792</td>\n",
       "    </tr>\n",
       "    <tr>\n",
       "      <th>3</th>\n",
       "      <td>13153</td>\n",
       "      <td>days</td>\n",
       "      <td>11:51:54.307792</td>\n",
       "    </tr>\n",
       "    <tr>\n",
       "      <th>4</th>\n",
       "      <td>12137</td>\n",
       "      <td>days</td>\n",
       "      <td>11:51:54.307792</td>\n",
       "    </tr>\n",
       "    <tr>\n",
       "      <th>...</th>\n",
       "      <td>...</td>\n",
       "      <td>...</td>\n",
       "      <td>...</td>\n",
       "    </tr>\n",
       "    <tr>\n",
       "      <th>240119</th>\n",
       "      <td>10919</td>\n",
       "      <td>days</td>\n",
       "      <td>11:51:54.307792</td>\n",
       "    </tr>\n",
       "    <tr>\n",
       "      <th>240120</th>\n",
       "      <td>11757</td>\n",
       "      <td>days</td>\n",
       "      <td>11:51:54.307792</td>\n",
       "    </tr>\n",
       "    <tr>\n",
       "      <th>240121</th>\n",
       "      <td>13377</td>\n",
       "      <td>days</td>\n",
       "      <td>11:51:54.307792</td>\n",
       "    </tr>\n",
       "    <tr>\n",
       "      <th>240122</th>\n",
       "      <td>10645</td>\n",
       "      <td>days</td>\n",
       "      <td>11:51:54.307792</td>\n",
       "    </tr>\n",
       "    <tr>\n",
       "      <th>240123</th>\n",
       "      <td>9136</td>\n",
       "      <td>days</td>\n",
       "      <td>11:51:54.307792</td>\n",
       "    </tr>\n",
       "  </tbody>\n",
       "</table>\n",
       "<p>240124 rows × 3 columns</p>\n",
       "</div>"
      ],
      "text/plain": [
       "            0     1                2\n",
       "0       13311  days  11:51:54.307792\n",
       "1       13528  days  11:51:54.307792\n",
       "2       13248  days  11:51:54.307792\n",
       "3       13153  days  11:51:54.307792\n",
       "4       12137  days  11:51:54.307792\n",
       "...       ...   ...              ...\n",
       "240119  10919  days  11:51:54.307792\n",
       "240120  11757  days  11:51:54.307792\n",
       "240121  13377  days  11:51:54.307792\n",
       "240122  10645  days  11:51:54.307792\n",
       "240123   9136  days  11:51:54.307792\n",
       "\n",
       "[240124 rows x 3 columns]"
      ]
     },
     "execution_count": 1296,
     "metadata": {},
     "output_type": "execute_result"
    }
   ],
   "source": [
    "# expand tenure data\n",
    "df.tenure.astype('str').str.split(' ', expand=True)"
   ]
  },
  {
   "cell_type": "code",
   "execution_count": 1303,
   "id": "18293753",
   "metadata": {},
   "outputs": [
    {
     "data": {
      "text/plain": [
       "0    13311\n",
       "1    13528\n",
       "2    13248\n",
       "3    13153\n",
       "4    12137\n",
       "Name: tenure, dtype: int64"
      ]
     },
     "execution_count": 1303,
     "metadata": {},
     "output_type": "execute_result"
    }
   ],
   "source": [
    "#  split, convert data to int\n",
    "df.tenure = df.tenure.astype('str').str.split(' ', expand=True) [0].astype('int')\n",
    "df.tenure.head()"
   ]
  },
  {
   "cell_type": "code",
   "execution_count": 1305,
   "id": "c4fafd16",
   "metadata": {},
   "outputs": [],
   "source": [
    "# get data\n",
    "tenure_df = df[['tenure', 'salary']]"
   ]
  },
  {
   "cell_type": "code",
   "execution_count": 1306,
   "id": "a0b81b3f",
   "metadata": {},
   "outputs": [
    {
     "data": {
      "text/plain": [
       "<AxesSubplot:xlabel='tenure', ylabel='salary'>"
      ]
     },
     "execution_count": 1306,
     "metadata": {},
     "output_type": "execute_result"
    },
    {
     "data": {
      "image/png": "[encoded data removed]",
      "text/plain": [
       "<Figure size 640x480 with 1 Axes>"
      ]
     },
     "metadata": {},
     "output_type": "display_data"
    }
   ],
   "source": [
    "# plot \n",
    "sns.regplot(x='tenure', y='salary',\n",
    "          data=tenure_df,\n",
    "          marker='.',\n",
    "          line_kws= {'color': 'rebeccapurple'})"
   ]
  },
  {
   "cell_type": "code",
   "execution_count": 1307,
   "id": "2949f2e7",
   "metadata": {},
   "outputs": [
    {
     "data": {
      "image/png": "[encoded data removed]",
      "text/plain": [
       "<Figure size 640x480 with 1 Axes>"
      ]
     },
     "metadata": {},
     "output_type": "display_data"
    },
    {
     "data": {
      "text/plain": [
       "<AxesSubplot:>"
      ]
     },
     "execution_count": 1307,
     "metadata": {},
     "output_type": "execute_result"
    },
    {
     "data": {
      "image/png": "[encoded data removed]",
      "text/plain": [
       "<Figure size 640x480 with 1 Axes>"
      ]
     },
     "metadata": {},
     "output_type": "display_data"
    }
   ],
   "source": [
    "# check normalcy \n",
    "tenure_df.tenure.hist()\n",
    "plt.show()\n",
    "tenure_df.salary.hist()"
   ]
  },
  {
   "cell_type": "markdown",
   "id": "0ba2be11",
   "metadata": {},
   "source": [
    "The disributions are not normal, use Spearmans test"
   ]
  },
  {
   "cell_type": "code",
   "execution_count": 1310,
   "id": "ac438d3f",
   "metadata": {},
   "outputs": [
    {
     "name": "stdout",
     "output_type": "stream",
     "text": [
      "0.3128783525010577 0.0\n"
     ]
    },
    {
     "data": {
      "text/plain": [
       "'We rejected Null Hypothesis. There is a linear corelation. (p-value): 0.0'"
      ]
     },
     "execution_count": 1310,
     "metadata": {},
     "output_type": "execute_result"
    }
   ],
   "source": [
    "# run test\n",
    "\n",
    "r, p = stats.spearmanr(tenure_df.tenure, tenure_df.salary)\n",
    "print(r, p)\n",
    "\n",
    "eval_result(alpha, p)"
   ]
  },
  {
   "cell_type": "code",
   "execution_count": null,
   "id": "9236aa7d",
   "metadata": {},
   "outputs": [],
   "source": [
    "### Conclusion:\n",
    "There is a moderate corelation between tenure and salary"
   ]
  },
  {
   "cell_type": "code",
   "execution_count": null,
   "id": "d12b9a29",
   "metadata": {},
   "outputs": [],
   "source": [
    "#### Is there a relationship between employee tenure and the number of tittles they have had?\n"
   ]
  },
  {
   "cell_type": "code",
   "execution_count": null,
   "id": "c70a662b",
   "metadata": {},
   "outputs": [],
   "source": [
    "aplha = 0.05\n"
   ]
  },
  {
   "cell_type": "markdown",
   "id": "5b56f404",
   "metadata": {},
   "source": [
    "-----\n",
    "\n",
    "\n",
    "SELECT emp_no, count(title) AS num_titles\n",
    "FROM titles\n",
    "GROUP BY emp_no\n",
    "\n",
    "SELECT emp_no, datediff(now(), min(from_date)) AS tenure\n",
    "FROM titles\n",
    "GROUP BY emp_no\n",
    "HAVING max(to_date)= '9999-01-01'\n",
    "\n",
    "\n",
    "\n",
    "SELECT t.emp_no, count(t.title) AS num_titles, te.tenure\n",
    "FROM titles t\n",
    "JOIN (SELECT emp_no, datediff(now(), min(from_date)) AS tenure\n",
    "    FROM titles\n",
    "    GROUP BY emp_no\n",
    "    HAVING max(to_date)= '9999-01-01'\n",
    "    ) te using (emp_no)\n",
    "GROUP BY t.emp_no;"
   ]
  },
  {
   "cell_type": "code",
   "execution_count": 1316,
   "id": "e4690b4c",
   "metadata": {},
   "outputs": [],
   "source": [
    "querry = \"\"\"\n",
    "    SELECT t.emp_no, count(t.title) AS num_titles, te.tenure\n",
    "    FROM titles t\n",
    "    JOIN (SELECT emp_no, datediff(now(), min(from_date)) AS tenure\n",
    "        FROM titles\n",
    "        GROUP BY emp_no\n",
    "        HAVING max(to_date)= '9999-01-01'\n",
    "        ) te using (emp_no)\n",
    "    GROUP BY t.emp_no;\n",
    "    \"\"\""
   ]
  },
  {
   "cell_type": "code",
   "execution_count": 1317,
   "id": "30d1b21e",
   "metadata": {},
   "outputs": [],
   "source": [
    "url = f'mysql+pymysql://{username}:{password}@{host}/employees'\n",
    "df = pd.read_sql(querry, url)"
   ]
  },
  {
   "cell_type": "code",
   "execution_count": 1318,
   "id": "92d50f19",
   "metadata": {},
   "outputs": [
    {
     "data": {
      "text/html": [
       "<div>\n",
       "<style scoped>\n",
       "    .dataframe tbody tr th:only-of-type {\n",
       "        vertical-align: middle;\n",
       "    }\n",
       "\n",
       "    .dataframe tbody tr th {\n",
       "        vertical-align: top;\n",
       "    }\n",
       "\n",
       "    .dataframe thead th {\n",
       "        text-align: right;\n",
       "    }\n",
       "</style>\n",
       "<table border=\"1\" class=\"dataframe\">\n",
       "  <thead>\n",
       "    <tr style=\"text-align: right;\">\n",
       "      <th></th>\n",
       "      <th>emp_no</th>\n",
       "      <th>num_titles</th>\n",
       "      <th>tenure</th>\n",
       "    </tr>\n",
       "  </thead>\n",
       "  <tbody>\n",
       "    <tr>\n",
       "      <th>0</th>\n",
       "      <td>10001</td>\n",
       "      <td>1</td>\n",
       "      <td>13311</td>\n",
       "    </tr>\n",
       "    <tr>\n",
       "      <th>1</th>\n",
       "      <td>10002</td>\n",
       "      <td>1</td>\n",
       "      <td>9620</td>\n",
       "    </tr>\n",
       "    <tr>\n",
       "      <th>2</th>\n",
       "      <td>10003</td>\n",
       "      <td>1</td>\n",
       "      <td>9864</td>\n",
       "    </tr>\n",
       "    <tr>\n",
       "      <th>3</th>\n",
       "      <td>10004</td>\n",
       "      <td>2</td>\n",
       "      <td>13153</td>\n",
       "    </tr>\n",
       "    <tr>\n",
       "      <th>4</th>\n",
       "      <td>10005</td>\n",
       "      <td>2</td>\n",
       "      <td>12137</td>\n",
       "    </tr>\n",
       "  </tbody>\n",
       "</table>\n",
       "</div>"
      ],
      "text/plain": [
       "   emp_no  num_titles  tenure\n",
       "0   10001           1   13311\n",
       "1   10002           1    9620\n",
       "2   10003           1    9864\n",
       "3   10004           2   13153\n",
       "4   10005           2   12137"
      ]
     },
     "execution_count": 1318,
     "metadata": {},
     "output_type": "execute_result"
    }
   ],
   "source": [
    "df.head()"
   ]
  },
  {
   "cell_type": "code",
   "execution_count": 1321,
   "id": "500ee018",
   "metadata": {},
   "outputs": [],
   "source": [
    "df = df[['num_titles', 'tenure']]"
   ]
  },
  {
   "cell_type": "code",
   "execution_count": 1322,
   "id": "f990be69",
   "metadata": {},
   "outputs": [
    {
     "data": {
      "text/plain": [
       "<AxesSubplot:xlabel='tenure', ylabel='num_titles'>"
      ]
     },
     "execution_count": 1322,
     "metadata": {},
     "output_type": "execute_result"
    },
    {
     "data": {
      "image/png": "[encoded data removed]",
      "text/plain": [
       "<Figure size 640x480 with 1 Axes>"
      ]
     },
     "metadata": {},
     "output_type": "display_data"
    }
   ],
   "source": [
    "sns.regplot(x='tenure', y='num_titles',\n",
    "          data=df,\n",
    "          marker='.',\n",
    "          line_kws= {'color': 'rebeccapurple'})"
   ]
  },
  {
   "cell_type": "markdown",
   "id": "46f780d0",
   "metadata": {},
   "source": [
    "Discrete value, use ANOVA or Kruakl Wallis test to test wheter the average salary of those with 1 title is different \n",
    "from "
   ]
  },
  {
   "cell_type": "code",
   "execution_count": 1323,
   "id": "b1f07ea5",
   "metadata": {},
   "outputs": [
    {
     "data": {
      "text/plain": [
       "LeveneResult(statistic=718602.1569097865, pvalue=0.0)"
      ]
     },
     "execution_count": 1323,
     "metadata": {},
     "output_type": "execute_result"
    }
   ],
   "source": [
    "stats.levene(df.num_titles, df.tenure)"
   ]
  },
  {
   "cell_type": "code",
   "execution_count": 1324,
   "id": "c292cba3",
   "metadata": {},
   "outputs": [
    {
     "data": {
      "text/plain": [
       "KruskalResult(statistic=371488.64419334417, pvalue=0.0)"
      ]
     },
     "execution_count": 1324,
     "metadata": {},
     "output_type": "execute_result"
    }
   ],
   "source": [
    "stats.kruskal(df.num_titles, df.tenure)"
   ]
  },
  {
   "cell_type": "code",
   "execution_count": 1325,
   "id": "6bb0c457",
   "metadata": {},
   "outputs": [
    {
     "data": {
      "text/plain": [
       "'We rejected Null Hypothesis. There is a linear corelation. (p-value): 0.0'"
      ]
     },
     "execution_count": 1325,
     "metadata": {},
     "output_type": "execute_result"
    }
   ],
   "source": [
    "eval_result(alpha, p)"
   ]
  },
  {
   "cell_type": "markdown",
   "id": "c418458b",
   "metadata": {},
   "source": [
    "#### 4. Use the sleepstudy data.\n",
    "    - Is there a relationship between days and reaction time?"
   ]
  },
  {
   "cell_type": "markdown",
   "id": "d4052d56",
   "metadata": {},
   "source": [
    "#### Hypothesis\n",
    "\n",
    "H_0: There is a no relationship between days and reaction time\n",
    "\n",
    "H_a: These is relationhip between days and reaction time"
   ]
  },
  {
   "cell_type": "code",
   "execution_count": 1327,
   "id": "c9763552",
   "metadata": {},
   "outputs": [
    {
     "data": {
      "text/html": [
       "<div>\n",
       "<style scoped>\n",
       "    .dataframe tbody tr th:only-of-type {\n",
       "        vertical-align: middle;\n",
       "    }\n",
       "\n",
       "    .dataframe tbody tr th {\n",
       "        vertical-align: top;\n",
       "    }\n",
       "\n",
       "    .dataframe thead th {\n",
       "        text-align: right;\n",
       "    }\n",
       "</style>\n",
       "<table border=\"1\" class=\"dataframe\">\n",
       "  <thead>\n",
       "    <tr style=\"text-align: right;\">\n",
       "      <th></th>\n",
       "      <th>Reaction</th>\n",
       "      <th>Days</th>\n",
       "      <th>Subject</th>\n",
       "    </tr>\n",
       "  </thead>\n",
       "  <tbody>\n",
       "    <tr>\n",
       "      <th>1</th>\n",
       "      <td>249.5600</td>\n",
       "      <td>0</td>\n",
       "      <td>308</td>\n",
       "    </tr>\n",
       "    <tr>\n",
       "      <th>2</th>\n",
       "      <td>258.7047</td>\n",
       "      <td>1</td>\n",
       "      <td>308</td>\n",
       "    </tr>\n",
       "    <tr>\n",
       "      <th>3</th>\n",
       "      <td>250.8006</td>\n",
       "      <td>2</td>\n",
       "      <td>308</td>\n",
       "    </tr>\n",
       "    <tr>\n",
       "      <th>4</th>\n",
       "      <td>321.4398</td>\n",
       "      <td>3</td>\n",
       "      <td>308</td>\n",
       "    </tr>\n",
       "    <tr>\n",
       "      <th>5</th>\n",
       "      <td>356.8519</td>\n",
       "      <td>4</td>\n",
       "      <td>308</td>\n",
       "    </tr>\n",
       "  </tbody>\n",
       "</table>\n",
       "</div>"
      ],
      "text/plain": [
       "   Reaction  Days  Subject\n",
       "1  249.5600     0      308\n",
       "2  258.7047     1      308\n",
       "3  250.8006     2      308\n",
       "4  321.4398     3      308\n",
       "5  356.8519     4      308"
      ]
     },
     "execution_count": 1327,
     "metadata": {},
     "output_type": "execute_result"
    }
   ],
   "source": [
    "df = data('sleepstudy')\n",
    "df.head()"
   ]
  },
  {
   "cell_type": "code",
   "execution_count": 1328,
   "id": "2c4c114b",
   "metadata": {},
   "outputs": [
    {
     "name": "stdout",
     "output_type": "stream",
     "text": [
      "<class 'pandas.core.frame.DataFrame'>\n",
      "Int64Index: 180 entries, 1 to 180\n",
      "Data columns (total 3 columns):\n",
      " #   Column    Non-Null Count  Dtype  \n",
      "---  ------    --------------  -----  \n",
      " 0   Reaction  180 non-null    float64\n",
      " 1   Days      180 non-null    int64  \n",
      " 2   Subject   180 non-null    int64  \n",
      "dtypes: float64(1), int64(2)\n",
      "memory usage: 5.6 KB\n"
     ]
    }
   ],
   "source": [
    "df.info()"
   ]
  },
  {
   "cell_type": "code",
   "execution_count": 1330,
   "id": "2ea62ab8",
   "metadata": {},
   "outputs": [],
   "source": [
    "df = df[['Days', 'Reaction']]"
   ]
  },
  {
   "cell_type": "code",
   "execution_count": 1335,
   "id": "c00ce5e8",
   "metadata": {},
   "outputs": [
    {
     "data": {
      "text/plain": [
       "<AxesSubplot:xlabel='Days', ylabel='Reaction'>"
      ]
     },
     "execution_count": 1335,
     "metadata": {},
     "output_type": "execute_result"
    },
    {
     "data": {
      "image/png": "[encoded data removed]",
      "text/plain": [
       "<Figure size 640x480 with 1 Axes>"
      ]
     },
     "metadata": {},
     "output_type": "display_data"
    }
   ],
   "source": [
    "sns.regplot(x='Days', y='Reaction',\n",
    "          data=df,\n",
    "          marker='.',\n",
    "          line_kws= {'color': 'rebeccapurple'})"
   ]
  },
  {
   "cell_type": "code",
   "execution_count": 1331,
   "id": "920c03e1",
   "metadata": {},
   "outputs": [
    {
     "data": {
      "text/plain": [
       "<AxesSubplot:>"
      ]
     },
     "execution_count": 1331,
     "metadata": {},
     "output_type": "execute_result"
    },
    {
     "data": {
      "image/png": "[encoded data removed]",
      "text/plain": [
       "<Figure size 640x480 with 1 Axes>"
      ]
     },
     "metadata": {},
     "output_type": "display_data"
    }
   ],
   "source": [
    "df.Days.hist()\n"
   ]
  },
  {
   "cell_type": "code",
   "execution_count": 1332,
   "id": "5b7352a7",
   "metadata": {},
   "outputs": [
    {
     "data": {
      "text/plain": [
       "<AxesSubplot:>"
      ]
     },
     "execution_count": 1332,
     "metadata": {},
     "output_type": "execute_result"
    },
    {
     "data": {
      "image/png": "[encoded data removed]",
      "text/plain": [
       "<Figure size 640x480 with 1 Axes>"
      ]
     },
     "metadata": {},
     "output_type": "display_data"
    }
   ],
   "source": [
    "df.Reaction.hist()"
   ]
  },
  {
   "cell_type": "markdown",
   "id": "75e1ab71",
   "metadata": {},
   "source": [
    "Days is uniformly distributed, and reaction time is normally distributed"
   ]
  },
  {
   "cell_type": "code",
   "execution_count": 1333,
   "id": "fc5b22fb",
   "metadata": {},
   "outputs": [
    {
     "data": {
      "text/plain": [
       "(0.5228138502259547, 5.132878057706873e-14)"
      ]
     },
     "execution_count": 1333,
     "metadata": {},
     "output_type": "execute_result"
    }
   ],
   "source": [
    "r, p = stats.spearmanr(sleepstudy_df.Reaction, sleepstudy_df.Days)\n",
    "\n",
    "r, p"
   ]
  },
  {
   "cell_type": "code",
   "execution_count": 1334,
   "id": "db32f54f",
   "metadata": {},
   "outputs": [
    {
     "data": {
      "text/plain": [
       "'We rejected Null Hypothesis. There is a linear corelation. (p-value): 5.132878057706873e-14'"
      ]
     },
     "execution_count": 1334,
     "metadata": {},
     "output_type": "execute_result"
    }
   ],
   "source": [
    "eval_result(alpha, p)"
   ]
  },
  {
   "cell_type": "markdown",
   "id": "84c4ecf5",
   "metadata": {},
   "source": [
    "#### Conclusion:¶\n",
    "We rejected the Null Hypothesis, there is moderate relationship between days and reaction time"
   ]
  },
  {
   "cell_type": "markdown",
   "id": "7295dac4",
   "metadata": {},
   "source": [
    "---\n",
    "### Chi Square Exercises"
   ]
  },
  {
   "cell_type": "markdown",
   "id": "fed5cd29",
   "metadata": {},
   "source": [
    "#### 1. Answer with the type of stats test you would use (assume normal distribution):\n",
    "\n",
    "- Do students get better test grades if they have a rubber duck on their desk?\n",
    "\n",
    "    Chi-Square Contingency Test\n",
    "    \n",
    "- Does smoking affect when or not someone has lung cancer?\n",
    "\n",
    "    Chi-Square Contingency Test\n",
    "    \n",
    "- Is gender independent of a person’s blood type?\n",
    "\n",
    "    Chi-Square Contingency Test\n",
    "    \n",
    "- A farming company wants to know if a new fertilizer has improved crop yield or not\n",
    "\n",
    "   T test\n",
    "   \n",
    "- Does the length of time of the lecture correlate with a students grade?\n",
    "\n",
    "    Pearson's R\n",
    "\n",
    "- Do people with dogs live in apartments more than people with cats?\n",
    "\n",
    "    T test"
   ]
  },
  {
   "cell_type": "markdown",
   "id": "f673bb61",
   "metadata": {},
   "source": [
    "#### 2. Use the following contingency table to help answer the question of whether using a macbook and being a codeup student are independent of each other.\n",
    "\n",
    "                  Codeup Student\tNot Codeup Student\n",
    "                        \n",
    "- Uses a Macbook\t       49\t            20\n",
    "- Doesn't Use A Macbook\t   1\t            30"
   ]
  },
  {
   "cell_type": "code",
   "execution_count": 1579,
   "id": "d309125f",
   "metadata": {},
   "outputs": [
    {
     "data": {
      "text/html": [
       "<div>\n",
       "<style scoped>\n",
       "    .dataframe tbody tr th:only-of-type {\n",
       "        vertical-align: middle;\n",
       "    }\n",
       "\n",
       "    .dataframe tbody tr th {\n",
       "        vertical-align: top;\n",
       "    }\n",
       "\n",
       "    .dataframe thead th {\n",
       "        text-align: right;\n",
       "    }\n",
       "</style>\n",
       "<table border=\"1\" class=\"dataframe\">\n",
       "  <thead>\n",
       "    <tr style=\"text-align: right;\">\n",
       "      <th></th>\n",
       "      <th>Codeup_Student</th>\n",
       "      <th>Not_Codeup_Student</th>\n",
       "    </tr>\n",
       "  </thead>\n",
       "  <tbody>\n",
       "    <tr>\n",
       "      <th>Uses_a_Macbook</th>\n",
       "      <td>49</td>\n",
       "      <td>20</td>\n",
       "    </tr>\n",
       "    <tr>\n",
       "      <th>Doesn't_Use_a_Macbook</th>\n",
       "      <td>1</td>\n",
       "      <td>30</td>\n",
       "    </tr>\n",
       "  </tbody>\n",
       "</table>\n",
       "</div>"
      ],
      "text/plain": [
       "                       Codeup_Student  Not_Codeup_Student\n",
       "Uses_a_Macbook                     49                  20\n",
       "Doesn't_Use_a_Macbook               1                  30"
      ]
     },
     "execution_count": 1579,
     "metadata": {},
     "output_type": "execute_result"
    }
   ],
   "source": [
    "data_1 = [49,20],[1,30]\n",
    "# create dataframe with columns name and index name\n",
    "observed= pd.DataFrame(data_1, index =['Uses_a_Macbook','Doesn\\'t_Use_a_Macbook'], columns=['Codeup_Student', 'Not_Codeup_Student'])\n",
    "observed\n"
   ]
  },
  {
   "cell_type": "markdown",
   "id": "da5510b0",
   "metadata": {},
   "source": [
    "### Hypothesis:\n",
    "\n",
    "𝐻0 : Macbook user is independent of being a codeupstudent\n",
    "\n",
    "𝐻𝑎 : Macbook user is dependent of being a codeupstudent"
   ]
  },
  {
   "cell_type": "code",
   "execution_count": 1581,
   "id": "09303b07",
   "metadata": {},
   "outputs": [
    {
     "data": {
      "text/plain": [
       "(36.65264142122487,\n",
       " 1.4116760526193828e-09,\n",
       " 1,\n",
       " array([[34.5, 34.5],\n",
       "        [15.5, 15.5]]))"
      ]
     },
     "execution_count": 1581,
     "metadata": {},
     "output_type": "execute_result"
    }
   ],
   "source": [
    "# set alpha\n",
    "alpha = 0.05\n",
    "\n",
    "# run chi2_contingency \n",
    "chi2, p, degf, expected = stats.chi2_contingency(observed)\n",
    "chi2, p, degf, expected"
   ]
  },
  {
   "cell_type": "code",
   "execution_count": 1586,
   "id": "6e9a1452",
   "metadata": {},
   "outputs": [
    {
     "name": "stdout",
     "output_type": "stream",
     "text": [
      "We rejected Null Hypothesis. There is no relationship between Macbook users and codeup students. (p-value: 1.4116760526193828e-09)\n"
     ]
    }
   ],
   "source": [
    "# compare p-value\n",
    "\n",
    "if p < alpha:\n",
    "    print(f'We rejected Null Hypothesis. There is no relationship between Macbook users and codeup students. (p-value: {p})')\n",
    "else:\n",
    "    print(f'We fail to reject Null Hypothesis.There is relationship between Macbook users and codeup students.(p-value: {p})')"
   ]
  },
  {
   "cell_type": "markdown",
   "id": "676bdec2",
   "metadata": {},
   "source": [
    "#### 3. Choose another 2 categorical variables from the mpg dataset and perform a $chi^2$ contingency table test with them. Be sure to state your null and alternative hypotheses."
   ]
  },
  {
   "cell_type": "code",
   "execution_count": 1576,
   "id": "83de9c92",
   "metadata": {},
   "outputs": [
    {
     "data": {
      "text/html": [
       "<div>\n",
       "<style scoped>\n",
       "    .dataframe tbody tr th:only-of-type {\n",
       "        vertical-align: middle;\n",
       "    }\n",
       "\n",
       "    .dataframe tbody tr th {\n",
       "        vertical-align: top;\n",
       "    }\n",
       "\n",
       "    .dataframe thead th {\n",
       "        text-align: right;\n",
       "    }\n",
       "</style>\n",
       "<table border=\"1\" class=\"dataframe\">\n",
       "  <thead>\n",
       "    <tr style=\"text-align: right;\">\n",
       "      <th></th>\n",
       "      <th>manufacturer</th>\n",
       "      <th>model</th>\n",
       "      <th>displ</th>\n",
       "      <th>year</th>\n",
       "      <th>cyl</th>\n",
       "      <th>trans</th>\n",
       "      <th>drv</th>\n",
       "      <th>cty</th>\n",
       "      <th>hwy</th>\n",
       "      <th>fl</th>\n",
       "      <th>class</th>\n",
       "    </tr>\n",
       "  </thead>\n",
       "  <tbody>\n",
       "    <tr>\n",
       "      <th>1</th>\n",
       "      <td>audi</td>\n",
       "      <td>a4</td>\n",
       "      <td>1.8</td>\n",
       "      <td>1999</td>\n",
       "      <td>4</td>\n",
       "      <td>auto(l5)</td>\n",
       "      <td>f</td>\n",
       "      <td>18</td>\n",
       "      <td>29</td>\n",
       "      <td>p</td>\n",
       "      <td>compact</td>\n",
       "    </tr>\n",
       "    <tr>\n",
       "      <th>2</th>\n",
       "      <td>audi</td>\n",
       "      <td>a4</td>\n",
       "      <td>1.8</td>\n",
       "      <td>1999</td>\n",
       "      <td>4</td>\n",
       "      <td>manual(m5)</td>\n",
       "      <td>f</td>\n",
       "      <td>21</td>\n",
       "      <td>29</td>\n",
       "      <td>p</td>\n",
       "      <td>compact</td>\n",
       "    </tr>\n",
       "    <tr>\n",
       "      <th>3</th>\n",
       "      <td>audi</td>\n",
       "      <td>a4</td>\n",
       "      <td>2.0</td>\n",
       "      <td>2008</td>\n",
       "      <td>4</td>\n",
       "      <td>manual(m6)</td>\n",
       "      <td>f</td>\n",
       "      <td>20</td>\n",
       "      <td>31</td>\n",
       "      <td>p</td>\n",
       "      <td>compact</td>\n",
       "    </tr>\n",
       "    <tr>\n",
       "      <th>4</th>\n",
       "      <td>audi</td>\n",
       "      <td>a4</td>\n",
       "      <td>2.0</td>\n",
       "      <td>2008</td>\n",
       "      <td>4</td>\n",
       "      <td>auto(av)</td>\n",
       "      <td>f</td>\n",
       "      <td>21</td>\n",
       "      <td>30</td>\n",
       "      <td>p</td>\n",
       "      <td>compact</td>\n",
       "    </tr>\n",
       "    <tr>\n",
       "      <th>5</th>\n",
       "      <td>audi</td>\n",
       "      <td>a4</td>\n",
       "      <td>2.8</td>\n",
       "      <td>1999</td>\n",
       "      <td>6</td>\n",
       "      <td>auto(l5)</td>\n",
       "      <td>f</td>\n",
       "      <td>16</td>\n",
       "      <td>26</td>\n",
       "      <td>p</td>\n",
       "      <td>compact</td>\n",
       "    </tr>\n",
       "  </tbody>\n",
       "</table>\n",
       "</div>"
      ],
      "text/plain": [
       "  manufacturer model  displ  year  cyl       trans drv  cty  hwy fl    class\n",
       "1         audi    a4    1.8  1999    4    auto(l5)   f   18   29  p  compact\n",
       "2         audi    a4    1.8  1999    4  manual(m5)   f   21   29  p  compact\n",
       "3         audi    a4    2.0  2008    4  manual(m6)   f   20   31  p  compact\n",
       "4         audi    a4    2.0  2008    4    auto(av)   f   21   30  p  compact\n",
       "5         audi    a4    2.8  1999    6    auto(l5)   f   16   26  p  compact"
      ]
     },
     "execution_count": 1576,
     "metadata": {},
     "output_type": "execute_result"
    }
   ],
   "source": [
    "mpg = data('mpg')\n",
    "mpg.head()"
   ]
  },
  {
   "cell_type": "markdown",
   "id": "66963148",
   "metadata": {},
   "source": [
    "### Hypothesis:\n",
    "\n",
    "𝐻0 : drive is independent of manufacturer\n",
    "\n",
    "𝐻𝑎 : drive is dependent of manufacturer"
   ]
  },
  {
   "cell_type": "code",
   "execution_count": 1477,
   "id": "ad84bbe6",
   "metadata": {},
   "outputs": [
    {
     "data": {
      "text/plain": [
       "f    106\n",
       "4    103\n",
       "r     25\n",
       "Name: drv, dtype: int64"
      ]
     },
     "execution_count": 1477,
     "metadata": {},
     "output_type": "execute_result"
    }
   ],
   "source": [
    "# check values and data types\n",
    "mpg.drv.value_counts()"
   ]
  },
  {
   "cell_type": "code",
   "execution_count": 1478,
   "id": "57cf7e08",
   "metadata": {},
   "outputs": [
    {
     "data": {
      "text/plain": [
       "dodge         37\n",
       "toyota        34\n",
       "volkswagen    27\n",
       "ford          25\n",
       "chevrolet     19\n",
       "audi          18\n",
       "hyundai       14\n",
       "subaru        14\n",
       "nissan        13\n",
       "honda          9\n",
       "jeep           8\n",
       "pontiac        5\n",
       "land rover     4\n",
       "mercury        4\n",
       "lincoln        3\n",
       "Name: manufacturer, dtype: int64"
      ]
     },
     "execution_count": 1478,
     "metadata": {},
     "output_type": "execute_result"
    }
   ],
   "source": [
    "# check values and data types\n",
    "mpg.manufacturer.value_counts()"
   ]
  },
  {
   "cell_type": "code",
   "execution_count": 1398,
   "id": "f0fc1075",
   "metadata": {},
   "outputs": [
    {
     "data": {
      "text/html": [
       "<div>\n",
       "<style scoped>\n",
       "    .dataframe tbody tr th:only-of-type {\n",
       "        vertical-align: middle;\n",
       "    }\n",
       "\n",
       "    .dataframe tbody tr th {\n",
       "        vertical-align: top;\n",
       "    }\n",
       "\n",
       "    .dataframe thead th {\n",
       "        text-align: right;\n",
       "    }\n",
       "</style>\n",
       "<table border=\"1\" class=\"dataframe\">\n",
       "  <thead>\n",
       "    <tr style=\"text-align: right;\">\n",
       "      <th>manufacturer</th>\n",
       "      <th>audi</th>\n",
       "      <th>chevrolet</th>\n",
       "      <th>dodge</th>\n",
       "      <th>ford</th>\n",
       "      <th>honda</th>\n",
       "      <th>hyundai</th>\n",
       "      <th>jeep</th>\n",
       "      <th>land rover</th>\n",
       "      <th>lincoln</th>\n",
       "      <th>mercury</th>\n",
       "      <th>nissan</th>\n",
       "      <th>pontiac</th>\n",
       "      <th>subaru</th>\n",
       "      <th>toyota</th>\n",
       "      <th>volkswagen</th>\n",
       "    </tr>\n",
       "    <tr>\n",
       "      <th>drv</th>\n",
       "      <th></th>\n",
       "      <th></th>\n",
       "      <th></th>\n",
       "      <th></th>\n",
       "      <th></th>\n",
       "      <th></th>\n",
       "      <th></th>\n",
       "      <th></th>\n",
       "      <th></th>\n",
       "      <th></th>\n",
       "      <th></th>\n",
       "      <th></th>\n",
       "      <th></th>\n",
       "      <th></th>\n",
       "      <th></th>\n",
       "    </tr>\n",
       "  </thead>\n",
       "  <tbody>\n",
       "    <tr>\n",
       "      <th>4</th>\n",
       "      <td>11</td>\n",
       "      <td>4</td>\n",
       "      <td>26</td>\n",
       "      <td>13</td>\n",
       "      <td>0</td>\n",
       "      <td>0</td>\n",
       "      <td>8</td>\n",
       "      <td>4</td>\n",
       "      <td>0</td>\n",
       "      <td>4</td>\n",
       "      <td>4</td>\n",
       "      <td>0</td>\n",
       "      <td>14</td>\n",
       "      <td>15</td>\n",
       "      <td>0</td>\n",
       "    </tr>\n",
       "    <tr>\n",
       "      <th>f</th>\n",
       "      <td>7</td>\n",
       "      <td>5</td>\n",
       "      <td>11</td>\n",
       "      <td>0</td>\n",
       "      <td>9</td>\n",
       "      <td>14</td>\n",
       "      <td>0</td>\n",
       "      <td>0</td>\n",
       "      <td>0</td>\n",
       "      <td>0</td>\n",
       "      <td>9</td>\n",
       "      <td>5</td>\n",
       "      <td>0</td>\n",
       "      <td>19</td>\n",
       "      <td>27</td>\n",
       "    </tr>\n",
       "    <tr>\n",
       "      <th>r</th>\n",
       "      <td>0</td>\n",
       "      <td>10</td>\n",
       "      <td>0</td>\n",
       "      <td>12</td>\n",
       "      <td>0</td>\n",
       "      <td>0</td>\n",
       "      <td>0</td>\n",
       "      <td>0</td>\n",
       "      <td>3</td>\n",
       "      <td>0</td>\n",
       "      <td>0</td>\n",
       "      <td>0</td>\n",
       "      <td>0</td>\n",
       "      <td>0</td>\n",
       "      <td>0</td>\n",
       "    </tr>\n",
       "  </tbody>\n",
       "</table>\n",
       "</div>"
      ],
      "text/plain": [
       "manufacturer  audi  chevrolet  dodge  ford  honda  hyundai  jeep  land rover  \\\n",
       "drv                                                                            \n",
       "4               11          4     26    13      0        0     8           4   \n",
       "f                7          5     11     0      9       14     0           0   \n",
       "r                0         10      0    12      0        0     0           0   \n",
       "\n",
       "manufacturer  lincoln  mercury  nissan  pontiac  subaru  toyota  volkswagen  \n",
       "drv                                                                          \n",
       "4                   0        4       4        0      14      15           0  \n",
       "f                   0        0       9        5       0      19          27  \n",
       "r                   3        0       0        0       0       0           0  "
      ]
     },
     "execution_count": 1398,
     "metadata": {},
     "output_type": "execute_result"
    }
   ],
   "source": [
    "# create crosstab\n",
    "\n",
    "observed = pd.crosstab(mpg.drv, mpg.manufacturer)\n",
    "observed"
   ]
  },
  {
   "cell_type": "code",
   "execution_count": 1400,
   "id": "38041807",
   "metadata": {},
   "outputs": [
    {
     "data": {
      "text/plain": [
       "(232.03448840753836,\n",
       " 5.128094076734575e-34,\n",
       " 28,\n",
       " array([[ 7.92307692,  8.36324786, 16.28632479, 11.0042735 ,  3.96153846,\n",
       "          6.16239316,  3.52136752,  1.76068376,  1.32051282,  1.76068376,\n",
       "          5.72222222,  2.2008547 ,  6.16239316, 14.96581197, 11.88461538],\n",
       "        [ 8.15384615,  8.60683761, 16.76068376, 11.32478632,  4.07692308,\n",
       "          6.34188034,  3.62393162,  1.81196581,  1.35897436,  1.81196581,\n",
       "          5.88888889,  2.26495726,  6.34188034, 15.4017094 , 12.23076923],\n",
       "        [ 1.92307692,  2.02991453,  3.95299145,  2.67094017,  0.96153846,\n",
       "          1.4957265 ,  0.85470085,  0.42735043,  0.32051282,  0.42735043,\n",
       "          1.38888889,  0.53418803,  1.4957265 ,  3.63247863,  2.88461538]]))"
      ]
     },
     "execution_count": 1400,
     "metadata": {},
     "output_type": "execute_result"
    }
   ],
   "source": [
    "# set alpha\n",
    "alpha = 0.05\n",
    "\n",
    "# run chi2_contingency \n",
    "chi2, p, degf, expected = stats.chi2_contingency(observed)\n",
    "chi2, p, degf, expected \n"
   ]
  },
  {
   "cell_type": "code",
   "execution_count": 1433,
   "id": "8556f788",
   "metadata": {},
   "outputs": [],
   "source": [
    "# compare p-value\n",
    "\n",
    "def eval_results(p, alpha, group1, group2):\n",
    "    if p < alpha:\n",
    "        return(f'We rejected Null Hypothesis. There exists some relationship between {group1} and the {group2}. (p-value: {p})')\n",
    "    else:\n",
    "        return(f'We fail to reject Null Hypothesis. There is not a significant relationship between {group1} and {group2}. (p-value: {p})')\n",
    "        "
   ]
  },
  {
   "cell_type": "code",
   "execution_count": 1415,
   "id": "855fe8c3",
   "metadata": {},
   "outputs": [
    {
     "data": {
      "text/plain": [
       "'We reject Null Hypothesis. There exists some relationship between drv and the manufacturer. (p-value: 5.128094076734575e-34)'"
      ]
     },
     "execution_count": 1415,
     "metadata": {},
     "output_type": "execute_result"
    }
   ],
   "source": [
    "eval_results(p, alpha, group1='drv', group2='manufacturer')"
   ]
  },
  {
   "cell_type": "markdown",
   "id": "60e98109",
   "metadata": {},
   "source": [
    "---\n",
    "#### 4. Use the data from the employees database to answer these questions:\n",
    "\n",
    "- Is an employee's gender independent of whether an employee works in sales or marketing? (only look at current employees)\n",
    "- Is an employee's gender independent of whether or not they are or have been a manager?"
   ]
  },
  {
   "cell_type": "code",
   "execution_count": 1435,
   "id": "38eaf987",
   "metadata": {},
   "outputs": [],
   "source": [
    "querry = \"\"\"\n",
    "    SELECT e.gender, d.dept_name\n",
    "    FROM employees e\n",
    "    JOIN dept_emp de \n",
    "    USING (emp_no)\n",
    "    JOIN departments as d\n",
    "        on d.dept_no = de.dept_no\n",
    "    WHERE de.to_date ='9999-01-01' AND d.dept_name IN('Sales', 'Marketing');;\n",
    "\"\"\""
   ]
  },
  {
   "cell_type": "code",
   "execution_count": 1436,
   "id": "f37e8d51",
   "metadata": {},
   "outputs": [],
   "source": [
    "url = f'mysql+pymysql://{username}:{password}@{host}/employees'\n",
    "df = pd.read_sql(querry, url)"
   ]
  },
  {
   "cell_type": "code",
   "execution_count": 1437,
   "id": "83fc5a04",
   "metadata": {},
   "outputs": [
    {
     "data": {
      "text/html": [
       "<div>\n",
       "<style scoped>\n",
       "    .dataframe tbody tr th:only-of-type {\n",
       "        vertical-align: middle;\n",
       "    }\n",
       "\n",
       "    .dataframe tbody tr th {\n",
       "        vertical-align: top;\n",
       "    }\n",
       "\n",
       "    .dataframe thead th {\n",
       "        text-align: right;\n",
       "    }\n",
       "</style>\n",
       "<table border=\"1\" class=\"dataframe\">\n",
       "  <thead>\n",
       "    <tr style=\"text-align: right;\">\n",
       "      <th></th>\n",
       "      <th>gender</th>\n",
       "      <th>dept_name</th>\n",
       "    </tr>\n",
       "  </thead>\n",
       "  <tbody>\n",
       "    <tr>\n",
       "      <th>0</th>\n",
       "      <td>F</td>\n",
       "      <td>Marketing</td>\n",
       "    </tr>\n",
       "    <tr>\n",
       "      <th>1</th>\n",
       "      <td>M</td>\n",
       "      <td>Marketing</td>\n",
       "    </tr>\n",
       "    <tr>\n",
       "      <th>2</th>\n",
       "      <td>F</td>\n",
       "      <td>Marketing</td>\n",
       "    </tr>\n",
       "    <tr>\n",
       "      <th>3</th>\n",
       "      <td>F</td>\n",
       "      <td>Marketing</td>\n",
       "    </tr>\n",
       "    <tr>\n",
       "      <th>4</th>\n",
       "      <td>F</td>\n",
       "      <td>Marketing</td>\n",
       "    </tr>\n",
       "  </tbody>\n",
       "</table>\n",
       "</div>"
      ],
      "text/plain": [
       "  gender  dept_name\n",
       "0      F  Marketing\n",
       "1      M  Marketing\n",
       "2      F  Marketing\n",
       "3      F  Marketing\n",
       "4      F  Marketing"
      ]
     },
     "execution_count": 1437,
     "metadata": {},
     "output_type": "execute_result"
    }
   ],
   "source": [
    "df.head()"
   ]
  },
  {
   "cell_type": "markdown",
   "id": "5172f67b",
   "metadata": {},
   "source": [
    "#### Hypothesis: \n",
    "$H_{0}$: gender is independent of whether an employee works in sales or marketing\n",
    "\n",
    "$H_{a}$: gender is dependent of whether an employee works in sales or marketing"
   ]
  },
  {
   "cell_type": "code",
   "execution_count": 1439,
   "id": "89dd5ec8",
   "metadata": {},
   "outputs": [
    {
     "data": {
      "text/plain": [
       "M    31680\n",
       "F    20863\n",
       "Name: gender, dtype: int64"
      ]
     },
     "execution_count": 1439,
     "metadata": {},
     "output_type": "execute_result"
    }
   ],
   "source": [
    "# Check values and data types\n",
    "\n",
    "df.gender.value_counts()"
   ]
  },
  {
   "cell_type": "code",
   "execution_count": 1438,
   "id": "a3bd4d2f",
   "metadata": {},
   "outputs": [
    {
     "data": {
      "text/plain": [
       "Sales        37701\n",
       "Marketing    14842\n",
       "Name: dept_name, dtype: int64"
      ]
     },
     "execution_count": 1438,
     "metadata": {},
     "output_type": "execute_result"
    }
   ],
   "source": [
    "# Check values and data types\n",
    "\n",
    "df.dept_name.value_counts()"
   ]
  },
  {
   "cell_type": "code",
   "execution_count": 1440,
   "id": "f5ca6e15",
   "metadata": {},
   "outputs": [
    {
     "data": {
      "text/html": [
       "<div>\n",
       "<style scoped>\n",
       "    .dataframe tbody tr th:only-of-type {\n",
       "        vertical-align: middle;\n",
       "    }\n",
       "\n",
       "    .dataframe tbody tr th {\n",
       "        vertical-align: top;\n",
       "    }\n",
       "\n",
       "    .dataframe thead th {\n",
       "        text-align: right;\n",
       "    }\n",
       "</style>\n",
       "<table border=\"1\" class=\"dataframe\">\n",
       "  <thead>\n",
       "    <tr style=\"text-align: right;\">\n",
       "      <th>dept_name</th>\n",
       "      <th>Marketing</th>\n",
       "      <th>Sales</th>\n",
       "    </tr>\n",
       "    <tr>\n",
       "      <th>gender</th>\n",
       "      <th></th>\n",
       "      <th></th>\n",
       "    </tr>\n",
       "  </thead>\n",
       "  <tbody>\n",
       "    <tr>\n",
       "      <th>F</th>\n",
       "      <td>5864</td>\n",
       "      <td>14999</td>\n",
       "    </tr>\n",
       "    <tr>\n",
       "      <th>M</th>\n",
       "      <td>8978</td>\n",
       "      <td>22702</td>\n",
       "    </tr>\n",
       "  </tbody>\n",
       "</table>\n",
       "</div>"
      ],
      "text/plain": [
       "dept_name  Marketing  Sales\n",
       "gender                     \n",
       "F               5864  14999\n",
       "M               8978  22702"
      ]
     },
     "execution_count": 1440,
     "metadata": {},
     "output_type": "execute_result"
    }
   ],
   "source": [
    "# create crosstab\n",
    "\n",
    "observed = pd.crosstab(df.gender, df.dept_name)\n",
    "observed"
   ]
  },
  {
   "cell_type": "code",
   "execution_count": 1441,
   "id": "4cd5b87a",
   "metadata": {},
   "outputs": [
    {
     "data": {
      "text/plain": [
       "(0.3240332004060638,\n",
       " 0.5691938610810126,\n",
       " 1,\n",
       " array([[ 5893.2426013, 14969.7573987],\n",
       "        [ 8948.7573987, 22731.2426013]]))"
      ]
     },
     "execution_count": 1441,
     "metadata": {},
     "output_type": "execute_result"
    }
   ],
   "source": [
    "# set alpha\n",
    "alpha = 0.05\n",
    "\n",
    "# run chi2_contingency \n",
    "chi2, p, degf, expected = stats.chi2_contingency(observed)\n",
    "chi2, p, degf, expected"
   ]
  },
  {
   "cell_type": "code",
   "execution_count": 1442,
   "id": "cbd77ba9",
   "metadata": {},
   "outputs": [
    {
     "data": {
      "text/plain": [
       "'We fail to reject Null Hypothesis. There is not a significant relationship between gender and dept_name. (p-value: 0.5691938610810126)'"
      ]
     },
     "execution_count": 1442,
     "metadata": {},
     "output_type": "execute_result"
    }
   ],
   "source": [
    "# compare p-value\n",
    "eval_results(p, alpha, group1='gender', group2='dept_name')"
   ]
  },
  {
   "cell_type": "markdown",
   "id": "ff1b7072",
   "metadata": {},
   "source": [
    "---\n",
    "#### Hypothesis: \n",
    "- $H_{0}$: gender is independent of whether an employee is a manger or was a manager\n",
    "- $H_{a}$: gender is dependent of whether an employee is a manager or was a manager"
   ]
  },
  {
   "cell_type": "code",
   "execution_count": 1469,
   "id": "d186da78",
   "metadata": {},
   "outputs": [],
   "source": [
    "querry= \"\"\"\n",
    "    SELECT  e.gender, d.dept_name\n",
    "    FROM employees e\n",
    "    JOIN dept_manager dm\n",
    "    USING (emp_no)\n",
    "    JOIN departments as d\n",
    "        on d.dept_no = dm.dept_no;\n",
    "    \"\"\""
   ]
  },
  {
   "cell_type": "code",
   "execution_count": 1470,
   "id": "10d8f29c",
   "metadata": {},
   "outputs": [],
   "source": [
    "url = f'mysql+pymysql://{username}:{password}@{host}/employees'\n",
    "df = pd.read_sql(querry, url)"
   ]
  },
  {
   "cell_type": "code",
   "execution_count": 1471,
   "id": "9251eb82",
   "metadata": {},
   "outputs": [
    {
     "data": {
      "text/html": [
       "<div>\n",
       "<style scoped>\n",
       "    .dataframe tbody tr th:only-of-type {\n",
       "        vertical-align: middle;\n",
       "    }\n",
       "\n",
       "    .dataframe tbody tr th {\n",
       "        vertical-align: top;\n",
       "    }\n",
       "\n",
       "    .dataframe thead th {\n",
       "        text-align: right;\n",
       "    }\n",
       "</style>\n",
       "<table border=\"1\" class=\"dataframe\">\n",
       "  <thead>\n",
       "    <tr style=\"text-align: right;\">\n",
       "      <th></th>\n",
       "      <th>gender</th>\n",
       "      <th>dept_name</th>\n",
       "    </tr>\n",
       "  </thead>\n",
       "  <tbody>\n",
       "    <tr>\n",
       "      <th>0</th>\n",
       "      <td>F</td>\n",
       "      <td>Customer Service</td>\n",
       "    </tr>\n",
       "    <tr>\n",
       "      <th>1</th>\n",
       "      <td>F</td>\n",
       "      <td>Customer Service</td>\n",
       "    </tr>\n",
       "    <tr>\n",
       "      <th>2</th>\n",
       "      <td>F</td>\n",
       "      <td>Customer Service</td>\n",
       "    </tr>\n",
       "    <tr>\n",
       "      <th>3</th>\n",
       "      <td>M</td>\n",
       "      <td>Customer Service</td>\n",
       "    </tr>\n",
       "    <tr>\n",
       "      <th>4</th>\n",
       "      <td>M</td>\n",
       "      <td>Development</td>\n",
       "    </tr>\n",
       "  </tbody>\n",
       "</table>\n",
       "</div>"
      ],
      "text/plain": [
       "  gender         dept_name\n",
       "0      F  Customer Service\n",
       "1      F  Customer Service\n",
       "2      F  Customer Service\n",
       "3      M  Customer Service\n",
       "4      M       Development"
      ]
     },
     "execution_count": 1471,
     "metadata": {},
     "output_type": "execute_result"
    }
   ],
   "source": [
    "df.head()"
   ]
  },
  {
   "cell_type": "code",
   "execution_count": 1472,
   "id": "39d1ee39",
   "metadata": {},
   "outputs": [
    {
     "data": {
      "text/plain": [
       "F    13\n",
       "M    11\n",
       "Name: gender, dtype: int64"
      ]
     },
     "execution_count": 1472,
     "metadata": {},
     "output_type": "execute_result"
    }
   ],
   "source": [
    "# check values and data type\n",
    "\n",
    "df.gender.value_counts()"
   ]
  },
  {
   "cell_type": "code",
   "execution_count": 1473,
   "id": "666ffdc6",
   "metadata": {},
   "outputs": [
    {
     "data": {
      "text/plain": [
       "Customer Service      4\n",
       "Production            4\n",
       "Quality Management    4\n",
       "Development           2\n",
       "Finance               2\n",
       "Human Resources       2\n",
       "Marketing             2\n",
       "Research              2\n",
       "Sales                 2\n",
       "Name: dept_name, dtype: int64"
      ]
     },
     "execution_count": 1473,
     "metadata": {},
     "output_type": "execute_result"
    }
   ],
   "source": [
    "# Check values and data types\n",
    "\n",
    "df.dept_name.value_counts()"
   ]
  },
  {
   "cell_type": "code",
   "execution_count": 1474,
   "id": "3c87ab5c",
   "metadata": {},
   "outputs": [
    {
     "data": {
      "text/html": [
       "<div>\n",
       "<style scoped>\n",
       "    .dataframe tbody tr th:only-of-type {\n",
       "        vertical-align: middle;\n",
       "    }\n",
       "\n",
       "    .dataframe tbody tr th {\n",
       "        vertical-align: top;\n",
       "    }\n",
       "\n",
       "    .dataframe thead th {\n",
       "        text-align: right;\n",
       "    }\n",
       "</style>\n",
       "<table border=\"1\" class=\"dataframe\">\n",
       "  <thead>\n",
       "    <tr style=\"text-align: right;\">\n",
       "      <th>dept_name</th>\n",
       "      <th>Customer Service</th>\n",
       "      <th>Development</th>\n",
       "      <th>Finance</th>\n",
       "      <th>Human Resources</th>\n",
       "      <th>Marketing</th>\n",
       "      <th>Production</th>\n",
       "      <th>Quality Management</th>\n",
       "      <th>Research</th>\n",
       "      <th>Sales</th>\n",
       "    </tr>\n",
       "    <tr>\n",
       "      <th>gender</th>\n",
       "      <th></th>\n",
       "      <th></th>\n",
       "      <th></th>\n",
       "      <th></th>\n",
       "      <th></th>\n",
       "      <th></th>\n",
       "      <th></th>\n",
       "      <th></th>\n",
       "      <th></th>\n",
       "    </tr>\n",
       "  </thead>\n",
       "  <tbody>\n",
       "    <tr>\n",
       "      <th>F</th>\n",
       "      <td>3</td>\n",
       "      <td>1</td>\n",
       "      <td>1</td>\n",
       "      <td>2</td>\n",
       "      <td>0</td>\n",
       "      <td>2</td>\n",
       "      <td>3</td>\n",
       "      <td>1</td>\n",
       "      <td>0</td>\n",
       "    </tr>\n",
       "    <tr>\n",
       "      <th>M</th>\n",
       "      <td>1</td>\n",
       "      <td>1</td>\n",
       "      <td>1</td>\n",
       "      <td>0</td>\n",
       "      <td>2</td>\n",
       "      <td>2</td>\n",
       "      <td>1</td>\n",
       "      <td>1</td>\n",
       "      <td>2</td>\n",
       "    </tr>\n",
       "  </tbody>\n",
       "</table>\n",
       "</div>"
      ],
      "text/plain": [
       "dept_name  Customer Service  Development  Finance  Human Resources  Marketing  \\\n",
       "gender                                                                          \n",
       "F                         3            1        1                2          0   \n",
       "M                         1            1        1                0          2   \n",
       "\n",
       "dept_name  Production  Quality Management  Research  Sales  \n",
       "gender                                                      \n",
       "F                   2                   3         1      0  \n",
       "M                   2                   1         1      2  "
      ]
     },
     "execution_count": 1474,
     "metadata": {},
     "output_type": "execute_result"
    }
   ],
   "source": [
    "# create corsstab\n",
    "\n",
    "observed = pd.crosstab(df.gender, df.dept_name)\n",
    "observed"
   ]
  },
  {
   "cell_type": "code",
   "execution_count": 1475,
   "id": "66656b1a",
   "metadata": {},
   "outputs": [
    {
     "data": {
      "text/plain": [
       "(7.888111888111888,\n",
       " 0.44447543304224046,\n",
       " 8,\n",
       " array([[2.16666667, 1.08333333, 1.08333333, 1.08333333, 1.08333333,\n",
       "         2.16666667, 2.16666667, 1.08333333, 1.08333333],\n",
       "        [1.83333333, 0.91666667, 0.91666667, 0.91666667, 0.91666667,\n",
       "         1.83333333, 1.83333333, 0.91666667, 0.91666667]]))"
      ]
     },
     "execution_count": 1475,
     "metadata": {},
     "output_type": "execute_result"
    }
   ],
   "source": [
    "# set alpha\n",
    "alpha = 0.05\n",
    "\n",
    "# run chi2_contingency \n",
    "chi2, p, degf, expected = stats.chi2_contingency(observed)\n",
    "chi2, p, degf, expected"
   ]
  },
  {
   "cell_type": "code",
   "execution_count": 1476,
   "id": "c36911c6",
   "metadata": {},
   "outputs": [
    {
     "data": {
      "text/plain": [
       "'We fail to reject Null Hypothesis. There is not a significant relationship between gender and dept_name. (p-value: 0.44447543304224046)'"
      ]
     },
     "execution_count": 1476,
     "metadata": {},
     "output_type": "execute_result"
    }
   ],
   "source": [
    "# compare p-value\n",
    "eval_results(p, alpha, group1='gender', group2='dept_name')"
   ]
  },
  {
   "cell_type": "code",
   "execution_count": null,
   "id": "51851d2f",
   "metadata": {},
   "outputs": [],
   "source": []
  }
 ],
 "metadata": {
  "kernelspec": {
   "display_name": "Python 3 (ipykernel)",
   "language": "python",
   "name": "python3"
  },
  "language_info": {
   "codemirror_mode": {
    "name": "ipython",
    "version": 3
   },
   "file_extension": ".py",
   "mimetype": "text/x-python",
   "name": "python",
   "nbconvert_exporter": "python",
   "pygments_lexer": "ipython3",
   "version": "3.9.13"
  }
 },
 "nbformat": 4,
 "nbformat_minor": 5
}
