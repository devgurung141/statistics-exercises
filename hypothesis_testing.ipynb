{
 "cells": [
  {
   "cell_type": "code",
   "execution_count": 1017,
   "id": "11692012",
   "metadata": {},
   "outputs": [],
   "source": [
    "import pandas as pd\n",
    "import numpy as np\n",
    "import matplotlib.pyplot as plt\n",
    "import scipy.stats as stats\n",
    "import seaborn as sns\n",
    "from pydataset import data\n",
    "import env\n"
   ]
  },
  {
   "cell_type": "markdown",
   "id": "ef2e6687",
   "metadata": {},
   "source": [
    "For each of the following questions, formulate a null and alternative hypothesis (be as specific as you can be), then give an example of what a true positive, true negative, type I and type II errors would look like. Note that some of the questions are intentionally phrased in a vague way. It is your job to reword these as more precise questions that could be tested.\n",
    "\n",
    "- Has the network latency gone up since we switched internet service providers?\n",
    "- Is the website redesign any good?\n",
    "- Is our television ad driving more sales?"
   ]
  },
  {
   "cell_type": "markdown",
   "id": "2a6e9b7e",
   "metadata": {},
   "source": [
    "#### Has the network latency gone up since we switched internet service providers?\n",
    "$H_{0}$ :  Service providers has no effect on network latency\n",
    "\n",
    "$H_{a}$ : Service providers has effect on network latency\n",
    "\n",
    "True Positive: we rejected Null Hypothesis, new service provider's clogged network on busy hours. \n",
    "\n",
    "True Negative: We failed to reject Null Hypothesis, playing 4k games increases network latency\n",
    "\n",
    "type I: We rejected Null Hypothesis, slow computer causes increase on network latency\n",
    "\n",
    "type II: We failed to reject Null Hypothesis, service provider's internet speed is slower than other service provider's internet speed."
   ]
  },
  {
   "cell_type": "markdown",
   "id": "237ee676",
   "metadata": {},
   "source": [
    "#### Is the website redesign any good?\n",
    "$H_{0}$ : website redesign is not good\n",
    "\n",
    "$H_{a}$ : website redesign is good\n",
    "\n",
    "True Positive: we rejected Null Hypothesis, website redsegin voted best by consumers\n",
    "\n",
    "True Negative: we failed to reject Null Hypothesis, website redsegin voted worst by consumers\n",
    "\n",
    "Type I: we rejected Null Hypothesis, number users visitng website decreases because of bad redesign\n",
    "\n",
    "Type II: we failed to reject Null Hypothesis, high number of users said that website redesign is good"
   ]
  },
  {
   "cell_type": "markdown",
   "id": "ef54db08",
   "metadata": {},
   "source": [
    "#### Is our television ad driving more sales?\n",
    "$H_{0}$ : television ad is not increasing sales\n",
    "\n",
    "$H_{a}$ : television ad increases sales\n",
    "\n",
    "True Positive: we rejected Null Hypothesis, sales remain same after television ad\n",
    "\n",
    "True Negative: we failed to reject Null Hypothesis, customers who haven't seen televsions ad increased sales\n",
    "\n",
    "type I: we rejected  Null Hypothesis, sales decreases after televison ad\n",
    "\n",
    "type II: we failed to reject Null Hypothesis, sales increases after television ad"
   ]
  },
  {
   "cell_type": "markdown",
   "id": "9edd25be",
   "metadata": {},
   "source": [
    "#### Answer with the type of test you would use (assume normal distribution):\n",
    "\n",
    "   - Is there a difference in grades of students on the second floor compared to grades of all students?\n",
    "    \n",
    "   - Are adults who drink milk taller than adults who dont drink milk?\n",
    "     \n",
    "   - Is the the price of gas higher in texas or in new mexico?    \n",
    "    \n",
    "   - Are there differences in stress levels between students who take data science vs students who take web development vs students who take cloud academy?\n",
    "   "
   ]
  },
  {
   "cell_type": "markdown",
   "id": "3e476758",
   "metadata": {},
   "source": [
    "2-tail One Sample T-Test\n",
    "\n",
    "1-tail Independent T-Test\n",
    "\n",
    "1-tail Independent T-Test, greater than\n",
    "\n",
    "ANOVA Analysis of Variance\n"
   ]
  },
  {
   "cell_type": "markdown",
   "id": "42fa6400",
   "metadata": {},
   "source": [
    "####  3. Load the mpg dataset and use it to answer the following questions:\n",
    "\n",
    "    - Is there a difference in fuel-efficiency in cars from 2008 vs 1999? \n",
    "    \n",
    "    - Are compact cars more fuel-efficient than the average car?\n",
    "    \n",
    "    - Do manual cars get better gas mileage than automatic cars?"
   ]
  },
  {
   "cell_type": "code",
   "execution_count": 1018,
   "id": "426c478a",
   "metadata": {},
   "outputs": [
    {
     "data": {
      "text/html": [
       "<div>\n",
       "<style scoped>\n",
       "    .dataframe tbody tr th:only-of-type {\n",
       "        vertical-align: middle;\n",
       "    }\n",
       "\n",
       "    .dataframe tbody tr th {\n",
       "        vertical-align: top;\n",
       "    }\n",
       "\n",
       "    .dataframe thead th {\n",
       "        text-align: right;\n",
       "    }\n",
       "</style>\n",
       "<table border=\"1\" class=\"dataframe\">\n",
       "  <thead>\n",
       "    <tr style=\"text-align: right;\">\n",
       "      <th></th>\n",
       "      <th>manufacturer</th>\n",
       "      <th>model</th>\n",
       "      <th>displ</th>\n",
       "      <th>year</th>\n",
       "      <th>cyl</th>\n",
       "      <th>trans</th>\n",
       "      <th>drv</th>\n",
       "      <th>cty</th>\n",
       "      <th>hwy</th>\n",
       "      <th>fl</th>\n",
       "      <th>class</th>\n",
       "    </tr>\n",
       "  </thead>\n",
       "  <tbody>\n",
       "    <tr>\n",
       "      <th>1</th>\n",
       "      <td>audi</td>\n",
       "      <td>a4</td>\n",
       "      <td>1.8</td>\n",
       "      <td>1999</td>\n",
       "      <td>4</td>\n",
       "      <td>auto(l5)</td>\n",
       "      <td>f</td>\n",
       "      <td>18</td>\n",
       "      <td>29</td>\n",
       "      <td>p</td>\n",
       "      <td>compact</td>\n",
       "    </tr>\n",
       "    <tr>\n",
       "      <th>2</th>\n",
       "      <td>audi</td>\n",
       "      <td>a4</td>\n",
       "      <td>1.8</td>\n",
       "      <td>1999</td>\n",
       "      <td>4</td>\n",
       "      <td>manual(m5)</td>\n",
       "      <td>f</td>\n",
       "      <td>21</td>\n",
       "      <td>29</td>\n",
       "      <td>p</td>\n",
       "      <td>compact</td>\n",
       "    </tr>\n",
       "    <tr>\n",
       "      <th>3</th>\n",
       "      <td>audi</td>\n",
       "      <td>a4</td>\n",
       "      <td>2.0</td>\n",
       "      <td>2008</td>\n",
       "      <td>4</td>\n",
       "      <td>manual(m6)</td>\n",
       "      <td>f</td>\n",
       "      <td>20</td>\n",
       "      <td>31</td>\n",
       "      <td>p</td>\n",
       "      <td>compact</td>\n",
       "    </tr>\n",
       "    <tr>\n",
       "      <th>4</th>\n",
       "      <td>audi</td>\n",
       "      <td>a4</td>\n",
       "      <td>2.0</td>\n",
       "      <td>2008</td>\n",
       "      <td>4</td>\n",
       "      <td>auto(av)</td>\n",
       "      <td>f</td>\n",
       "      <td>21</td>\n",
       "      <td>30</td>\n",
       "      <td>p</td>\n",
       "      <td>compact</td>\n",
       "    </tr>\n",
       "    <tr>\n",
       "      <th>5</th>\n",
       "      <td>audi</td>\n",
       "      <td>a4</td>\n",
       "      <td>2.8</td>\n",
       "      <td>1999</td>\n",
       "      <td>6</td>\n",
       "      <td>auto(l5)</td>\n",
       "      <td>f</td>\n",
       "      <td>16</td>\n",
       "      <td>26</td>\n",
       "      <td>p</td>\n",
       "      <td>compact</td>\n",
       "    </tr>\n",
       "  </tbody>\n",
       "</table>\n",
       "</div>"
      ],
      "text/plain": [
       "  manufacturer model  displ  year  cyl       trans drv  cty  hwy fl    class\n",
       "1         audi    a4    1.8  1999    4    auto(l5)   f   18   29  p  compact\n",
       "2         audi    a4    1.8  1999    4  manual(m5)   f   21   29  p  compact\n",
       "3         audi    a4    2.0  2008    4  manual(m6)   f   20   31  p  compact\n",
       "4         audi    a4    2.0  2008    4    auto(av)   f   21   30  p  compact\n",
       "5         audi    a4    2.8  1999    6    auto(l5)   f   16   26  p  compact"
      ]
     },
     "execution_count": 1018,
     "metadata": {},
     "output_type": "execute_result"
    }
   ],
   "source": [
    "df = data('mpg')\n",
    "df.head()"
   ]
  },
  {
   "cell_type": "code",
   "execution_count": 1019,
   "id": "2f513697",
   "metadata": {},
   "outputs": [
    {
     "name": "stdout",
     "output_type": "stream",
     "text": [
      "<class 'pandas.core.frame.DataFrame'>\n",
      "Int64Index: 234 entries, 1 to 234\n",
      "Data columns (total 11 columns):\n",
      " #   Column        Non-Null Count  Dtype  \n",
      "---  ------        --------------  -----  \n",
      " 0   manufacturer  234 non-null    object \n",
      " 1   model         234 non-null    object \n",
      " 2   displ         234 non-null    float64\n",
      " 3   year          234 non-null    int64  \n",
      " 4   cyl           234 non-null    int64  \n",
      " 5   trans         234 non-null    object \n",
      " 6   drv           234 non-null    object \n",
      " 7   cty           234 non-null    int64  \n",
      " 8   hwy           234 non-null    int64  \n",
      " 9   fl            234 non-null    object \n",
      " 10  class         234 non-null    object \n",
      "dtypes: float64(1), int64(4), object(6)\n",
      "memory usage: 21.9+ KB\n"
     ]
    }
   ],
   "source": [
    "df.info()"
   ]
  },
  {
   "cell_type": "code",
   "execution_count": 1020,
   "id": "64160d17",
   "metadata": {},
   "outputs": [
    {
     "data": {
      "text/html": [
       "<div>\n",
       "<style scoped>\n",
       "    .dataframe tbody tr th:only-of-type {\n",
       "        vertical-align: middle;\n",
       "    }\n",
       "\n",
       "    .dataframe tbody tr th {\n",
       "        vertical-align: top;\n",
       "    }\n",
       "\n",
       "    .dataframe thead th {\n",
       "        text-align: right;\n",
       "    }\n",
       "</style>\n",
       "<table border=\"1\" class=\"dataframe\">\n",
       "  <thead>\n",
       "    <tr style=\"text-align: right;\">\n",
       "      <th></th>\n",
       "      <th>manufacturer</th>\n",
       "      <th>model</th>\n",
       "      <th>displ</th>\n",
       "      <th>year</th>\n",
       "      <th>cyl</th>\n",
       "      <th>trans</th>\n",
       "      <th>drv</th>\n",
       "      <th>cty</th>\n",
       "      <th>hwy</th>\n",
       "      <th>fl</th>\n",
       "      <th>class</th>\n",
       "      <th>fuel_efficiency</th>\n",
       "    </tr>\n",
       "  </thead>\n",
       "  <tbody>\n",
       "    <tr>\n",
       "      <th>1</th>\n",
       "      <td>audi</td>\n",
       "      <td>a4</td>\n",
       "      <td>1.8</td>\n",
       "      <td>1999</td>\n",
       "      <td>4</td>\n",
       "      <td>auto(l5)</td>\n",
       "      <td>f</td>\n",
       "      <td>18</td>\n",
       "      <td>29</td>\n",
       "      <td>p</td>\n",
       "      <td>compact</td>\n",
       "      <td>23.5</td>\n",
       "    </tr>\n",
       "    <tr>\n",
       "      <th>2</th>\n",
       "      <td>audi</td>\n",
       "      <td>a4</td>\n",
       "      <td>1.8</td>\n",
       "      <td>1999</td>\n",
       "      <td>4</td>\n",
       "      <td>manual(m5)</td>\n",
       "      <td>f</td>\n",
       "      <td>21</td>\n",
       "      <td>29</td>\n",
       "      <td>p</td>\n",
       "      <td>compact</td>\n",
       "      <td>25.0</td>\n",
       "    </tr>\n",
       "    <tr>\n",
       "      <th>3</th>\n",
       "      <td>audi</td>\n",
       "      <td>a4</td>\n",
       "      <td>2.0</td>\n",
       "      <td>2008</td>\n",
       "      <td>4</td>\n",
       "      <td>manual(m6)</td>\n",
       "      <td>f</td>\n",
       "      <td>20</td>\n",
       "      <td>31</td>\n",
       "      <td>p</td>\n",
       "      <td>compact</td>\n",
       "      <td>25.5</td>\n",
       "    </tr>\n",
       "    <tr>\n",
       "      <th>4</th>\n",
       "      <td>audi</td>\n",
       "      <td>a4</td>\n",
       "      <td>2.0</td>\n",
       "      <td>2008</td>\n",
       "      <td>4</td>\n",
       "      <td>auto(av)</td>\n",
       "      <td>f</td>\n",
       "      <td>21</td>\n",
       "      <td>30</td>\n",
       "      <td>p</td>\n",
       "      <td>compact</td>\n",
       "      <td>25.5</td>\n",
       "    </tr>\n",
       "    <tr>\n",
       "      <th>5</th>\n",
       "      <td>audi</td>\n",
       "      <td>a4</td>\n",
       "      <td>2.8</td>\n",
       "      <td>1999</td>\n",
       "      <td>6</td>\n",
       "      <td>auto(l5)</td>\n",
       "      <td>f</td>\n",
       "      <td>16</td>\n",
       "      <td>26</td>\n",
       "      <td>p</td>\n",
       "      <td>compact</td>\n",
       "      <td>21.0</td>\n",
       "    </tr>\n",
       "    <tr>\n",
       "      <th>...</th>\n",
       "      <td>...</td>\n",
       "      <td>...</td>\n",
       "      <td>...</td>\n",
       "      <td>...</td>\n",
       "      <td>...</td>\n",
       "      <td>...</td>\n",
       "      <td>...</td>\n",
       "      <td>...</td>\n",
       "      <td>...</td>\n",
       "      <td>...</td>\n",
       "      <td>...</td>\n",
       "      <td>...</td>\n",
       "    </tr>\n",
       "    <tr>\n",
       "      <th>230</th>\n",
       "      <td>volkswagen</td>\n",
       "      <td>passat</td>\n",
       "      <td>2.0</td>\n",
       "      <td>2008</td>\n",
       "      <td>4</td>\n",
       "      <td>auto(s6)</td>\n",
       "      <td>f</td>\n",
       "      <td>19</td>\n",
       "      <td>28</td>\n",
       "      <td>p</td>\n",
       "      <td>midsize</td>\n",
       "      <td>23.5</td>\n",
       "    </tr>\n",
       "    <tr>\n",
       "      <th>231</th>\n",
       "      <td>volkswagen</td>\n",
       "      <td>passat</td>\n",
       "      <td>2.0</td>\n",
       "      <td>2008</td>\n",
       "      <td>4</td>\n",
       "      <td>manual(m6)</td>\n",
       "      <td>f</td>\n",
       "      <td>21</td>\n",
       "      <td>29</td>\n",
       "      <td>p</td>\n",
       "      <td>midsize</td>\n",
       "      <td>25.0</td>\n",
       "    </tr>\n",
       "    <tr>\n",
       "      <th>232</th>\n",
       "      <td>volkswagen</td>\n",
       "      <td>passat</td>\n",
       "      <td>2.8</td>\n",
       "      <td>1999</td>\n",
       "      <td>6</td>\n",
       "      <td>auto(l5)</td>\n",
       "      <td>f</td>\n",
       "      <td>16</td>\n",
       "      <td>26</td>\n",
       "      <td>p</td>\n",
       "      <td>midsize</td>\n",
       "      <td>21.0</td>\n",
       "    </tr>\n",
       "    <tr>\n",
       "      <th>233</th>\n",
       "      <td>volkswagen</td>\n",
       "      <td>passat</td>\n",
       "      <td>2.8</td>\n",
       "      <td>1999</td>\n",
       "      <td>6</td>\n",
       "      <td>manual(m5)</td>\n",
       "      <td>f</td>\n",
       "      <td>18</td>\n",
       "      <td>26</td>\n",
       "      <td>p</td>\n",
       "      <td>midsize</td>\n",
       "      <td>22.0</td>\n",
       "    </tr>\n",
       "    <tr>\n",
       "      <th>234</th>\n",
       "      <td>volkswagen</td>\n",
       "      <td>passat</td>\n",
       "      <td>3.6</td>\n",
       "      <td>2008</td>\n",
       "      <td>6</td>\n",
       "      <td>auto(s6)</td>\n",
       "      <td>f</td>\n",
       "      <td>17</td>\n",
       "      <td>26</td>\n",
       "      <td>p</td>\n",
       "      <td>midsize</td>\n",
       "      <td>21.5</td>\n",
       "    </tr>\n",
       "  </tbody>\n",
       "</table>\n",
       "<p>234 rows × 12 columns</p>\n",
       "</div>"
      ],
      "text/plain": [
       "    manufacturer   model  displ  year  cyl       trans drv  cty  hwy fl  \\\n",
       "1           audi      a4    1.8  1999    4    auto(l5)   f   18   29  p   \n",
       "2           audi      a4    1.8  1999    4  manual(m5)   f   21   29  p   \n",
       "3           audi      a4    2.0  2008    4  manual(m6)   f   20   31  p   \n",
       "4           audi      a4    2.0  2008    4    auto(av)   f   21   30  p   \n",
       "5           audi      a4    2.8  1999    6    auto(l5)   f   16   26  p   \n",
       "..           ...     ...    ...   ...  ...         ...  ..  ...  ... ..   \n",
       "230   volkswagen  passat    2.0  2008    4    auto(s6)   f   19   28  p   \n",
       "231   volkswagen  passat    2.0  2008    4  manual(m6)   f   21   29  p   \n",
       "232   volkswagen  passat    2.8  1999    6    auto(l5)   f   16   26  p   \n",
       "233   volkswagen  passat    2.8  1999    6  manual(m5)   f   18   26  p   \n",
       "234   volkswagen  passat    3.6  2008    6    auto(s6)   f   17   26  p   \n",
       "\n",
       "       class  fuel_efficiency  \n",
       "1    compact             23.5  \n",
       "2    compact             25.0  \n",
       "3    compact             25.5  \n",
       "4    compact             25.5  \n",
       "5    compact             21.0  \n",
       "..       ...              ...  \n",
       "230  midsize             23.5  \n",
       "231  midsize             25.0  \n",
       "232  midsize             21.0  \n",
       "233  midsize             22.0  \n",
       "234  midsize             21.5  \n",
       "\n",
       "[234 rows x 12 columns]"
      ]
     },
     "execution_count": 1020,
     "metadata": {},
     "output_type": "execute_result"
    }
   ],
   "source": [
    "df['fuel_efficiency'] = (df.cty + df.hwy)/2\n",
    "df"
   ]
  },
  {
   "cell_type": "markdown",
   "id": "93a74abc",
   "metadata": {},
   "source": [
    "###  Is there a difference in fuel-efficiency in cars from 2008 vs 1999?"
   ]
  },
  {
   "cell_type": "code",
   "execution_count": 1021,
   "id": "997df18d",
   "metadata": {},
   "outputs": [],
   "source": [
    "# Independent T-Test 2_tail, significantly different"
   ]
  },
  {
   "cell_type": "markdown",
   "id": "d2a9e4eb",
   "metadata": {},
   "source": [
    "### Hypothesis\n",
    "$H_{0}$ : cars from 2008 and 1999 has no difference in fuel-efficiency\n",
    "\n",
    "$H_{a}$ : cars from 2008 and 1999 has difference in fuel- efficiency\n",
    "\n",
    "### Significane Level\n",
    "Alpha set to 0.05"
   ]
  },
  {
   "cell_type": "code",
   "execution_count": 1022,
   "id": "f4d4a711",
   "metadata": {},
   "outputs": [],
   "source": [
    "year_1999 = df[df.year == 1999].fuel_efficiency\n",
    "year_2008 = df[df.year == 2008].fuel_efficiency"
   ]
  },
  {
   "cell_type": "code",
   "execution_count": 1023,
   "id": "e39c2793",
   "metadata": {},
   "outputs": [],
   "source": [
    "alpha = 0.05"
   ]
  },
  {
   "cell_type": "markdown",
   "id": "83b30f3b",
   "metadata": {},
   "source": [
    "### Verify assumptions\n",
    "\n",
    "- Independent sample\n",
    "- Normal Distribution, or at least 30 observations\n",
    "- Equal Variance"
   ]
  },
  {
   "cell_type": "code",
   "execution_count": 1024,
   "id": "fee24462",
   "metadata": {},
   "outputs": [
    {
     "data": {
      "text/plain": [
       "1999    117\n",
       "2008    117\n",
       "Name: year, dtype: int64"
      ]
     },
     "execution_count": 1024,
     "metadata": {},
     "output_type": "execute_result"
    }
   ],
   "source": [
    "df.year.value_counts()"
   ]
  },
  {
   "cell_type": "code",
   "execution_count": 1025,
   "id": "58724e48",
   "metadata": {},
   "outputs": [
    {
     "name": "stdout",
     "output_type": "stream",
     "text": [
      "27.122605363984682\n",
      "24.097480106100797\n"
     ]
    }
   ],
   "source": [
    "print(year_1999.var())\n",
    "print(year_2008.var())"
   ]
  },
  {
   "cell_type": "markdown",
   "id": "536fb139",
   "metadata": {},
   "source": [
    "### Compute test statistic and probability (t-statistic & p-value)"
   ]
  },
  {
   "cell_type": "code",
   "execution_count": 1026,
   "id": "d7a32580",
   "metadata": {},
   "outputs": [
    {
     "data": {
      "text/plain": [
       "(0.21960177245940962, 0.8263750772060638)"
      ]
     },
     "execution_count": 1026,
     "metadata": {},
     "output_type": "execute_result"
    }
   ],
   "source": [
    "t, p = stats.ttest_ind(year_1999, year_2008, equal_var=False)\n",
    "t, p"
   ]
  },
  {
   "cell_type": "markdown",
   "id": "34903da7",
   "metadata": {},
   "source": [
    "### Decide:\n",
    "    \n",
    "- p-value < alpha"
   ]
  },
  {
   "cell_type": "code",
   "execution_count": 1027,
   "id": "0ad012b6",
   "metadata": {},
   "outputs": [
    {
     "name": "stdout",
     "output_type": "stream",
     "text": [
      "Fail to reject $H_{0}$ \n"
     ]
    }
   ],
   "source": [
    "# Is there a difference in fuel-efficiency in cars from 2008 vs 1999?\n",
    "\n",
    "if p < alpha:\n",
    "    print('Reject $H_{0}$')\n",
    "else: \n",
    "    print('Fail to reject $H_{0}$ ')\n",
    "\n"
   ]
  },
  {
   "cell_type": "markdown",
   "id": "200a3a5e",
   "metadata": {},
   "source": [
    "### Conclusion: \n",
    "We failed to reject the Null Hypothesis, there is no significant difference in fuel effficiency between cars made in 1999 and 2008"
   ]
  },
  {
   "cell_type": "markdown",
   "id": "8394d616",
   "metadata": {},
   "source": [
    "#### Are compact cars more fuel-efficient than the average car?"
   ]
  },
  {
   "cell_type": "code",
   "execution_count": 1028,
   "id": "f5d4c464",
   "metadata": {},
   "outputs": [],
   "source": [
    "# One Sample T-Test 1-tail, significantly larger"
   ]
  },
  {
   "cell_type": "markdown",
   "id": "85d6a16a",
   "metadata": {},
   "source": [
    "### Hypothesis\n",
    "$H_{0}$ :compact cars are not fuel-effiecient than average car\n",
    "\n",
    "$H_{a}$ : compact cars are more fuel-effiecient than of all car\n",
    "\n",
    "### Significane Level\n",
    "Alpha set to 0.05"
   ]
  },
  {
   "cell_type": "code",
   "execution_count": 1029,
   "id": "99d32345",
   "metadata": {},
   "outputs": [],
   "source": [
    "alpha = 0.05"
   ]
  },
  {
   "cell_type": "markdown",
   "id": "0b4f4127",
   "metadata": {},
   "source": [
    "### Verify Assumptions\n",
    "\n",
    "- Normal Distribution, or at least 30 observations "
   ]
  },
  {
   "cell_type": "code",
   "execution_count": 1030,
   "id": "bc87086c",
   "metadata": {},
   "outputs": [
    {
     "data": {
      "text/plain": [
       "suv           62\n",
       "compact       47\n",
       "midsize       41\n",
       "subcompact    35\n",
       "pickup        33\n",
       "minivan       11\n",
       "2seater        5\n",
       "Name: class, dtype: int64"
      ]
     },
     "execution_count": 1030,
     "metadata": {},
     "output_type": "execute_result"
    }
   ],
   "source": [
    "df['class'].value_counts()"
   ]
  },
  {
   "cell_type": "code",
   "execution_count": 1031,
   "id": "611b459e",
   "metadata": {},
   "outputs": [
    {
     "data": {
      "text/plain": [
       "20.14957264957265"
      ]
     },
     "execution_count": 1031,
     "metadata": {},
     "output_type": "execute_result"
    }
   ],
   "source": [
    "compact_sample = df[df['class'] == 'compact'].fuel_efficiency\n",
    "overall_mean = df.fuel_efficiency.mean()\n",
    "overall_mean"
   ]
  },
  {
   "cell_type": "markdown",
   "id": "15d7aa1b",
   "metadata": {},
   "source": [
    "### Compute test statistic and probability (t-statistic & p-value)"
   ]
  },
  {
   "cell_type": "code",
   "execution_count": 1032,
   "id": "4f9818ac",
   "metadata": {},
   "outputs": [
    {
     "data": {
      "text/plain": [
       "(7.896888573132533, 2.0992818971585743e-10)"
      ]
     },
     "execution_count": 1032,
     "metadata": {},
     "output_type": "execute_result"
    }
   ],
   "source": [
    "t, p = stats.ttest_1samp(compact_sample, overall_mean)\n",
    "t, p/2"
   ]
  },
  {
   "cell_type": "markdown",
   "id": "7b9565fa",
   "metadata": {},
   "source": [
    "### Decide\n",
    "\n",
    "- p/2 < alpha and t > 0\n"
   ]
  },
  {
   "cell_type": "code",
   "execution_count": 1033,
   "id": "163592af",
   "metadata": {},
   "outputs": [
    {
     "name": "stdout",
     "output_type": "stream",
     "text": [
      "We reject $H_{0}$\n"
     ]
    }
   ],
   "source": [
    "# Are compact cars more fuel-efficient than the average car?\n",
    "\n",
    "if p/2 > alpha:\n",
    "    print(\"We fail to reject $H_{0}$\")\n",
    "elif t < 0:\n",
    "    print(\"We fail to reject $H_{0}$\")\n",
    "else:\n",
    "    print(\"We reject $H_{0}$\")\n"
   ]
  },
  {
   "cell_type": "markdown",
   "id": "ae302bac",
   "metadata": {},
   "source": [
    "### Conclusion: \n",
    "We rejected the Null Hypothesis, compact cars are more efficient than the average car"
   ]
  },
  {
   "cell_type": "markdown",
   "id": "6b21c567",
   "metadata": {},
   "source": [
    "###  Do manual cars get better gas mileage than automatic cars?"
   ]
  },
  {
   "cell_type": "code",
   "execution_count": 1034,
   "id": "b5972f76",
   "metadata": {},
   "outputs": [],
   "source": [
    "# Independent T-Test 1 tail, significantly larger"
   ]
  },
  {
   "cell_type": "markdown",
   "id": "150cef69",
   "metadata": {},
   "source": [
    "### Hypothesis\n",
    "\n",
    "$𝐻_{0}$  : manual cars are not more fuel-efficient than automatic cars\n",
    "\n",
    "$𝐻_{𝑎}$  : manual cars are more fuel-efficient than automatic cars\n",
    "\n",
    "###  Significane Level\n",
    "\n",
    "Alpha set to 0.05"
   ]
  },
  {
   "cell_type": "code",
   "execution_count": 1035,
   "id": "633581aa",
   "metadata": {},
   "outputs": [],
   "source": [
    "alpha = 0.05"
   ]
  },
  {
   "cell_type": "code",
   "execution_count": 1036,
   "id": "2fb2866d",
   "metadata": {},
   "outputs": [
    {
     "data": {
      "text/html": [
       "<div>\n",
       "<style scoped>\n",
       "    .dataframe tbody tr th:only-of-type {\n",
       "        vertical-align: middle;\n",
       "    }\n",
       "\n",
       "    .dataframe tbody tr th {\n",
       "        vertical-align: top;\n",
       "    }\n",
       "\n",
       "    .dataframe thead th {\n",
       "        text-align: right;\n",
       "    }\n",
       "</style>\n",
       "<table border=\"1\" class=\"dataframe\">\n",
       "  <thead>\n",
       "    <tr style=\"text-align: right;\">\n",
       "      <th></th>\n",
       "      <th>manufacturer</th>\n",
       "      <th>model</th>\n",
       "      <th>displ</th>\n",
       "      <th>year</th>\n",
       "      <th>cyl</th>\n",
       "      <th>trans</th>\n",
       "      <th>drv</th>\n",
       "      <th>cty</th>\n",
       "      <th>hwy</th>\n",
       "      <th>fl</th>\n",
       "      <th>class</th>\n",
       "      <th>fuel_efficiency</th>\n",
       "    </tr>\n",
       "  </thead>\n",
       "  <tbody>\n",
       "    <tr>\n",
       "      <th>1</th>\n",
       "      <td>audi</td>\n",
       "      <td>a4</td>\n",
       "      <td>1.8</td>\n",
       "      <td>1999</td>\n",
       "      <td>4</td>\n",
       "      <td>auto(l5)</td>\n",
       "      <td>f</td>\n",
       "      <td>18</td>\n",
       "      <td>29</td>\n",
       "      <td>p</td>\n",
       "      <td>compact</td>\n",
       "      <td>23.5</td>\n",
       "    </tr>\n",
       "    <tr>\n",
       "      <th>2</th>\n",
       "      <td>audi</td>\n",
       "      <td>a4</td>\n",
       "      <td>1.8</td>\n",
       "      <td>1999</td>\n",
       "      <td>4</td>\n",
       "      <td>manual(m5)</td>\n",
       "      <td>f</td>\n",
       "      <td>21</td>\n",
       "      <td>29</td>\n",
       "      <td>p</td>\n",
       "      <td>compact</td>\n",
       "      <td>25.0</td>\n",
       "    </tr>\n",
       "    <tr>\n",
       "      <th>3</th>\n",
       "      <td>audi</td>\n",
       "      <td>a4</td>\n",
       "      <td>2.0</td>\n",
       "      <td>2008</td>\n",
       "      <td>4</td>\n",
       "      <td>manual(m6)</td>\n",
       "      <td>f</td>\n",
       "      <td>20</td>\n",
       "      <td>31</td>\n",
       "      <td>p</td>\n",
       "      <td>compact</td>\n",
       "      <td>25.5</td>\n",
       "    </tr>\n",
       "    <tr>\n",
       "      <th>4</th>\n",
       "      <td>audi</td>\n",
       "      <td>a4</td>\n",
       "      <td>2.0</td>\n",
       "      <td>2008</td>\n",
       "      <td>4</td>\n",
       "      <td>auto(av)</td>\n",
       "      <td>f</td>\n",
       "      <td>21</td>\n",
       "      <td>30</td>\n",
       "      <td>p</td>\n",
       "      <td>compact</td>\n",
       "      <td>25.5</td>\n",
       "    </tr>\n",
       "    <tr>\n",
       "      <th>5</th>\n",
       "      <td>audi</td>\n",
       "      <td>a4</td>\n",
       "      <td>2.8</td>\n",
       "      <td>1999</td>\n",
       "      <td>6</td>\n",
       "      <td>auto(l5)</td>\n",
       "      <td>f</td>\n",
       "      <td>16</td>\n",
       "      <td>26</td>\n",
       "      <td>p</td>\n",
       "      <td>compact</td>\n",
       "      <td>21.0</td>\n",
       "    </tr>\n",
       "  </tbody>\n",
       "</table>\n",
       "</div>"
      ],
      "text/plain": [
       "  manufacturer model  displ  year  cyl       trans drv  cty  hwy fl    class  \\\n",
       "1         audi    a4    1.8  1999    4    auto(l5)   f   18   29  p  compact   \n",
       "2         audi    a4    1.8  1999    4  manual(m5)   f   21   29  p  compact   \n",
       "3         audi    a4    2.0  2008    4  manual(m6)   f   20   31  p  compact   \n",
       "4         audi    a4    2.0  2008    4    auto(av)   f   21   30  p  compact   \n",
       "5         audi    a4    2.8  1999    6    auto(l5)   f   16   26  p  compact   \n",
       "\n",
       "   fuel_efficiency  \n",
       "1             23.5  \n",
       "2             25.0  \n",
       "3             25.5  \n",
       "4             25.5  \n",
       "5             21.0  "
      ]
     },
     "execution_count": 1036,
     "metadata": {},
     "output_type": "execute_result"
    }
   ],
   "source": [
    "df.head()"
   ]
  },
  {
   "cell_type": "code",
   "execution_count": 1037,
   "id": "22ac0325",
   "metadata": {},
   "outputs": [],
   "source": [
    "manual_sample = df[df.trans.str.startswith('m')].fuel_efficiency\n",
    "auto_sample =df[df.trans.str.startswith('a')].fuel_efficiency \n"
   ]
  },
  {
   "cell_type": "code",
   "execution_count": 1038,
   "id": "3f7ca5e3",
   "metadata": {},
   "outputs": [
    {
     "data": {
      "text/plain": [
       "22.227272727272727"
      ]
     },
     "execution_count": 1038,
     "metadata": {},
     "output_type": "execute_result"
    }
   ],
   "source": [
    "manual_sample.mean()"
   ]
  },
  {
   "cell_type": "code",
   "execution_count": 1039,
   "id": "2c41b0b0",
   "metadata": {},
   "outputs": [
    {
     "data": {
      "text/plain": [
       "19.130573248407643"
      ]
     },
     "execution_count": 1039,
     "metadata": {},
     "output_type": "execute_result"
    }
   ],
   "source": [
    "auto_sample.mean()"
   ]
  },
  {
   "cell_type": "markdown",
   "id": "e9ee0e2b",
   "metadata": {},
   "source": [
    "### Verify assumptions\n",
    "\n",
    "- Independent sample\n",
    "- Normal Distribution, or at least 30 observations\n",
    "- Equal Variance"
   ]
  },
  {
   "cell_type": "code",
   "execution_count": 1040,
   "id": "5443c78d",
   "metadata": {},
   "outputs": [
    {
     "data": {
      "text/plain": [
       "auto(l4)      83\n",
       "manual(m5)    58\n",
       "auto(l5)      39\n",
       "manual(m6)    19\n",
       "auto(s6)      16\n",
       "auto(l6)       6\n",
       "auto(av)       5\n",
       "auto(s5)       3\n",
       "auto(s4)       3\n",
       "auto(l3)       2\n",
       "Name: trans, dtype: int64"
      ]
     },
     "execution_count": 1040,
     "metadata": {},
     "output_type": "execute_result"
    }
   ],
   "source": [
    "df.trans.value_counts()"
   ]
  },
  {
   "cell_type": "code",
   "execution_count": 1041,
   "id": "6452797d",
   "metadata": {},
   "outputs": [
    {
     "data": {
      "text/plain": [
       "26.635167464114826"
      ]
     },
     "execution_count": 1041,
     "metadata": {},
     "output_type": "execute_result"
    }
   ],
   "source": [
    "manual_sample.var()"
   ]
  },
  {
   "cell_type": "code",
   "execution_count": 1042,
   "id": "19b83521",
   "metadata": {},
   "outputs": [
    {
     "data": {
      "text/plain": [
       "21.942777233382337"
      ]
     },
     "execution_count": 1042,
     "metadata": {},
     "output_type": "execute_result"
    }
   ],
   "source": [
    "auto_sample.var()"
   ]
  },
  {
   "cell_type": "code",
   "execution_count": 1043,
   "id": "1a53b8e7",
   "metadata": {},
   "outputs": [
    {
     "data": {
      "text/plain": [
       "(0.20075824847529639, 0.32726381775659286)"
      ]
     },
     "execution_count": 1043,
     "metadata": {},
     "output_type": "execute_result"
    }
   ],
   "source": [
    "# check variance \n",
    "\n",
    "t, p = stats.levene(manual_sample, auto_sample)\n",
    "t, p/2"
   ]
  },
  {
   "cell_type": "markdown",
   "id": "2a3234fd",
   "metadata": {},
   "source": [
    "### Compute test statistic and probability (t-statistic & p-value)"
   ]
  },
  {
   "cell_type": "code",
   "execution_count": 1044,
   "id": "017a3ea7",
   "metadata": {},
   "outputs": [
    {
     "data": {
      "text/plain": [
       "(4.443514012903072, 8.976124499958947e-06)"
      ]
     },
     "execution_count": 1044,
     "metadata": {},
     "output_type": "execute_result"
    }
   ],
   "source": [
    "t, p = stats.ttest_ind(manual_sample, auto_sample, equal_var=False)\n",
    "t, p / 2\n"
   ]
  },
  {
   "cell_type": "markdown",
   "id": "197b1a32",
   "metadata": {},
   "source": [
    "### Decide\n",
    "\n",
    "- p/2 < alpha and t > 0"
   ]
  },
  {
   "cell_type": "code",
   "execution_count": 1045,
   "id": "51a3df55",
   "metadata": {},
   "outputs": [
    {
     "name": "stdout",
     "output_type": "stream",
     "text": [
      "We reject $H_{0}$\n"
     ]
    }
   ],
   "source": [
    "#Do manual cars get better gas mileage than automatic cars?\n",
    "\n",
    "if p / 2 > alpha:\n",
    "    print(\"We fail to reject $H_{0}$\")\n",
    "elif t < 0:\n",
    "    print(\"We fail to reject $H_{0}$\")\n",
    "else:\n",
    "    print(\"We reject $H_{0}$\")\n",
    "\n",
    "    \n",
    "# another way\n",
    "\n",
    "# if t > 0 and (p/2) < alpha:\n",
    "#     print(\"We reject $H_{0}$\")\n",
    "# else:\n",
    "#     print(\"We fail to reject $H_{0}$\")\n",
    "    \n"
   ]
  },
  {
   "cell_type": "markdown",
   "id": "a8dc6183",
   "metadata": {},
   "source": [
    "### Conclusion:\n",
    "We rejected the Null Hypothesis, manual cars are more fuel-efficient than automatic car"
   ]
  },
  {
   "cell_type": "markdown",
   "id": "0a617433",
   "metadata": {},
   "source": [
    "------------"
   ]
  },
  {
   "cell_type": "markdown",
   "id": "c94056a3",
   "metadata": {},
   "source": [
    "1. Answer with the type of stats test you would use (assume normal distribution):\n",
    "\n",
    "- Is there a relationship between the length of your arm and the length of your foot?\n",
    "- Do guys and gals quit their jobs at the same rate?\n",
    "- Does the length of time of the lecture correlate with a students grade?"
   ]
  },
  {
   "cell_type": "code",
   "execution_count": 1046,
   "id": "0980b1f2",
   "metadata": {},
   "outputs": [],
   "source": [
    "from pydataset import data\n",
    "import env"
   ]
  },
  {
   "cell_type": "markdown",
   "id": "ebe20cd9",
   "metadata": {},
   "source": [
    "2. Use the telco_churn data.\n",
    "- Does tenure correlate with monthly charges?\n",
    "- Total charges?\n",
    "- What happens if you control for phone and internet service?"
   ]
  },
  {
   "cell_type": "code",
   "execution_count": 1047,
   "id": "1be868bd",
   "metadata": {},
   "outputs": [
    {
     "data": {
      "text/html": [
       "<div>\n",
       "<style scoped>\n",
       "    .dataframe tbody tr th:only-of-type {\n",
       "        vertical-align: middle;\n",
       "    }\n",
       "\n",
       "    .dataframe tbody tr th {\n",
       "        vertical-align: top;\n",
       "    }\n",
       "\n",
       "    .dataframe thead th {\n",
       "        text-align: right;\n",
       "    }\n",
       "</style>\n",
       "<table border=\"1\" class=\"dataframe\">\n",
       "  <thead>\n",
       "    <tr style=\"text-align: right;\">\n",
       "      <th></th>\n",
       "      <th>customer_id</th>\n",
       "      <th>gender</th>\n",
       "      <th>senior_citizen</th>\n",
       "      <th>partner</th>\n",
       "      <th>dependents</th>\n",
       "      <th>tenure</th>\n",
       "      <th>phone_service</th>\n",
       "      <th>multiple_lines</th>\n",
       "      <th>internet_service_type_id</th>\n",
       "      <th>online_security</th>\n",
       "      <th>...</th>\n",
       "      <th>device_protection</th>\n",
       "      <th>tech_support</th>\n",
       "      <th>streaming_tv</th>\n",
       "      <th>streaming_movies</th>\n",
       "      <th>contract_type_id</th>\n",
       "      <th>paperless_billing</th>\n",
       "      <th>payment_type_id</th>\n",
       "      <th>monthly_charges</th>\n",
       "      <th>total_charges</th>\n",
       "      <th>churn</th>\n",
       "    </tr>\n",
       "  </thead>\n",
       "  <tbody>\n",
       "    <tr>\n",
       "      <th>0</th>\n",
       "      <td>0002-ORFBO</td>\n",
       "      <td>Female</td>\n",
       "      <td>0</td>\n",
       "      <td>Yes</td>\n",
       "      <td>Yes</td>\n",
       "      <td>9</td>\n",
       "      <td>Yes</td>\n",
       "      <td>No</td>\n",
       "      <td>1</td>\n",
       "      <td>No</td>\n",
       "      <td>...</td>\n",
       "      <td>No</td>\n",
       "      <td>Yes</td>\n",
       "      <td>Yes</td>\n",
       "      <td>No</td>\n",
       "      <td>2</td>\n",
       "      <td>Yes</td>\n",
       "      <td>2</td>\n",
       "      <td>65.6</td>\n",
       "      <td>593.3</td>\n",
       "      <td>No</td>\n",
       "    </tr>\n",
       "    <tr>\n",
       "      <th>1</th>\n",
       "      <td>0003-MKNFE</td>\n",
       "      <td>Male</td>\n",
       "      <td>0</td>\n",
       "      <td>No</td>\n",
       "      <td>No</td>\n",
       "      <td>9</td>\n",
       "      <td>Yes</td>\n",
       "      <td>Yes</td>\n",
       "      <td>1</td>\n",
       "      <td>No</td>\n",
       "      <td>...</td>\n",
       "      <td>No</td>\n",
       "      <td>No</td>\n",
       "      <td>No</td>\n",
       "      <td>Yes</td>\n",
       "      <td>1</td>\n",
       "      <td>No</td>\n",
       "      <td>2</td>\n",
       "      <td>59.9</td>\n",
       "      <td>542.4</td>\n",
       "      <td>No</td>\n",
       "    </tr>\n",
       "    <tr>\n",
       "      <th>2</th>\n",
       "      <td>0004-TLHLJ</td>\n",
       "      <td>Male</td>\n",
       "      <td>0</td>\n",
       "      <td>No</td>\n",
       "      <td>No</td>\n",
       "      <td>4</td>\n",
       "      <td>Yes</td>\n",
       "      <td>No</td>\n",
       "      <td>2</td>\n",
       "      <td>No</td>\n",
       "      <td>...</td>\n",
       "      <td>Yes</td>\n",
       "      <td>No</td>\n",
       "      <td>No</td>\n",
       "      <td>No</td>\n",
       "      <td>1</td>\n",
       "      <td>Yes</td>\n",
       "      <td>1</td>\n",
       "      <td>73.9</td>\n",
       "      <td>280.85</td>\n",
       "      <td>Yes</td>\n",
       "    </tr>\n",
       "    <tr>\n",
       "      <th>3</th>\n",
       "      <td>0011-IGKFF</td>\n",
       "      <td>Male</td>\n",
       "      <td>1</td>\n",
       "      <td>Yes</td>\n",
       "      <td>No</td>\n",
       "      <td>13</td>\n",
       "      <td>Yes</td>\n",
       "      <td>No</td>\n",
       "      <td>2</td>\n",
       "      <td>No</td>\n",
       "      <td>...</td>\n",
       "      <td>Yes</td>\n",
       "      <td>No</td>\n",
       "      <td>Yes</td>\n",
       "      <td>Yes</td>\n",
       "      <td>1</td>\n",
       "      <td>Yes</td>\n",
       "      <td>1</td>\n",
       "      <td>98.0</td>\n",
       "      <td>1237.85</td>\n",
       "      <td>Yes</td>\n",
       "    </tr>\n",
       "    <tr>\n",
       "      <th>4</th>\n",
       "      <td>0013-EXCHZ</td>\n",
       "      <td>Female</td>\n",
       "      <td>1</td>\n",
       "      <td>Yes</td>\n",
       "      <td>No</td>\n",
       "      <td>3</td>\n",
       "      <td>Yes</td>\n",
       "      <td>No</td>\n",
       "      <td>2</td>\n",
       "      <td>No</td>\n",
       "      <td>...</td>\n",
       "      <td>No</td>\n",
       "      <td>Yes</td>\n",
       "      <td>Yes</td>\n",
       "      <td>No</td>\n",
       "      <td>1</td>\n",
       "      <td>Yes</td>\n",
       "      <td>2</td>\n",
       "      <td>83.9</td>\n",
       "      <td>267.4</td>\n",
       "      <td>Yes</td>\n",
       "    </tr>\n",
       "  </tbody>\n",
       "</table>\n",
       "<p>5 rows × 21 columns</p>\n",
       "</div>"
      ],
      "text/plain": [
       "  customer_id  gender  senior_citizen partner dependents  tenure  \\\n",
       "0  0002-ORFBO  Female               0     Yes        Yes       9   \n",
       "1  0003-MKNFE    Male               0      No         No       9   \n",
       "2  0004-TLHLJ    Male               0      No         No       4   \n",
       "3  0011-IGKFF    Male               1     Yes         No      13   \n",
       "4  0013-EXCHZ  Female               1     Yes         No       3   \n",
       "\n",
       "  phone_service multiple_lines  internet_service_type_id online_security  ...  \\\n",
       "0           Yes             No                         1              No  ...   \n",
       "1           Yes            Yes                         1              No  ...   \n",
       "2           Yes             No                         2              No  ...   \n",
       "3           Yes             No                         2              No  ...   \n",
       "4           Yes             No                         2              No  ...   \n",
       "\n",
       "  device_protection tech_support streaming_tv streaming_movies  \\\n",
       "0                No          Yes          Yes               No   \n",
       "1                No           No           No              Yes   \n",
       "2               Yes           No           No               No   \n",
       "3               Yes           No          Yes              Yes   \n",
       "4                No          Yes          Yes               No   \n",
       "\n",
       "  contract_type_id  paperless_billing payment_type_id  monthly_charges  \\\n",
       "0                2                Yes               2             65.6   \n",
       "1                1                 No               2             59.9   \n",
       "2                1                Yes               1             73.9   \n",
       "3                1                Yes               1             98.0   \n",
       "4                1                Yes               2             83.9   \n",
       "\n",
       "   total_charges churn  \n",
       "0          593.3    No  \n",
       "1          542.4    No  \n",
       "2         280.85   Yes  \n",
       "3        1237.85   Yes  \n",
       "4          267.4   Yes  \n",
       "\n",
       "[5 rows x 21 columns]"
      ]
     },
     "execution_count": 1047,
     "metadata": {},
     "output_type": "execute_result"
    }
   ],
   "source": [
    "url = f'mysql+pymysql://{username}:{password}@{host}/telco_churn'\n",
    "df1 = pd.read_sql('SELECT * FROM customers', url)\n",
    "df1.head()"
   ]
  },
  {
   "cell_type": "code",
   "execution_count": 1048,
   "id": "1fd4d2ba",
   "metadata": {
    "scrolled": true
   },
   "outputs": [
    {
     "name": "stdout",
     "output_type": "stream",
     "text": [
      "<class 'pandas.core.frame.DataFrame'>\n",
      "RangeIndex: 7043 entries, 0 to 7042\n",
      "Data columns (total 21 columns):\n",
      " #   Column                    Non-Null Count  Dtype  \n",
      "---  ------                    --------------  -----  \n",
      " 0   customer_id               7043 non-null   object \n",
      " 1   gender                    7043 non-null   object \n",
      " 2   senior_citizen            7043 non-null   int64  \n",
      " 3   partner                   7043 non-null   object \n",
      " 4   dependents                7043 non-null   object \n",
      " 5   tenure                    7043 non-null   int64  \n",
      " 6   phone_service             7043 non-null   object \n",
      " 7   multiple_lines            7043 non-null   object \n",
      " 8   internet_service_type_id  7043 non-null   int64  \n",
      " 9   online_security           7043 non-null   object \n",
      " 10  online_backup             7043 non-null   object \n",
      " 11  device_protection         7043 non-null   object \n",
      " 12  tech_support              7043 non-null   object \n",
      " 13  streaming_tv              7043 non-null   object \n",
      " 14  streaming_movies          7043 non-null   object \n",
      " 15  contract_type_id          7043 non-null   int64  \n",
      " 16  paperless_billing         7043 non-null   object \n",
      " 17  payment_type_id           7043 non-null   int64  \n",
      " 18  monthly_charges           7043 non-null   float64\n",
      " 19  total_charges             7043 non-null   object \n",
      " 20  churn                     7043 non-null   object \n",
      "dtypes: float64(1), int64(5), object(15)\n",
      "memory usage: 1.1+ MB\n"
     ]
    }
   ],
   "source": [
    "# check for data types\n",
    "\n",
    "df1.info()"
   ]
  },
  {
   "cell_type": "markdown",
   "id": "5cb0069e",
   "metadata": {},
   "source": [
    "### Hypothesis\n",
    "\n",
    "$H_0$ - no linear relationship between tenure and monthly charges\n",
    "\n",
    "$H_a$ - there is linear relationship between tenure and monthly charges"
   ]
  },
  {
   "cell_type": "code",
   "execution_count": 1049,
   "id": "64626055",
   "metadata": {},
   "outputs": [
    {
     "data": {
      "text/plain": [
       "(0.24789985628615246, 4.094044991483017e-99)"
      ]
     },
     "execution_count": 1049,
     "metadata": {},
     "output_type": "execute_result"
    }
   ],
   "source": [
    "# the pearson' s r and p-value\n",
    "\n",
    "r, p = stats.pearsonr(df1.tenure, df1.monthly_charges)\n",
    "r, p\n"
   ]
  },
  {
   "cell_type": "code",
   "execution_count": 1050,
   "id": "afd574df",
   "metadata": {},
   "outputs": [],
   "source": [
    "alpha = 0.05"
   ]
  },
  {
   "cell_type": "code",
   "execution_count": 1051,
   "id": "9f1f7dfa",
   "metadata": {},
   "outputs": [
    {
     "name": "stdout",
     "output_type": "stream",
     "text": [
      "Reject $H_{0}$\n"
     ]
    }
   ],
   "source": [
    "# compare p-value\n",
    "\n",
    "if p < alpha: \n",
    "    print('Reject $H_{0}$' )\n",
    "else:\n",
    "    print('Fail to rejext $H_{0}$')"
   ]
  },
  {
   "cell_type": "markdown",
   "id": "ee9c7f9b",
   "metadata": {},
   "source": [
    "### Conclusion:\n",
    "We rejected the Null Hypothesis, there is a linear relationship between tenure and monthly charges"
   ]
  },
  {
   "cell_type": "markdown",
   "id": "b9c9e4dc",
   "metadata": {},
   "source": [
    "### Hypothesis¶\n",
    "𝐻0  - no linear relationship between tenure and total charges\n",
    "\n",
    "𝐻𝑎  - there is linear relationship between tenure and total charges\n"
   ]
  },
  {
   "cell_type": "code",
   "execution_count": 1052,
   "id": "9da7b79c",
   "metadata": {},
   "outputs": [
    {
     "data": {
      "text/plain": [
       "0         593.3\n",
       "1         542.4\n",
       "2        280.85\n",
       "3       1237.85\n",
       "4         267.4\n",
       "         ...   \n",
       "7038      742.9\n",
       "7039     1873.7\n",
       "7040      92.75\n",
       "7041    4627.65\n",
       "7042     3707.6\n",
       "Name: total_charges, Length: 7043, dtype: object"
      ]
     },
     "execution_count": 1052,
     "metadata": {},
     "output_type": "execute_result"
    }
   ],
   "source": [
    "df1.total_charges"
   ]
  },
  {
   "cell_type": "code",
   "execution_count": 1053,
   "id": "7f7549bb",
   "metadata": {},
   "outputs": [],
   "source": [
    "# df1.total_charges = df1.total_charges.astype(float)"
   ]
  },
  {
   "cell_type": "code",
   "execution_count": 1054,
   "id": "fff679ee",
   "metadata": {},
   "outputs": [
    {
     "name": "stdout",
     "output_type": "stream",
     "text": [
      "Error at 945:  \n",
      "Error at 1731:  \n",
      "Error at 1906:  \n",
      "Error at 2025:  \n",
      "Error at 2176:  \n",
      "Error at 2250:  \n",
      "Error at 2855:  \n",
      "Error at 3052:  \n",
      "Error at 3118:  \n",
      "Error at 4054:  \n",
      "Error at 5433:  \n"
     ]
    }
   ],
   "source": [
    "# find index causing ValueError: could not convert string to float: ''\n",
    "\n",
    "for i, item in enumerate(df1.total_charges):\n",
    "    try:\n",
    "        float(item)\n",
    "    except ValueError:\n",
    "        print(f\"Error at {i}: {item}\")"
   ]
  },
  {
   "cell_type": "code",
   "execution_count": 1055,
   "id": "8dcdd506",
   "metadata": {},
   "outputs": [
    {
     "data": {
      "text/plain": [
       "' '"
      ]
     },
     "execution_count": 1055,
     "metadata": {},
     "output_type": "execute_result"
    }
   ],
   "source": [
    "# find valus causing ValueError: could not convert string to float: ''\n",
    "\n",
    "df1.total_charges[945]"
   ]
  },
  {
   "cell_type": "code",
   "execution_count": 1056,
   "id": "81ef81cd",
   "metadata": {},
   "outputs": [],
   "source": [
    "# convert string to Float even those causing errors\n",
    "\n",
    "df1.total_charges= pd.to_numeric(df1.total_charges,errors='coerce')"
   ]
  },
  {
   "cell_type": "code",
   "execution_count": 1057,
   "id": "5f9ea24f",
   "metadata": {},
   "outputs": [
    {
     "data": {
      "text/plain": [
       "dtype('float64')"
      ]
     },
     "execution_count": 1057,
     "metadata": {},
     "output_type": "execute_result"
    }
   ],
   "source": [
    "# check data types\n",
    "\n",
    "df1.total_charges.dtypes"
   ]
  },
  {
   "cell_type": "code",
   "execution_count": 1058,
   "id": "a6e18050",
   "metadata": {},
   "outputs": [],
   "source": [
    "# convert NAN to zeros\n",
    "\n",
    "df1.total_charges = df1.total_charges.fillna(0)"
   ]
  },
  {
   "cell_type": "code",
   "execution_count": 1059,
   "id": "102079ef",
   "metadata": {},
   "outputs": [
    {
     "data": {
      "text/plain": [
       "0.0"
      ]
     },
     "execution_count": 1059,
     "metadata": {},
     "output_type": "execute_result"
    }
   ],
   "source": [
    "# Check if NAN is converted to zero\n",
    "\n",
    "df1.total_charges[945]"
   ]
  },
  {
   "cell_type": "code",
   "execution_count": 1060,
   "id": "67925d6a",
   "metadata": {},
   "outputs": [
    {
     "data": {
      "text/plain": [
       "(0.8261783979502481, 0.0)"
      ]
     },
     "execution_count": 1060,
     "metadata": {},
     "output_type": "execute_result"
    }
   ],
   "source": [
    "r, p = stats.pearsonr(df1.tenure, df1.total_charges)\n",
    "r, p\n"
   ]
  },
  {
   "cell_type": "code",
   "execution_count": 1061,
   "id": "6422f4ab",
   "metadata": {},
   "outputs": [
    {
     "name": "stdout",
     "output_type": "stream",
     "text": [
      "Reject $H_{0}$\n"
     ]
    }
   ],
   "source": [
    "# compare p-value\n",
    "\n",
    "if p < alpha: \n",
    "    print('Reject $H_{0}$' )\n",
    "else:\n",
    "    print('Fail to rejext $H_{0}$')"
   ]
  },
  {
   "cell_type": "markdown",
   "id": "d0586937",
   "metadata": {},
   "source": [
    "### Conclusion:¶\n",
    "We rejected the Null Hypothesis, there is a linear relationship between tenure and total charges"
   ]
  },
  {
   "cell_type": "markdown",
   "id": "ead761e4",
   "metadata": {},
   "source": [
    "-----------------\n",
    "What happens if you control for phone and internet service?"
   ]
  },
  {
   "cell_type": "code",
   "execution_count": 1062,
   "id": "b527fb4b",
   "metadata": {},
   "outputs": [
    {
     "data": {
      "text/html": [
       "<div>\n",
       "<style scoped>\n",
       "    .dataframe tbody tr th:only-of-type {\n",
       "        vertical-align: middle;\n",
       "    }\n",
       "\n",
       "    .dataframe tbody tr th {\n",
       "        vertical-align: top;\n",
       "    }\n",
       "\n",
       "    .dataframe thead th {\n",
       "        text-align: right;\n",
       "    }\n",
       "</style>\n",
       "<table border=\"1\" class=\"dataframe\">\n",
       "  <thead>\n",
       "    <tr style=\"text-align: right;\">\n",
       "      <th></th>\n",
       "      <th>customer_id</th>\n",
       "      <th>gender</th>\n",
       "      <th>senior_citizen</th>\n",
       "      <th>partner</th>\n",
       "      <th>dependents</th>\n",
       "      <th>tenure</th>\n",
       "      <th>phone_service</th>\n",
       "      <th>multiple_lines</th>\n",
       "      <th>internet_service_type_id</th>\n",
       "      <th>online_security</th>\n",
       "      <th>...</th>\n",
       "      <th>device_protection</th>\n",
       "      <th>tech_support</th>\n",
       "      <th>streaming_tv</th>\n",
       "      <th>streaming_movies</th>\n",
       "      <th>contract_type_id</th>\n",
       "      <th>paperless_billing</th>\n",
       "      <th>payment_type_id</th>\n",
       "      <th>monthly_charges</th>\n",
       "      <th>total_charges</th>\n",
       "      <th>churn</th>\n",
       "    </tr>\n",
       "  </thead>\n",
       "  <tbody>\n",
       "    <tr>\n",
       "      <th>0</th>\n",
       "      <td>0002-ORFBO</td>\n",
       "      <td>Female</td>\n",
       "      <td>0</td>\n",
       "      <td>Yes</td>\n",
       "      <td>Yes</td>\n",
       "      <td>9</td>\n",
       "      <td>Yes</td>\n",
       "      <td>No</td>\n",
       "      <td>1</td>\n",
       "      <td>No</td>\n",
       "      <td>...</td>\n",
       "      <td>No</td>\n",
       "      <td>Yes</td>\n",
       "      <td>Yes</td>\n",
       "      <td>No</td>\n",
       "      <td>2</td>\n",
       "      <td>Yes</td>\n",
       "      <td>2</td>\n",
       "      <td>65.6</td>\n",
       "      <td>593.30</td>\n",
       "      <td>No</td>\n",
       "    </tr>\n",
       "    <tr>\n",
       "      <th>1</th>\n",
       "      <td>0003-MKNFE</td>\n",
       "      <td>Male</td>\n",
       "      <td>0</td>\n",
       "      <td>No</td>\n",
       "      <td>No</td>\n",
       "      <td>9</td>\n",
       "      <td>Yes</td>\n",
       "      <td>Yes</td>\n",
       "      <td>1</td>\n",
       "      <td>No</td>\n",
       "      <td>...</td>\n",
       "      <td>No</td>\n",
       "      <td>No</td>\n",
       "      <td>No</td>\n",
       "      <td>Yes</td>\n",
       "      <td>1</td>\n",
       "      <td>No</td>\n",
       "      <td>2</td>\n",
       "      <td>59.9</td>\n",
       "      <td>542.40</td>\n",
       "      <td>No</td>\n",
       "    </tr>\n",
       "    <tr>\n",
       "      <th>2</th>\n",
       "      <td>0004-TLHLJ</td>\n",
       "      <td>Male</td>\n",
       "      <td>0</td>\n",
       "      <td>No</td>\n",
       "      <td>No</td>\n",
       "      <td>4</td>\n",
       "      <td>Yes</td>\n",
       "      <td>No</td>\n",
       "      <td>2</td>\n",
       "      <td>No</td>\n",
       "      <td>...</td>\n",
       "      <td>Yes</td>\n",
       "      <td>No</td>\n",
       "      <td>No</td>\n",
       "      <td>No</td>\n",
       "      <td>1</td>\n",
       "      <td>Yes</td>\n",
       "      <td>1</td>\n",
       "      <td>73.9</td>\n",
       "      <td>280.85</td>\n",
       "      <td>Yes</td>\n",
       "    </tr>\n",
       "    <tr>\n",
       "      <th>3</th>\n",
       "      <td>0011-IGKFF</td>\n",
       "      <td>Male</td>\n",
       "      <td>1</td>\n",
       "      <td>Yes</td>\n",
       "      <td>No</td>\n",
       "      <td>13</td>\n",
       "      <td>Yes</td>\n",
       "      <td>No</td>\n",
       "      <td>2</td>\n",
       "      <td>No</td>\n",
       "      <td>...</td>\n",
       "      <td>Yes</td>\n",
       "      <td>No</td>\n",
       "      <td>Yes</td>\n",
       "      <td>Yes</td>\n",
       "      <td>1</td>\n",
       "      <td>Yes</td>\n",
       "      <td>1</td>\n",
       "      <td>98.0</td>\n",
       "      <td>1237.85</td>\n",
       "      <td>Yes</td>\n",
       "    </tr>\n",
       "    <tr>\n",
       "      <th>4</th>\n",
       "      <td>0013-EXCHZ</td>\n",
       "      <td>Female</td>\n",
       "      <td>1</td>\n",
       "      <td>Yes</td>\n",
       "      <td>No</td>\n",
       "      <td>3</td>\n",
       "      <td>Yes</td>\n",
       "      <td>No</td>\n",
       "      <td>2</td>\n",
       "      <td>No</td>\n",
       "      <td>...</td>\n",
       "      <td>No</td>\n",
       "      <td>Yes</td>\n",
       "      <td>Yes</td>\n",
       "      <td>No</td>\n",
       "      <td>1</td>\n",
       "      <td>Yes</td>\n",
       "      <td>2</td>\n",
       "      <td>83.9</td>\n",
       "      <td>267.40</td>\n",
       "      <td>Yes</td>\n",
       "    </tr>\n",
       "  </tbody>\n",
       "</table>\n",
       "<p>5 rows × 21 columns</p>\n",
       "</div>"
      ],
      "text/plain": [
       "  customer_id  gender  senior_citizen partner dependents  tenure  \\\n",
       "0  0002-ORFBO  Female               0     Yes        Yes       9   \n",
       "1  0003-MKNFE    Male               0      No         No       9   \n",
       "2  0004-TLHLJ    Male               0      No         No       4   \n",
       "3  0011-IGKFF    Male               1     Yes         No      13   \n",
       "4  0013-EXCHZ  Female               1     Yes         No       3   \n",
       "\n",
       "  phone_service multiple_lines  internet_service_type_id online_security  ...  \\\n",
       "0           Yes             No                         1              No  ...   \n",
       "1           Yes            Yes                         1              No  ...   \n",
       "2           Yes             No                         2              No  ...   \n",
       "3           Yes             No                         2              No  ...   \n",
       "4           Yes             No                         2              No  ...   \n",
       "\n",
       "  device_protection tech_support streaming_tv streaming_movies  \\\n",
       "0                No          Yes          Yes               No   \n",
       "1                No           No           No              Yes   \n",
       "2               Yes           No           No               No   \n",
       "3               Yes           No          Yes              Yes   \n",
       "4                No          Yes          Yes               No   \n",
       "\n",
       "  contract_type_id  paperless_billing payment_type_id  monthly_charges  \\\n",
       "0                2                Yes               2             65.6   \n",
       "1                1                 No               2             59.9   \n",
       "2                1                Yes               1             73.9   \n",
       "3                1                Yes               1             98.0   \n",
       "4                1                Yes               2             83.9   \n",
       "\n",
       "   total_charges  churn  \n",
       "0         593.30     No  \n",
       "1         542.40     No  \n",
       "2         280.85    Yes  \n",
       "3        1237.85    Yes  \n",
       "4         267.40    Yes  \n",
       "\n",
       "[5 rows x 21 columns]"
      ]
     },
     "execution_count": 1062,
     "metadata": {},
     "output_type": "execute_result"
    }
   ],
   "source": [
    "df1.head()"
   ]
  },
  {
   "cell_type": "code",
   "execution_count": 1063,
   "id": "6d01d370",
   "metadata": {},
   "outputs": [
    {
     "data": {
      "text/plain": [
       "array([1, 2, 3])"
      ]
     },
     "execution_count": 1063,
     "metadata": {},
     "output_type": "execute_result"
    }
   ],
   "source": [
    "df1.internet_service_type_id.unique()"
   ]
  },
  {
   "cell_type": "code",
   "execution_count": 1064,
   "id": "35033a46",
   "metadata": {},
   "outputs": [
    {
     "data": {
      "text/plain": [
       "dtype('int64')"
      ]
     },
     "execution_count": 1064,
     "metadata": {},
     "output_type": "execute_result"
    }
   ],
   "source": [
    "df1.internet_service_type_id.dtype"
   ]
  },
  {
   "cell_type": "code",
   "execution_count": 1065,
   "id": "1f7462b5",
   "metadata": {},
   "outputs": [],
   "source": [
    "with_phone_service = df1[df1.phone_service == 'Yes']\n",
    "without_phone_service = df1[df1.phone_service == 'No']\n",
    "internet_service_DSL = df1[df1.internet_service_type_id == 1]\n",
    "internet_service_Fiber_optic = df1[df1.internet_service_type_id == 2]\n",
    "internet_service_None = df1[df1.internet_service_type_id == 3]"
   ]
  },
  {
   "cell_type": "code",
   "execution_count": 1066,
   "id": "f39e94ad",
   "metadata": {},
   "outputs": [
    {
     "data": {
      "text/plain": [
       "(0.24538898585363147, 7.117871077934896e-88)"
      ]
     },
     "execution_count": 1066,
     "metadata": {},
     "output_type": "execute_result"
    }
   ],
   "source": [
    "r, p = stats.pearsonr(with_phone_service.tenure, with_phone_service.monthly_charges)\n",
    "r, p"
   ]
  },
  {
   "cell_type": "code",
   "execution_count": 1067,
   "id": "77f309ec",
   "metadata": {},
   "outputs": [
    {
     "data": {
      "text/plain": [
       "(0.5857597986661369, 4.6033703473420516e-64)"
      ]
     },
     "execution_count": 1067,
     "metadata": {},
     "output_type": "execute_result"
    }
   ],
   "source": [
    "r, p = stats.pearsonr(without_phone_service.tenure, without_phone_service.monthly_charges)\n",
    "r, p"
   ]
  },
  {
   "cell_type": "code",
   "execution_count": 1068,
   "id": "c31f9658",
   "metadata": {},
   "outputs": [
    {
     "data": {
      "text/plain": [
       "(0.5172828196602499, 8.360426862271327e-166)"
      ]
     },
     "execution_count": 1068,
     "metadata": {},
     "output_type": "execute_result"
    }
   ],
   "source": [
    "r, p = stats.pearsonr(internet_service_DSL.tenure, internet_service_DSL.monthly_charges)\n",
    "r, p"
   ]
  },
  {
   "cell_type": "code",
   "execution_count": 1069,
   "id": "ec346c3b",
   "metadata": {},
   "outputs": [
    {
     "data": {
      "text/plain": [
       "(0.6246206176175593, 0.0)"
      ]
     },
     "execution_count": 1069,
     "metadata": {},
     "output_type": "execute_result"
    }
   ],
   "source": [
    "r, p = stats.pearsonr(internet_service_Fiber_optic.tenure, internet_service_Fiber_optic.monthly_charges)\n",
    "r, p"
   ]
  },
  {
   "cell_type": "code",
   "execution_count": 1070,
   "id": "937f0a72",
   "metadata": {},
   "outputs": [
    {
     "data": {
      "text/plain": [
       "(0.34232562306194525, 3.356186955195866e-43)"
      ]
     },
     "execution_count": 1070,
     "metadata": {},
     "output_type": "execute_result"
    }
   ],
   "source": [
    "r, p = stats.pearsonr(internet_service_None.tenure, internet_service_None.monthly_charges)\n",
    "r, p"
   ]
  },
  {
   "cell_type": "code",
   "execution_count": 1071,
   "id": "9a56df70",
   "metadata": {},
   "outputs": [
    {
     "data": {
      "text/plain": [
       "(0.8301076972900466, 0.0)"
      ]
     },
     "execution_count": 1071,
     "metadata": {},
     "output_type": "execute_result"
    }
   ],
   "source": [
    "r, p = stats.pearsonr(with_phone_service.tenure, with_phone_service.total_charges)\n",
    "r, p"
   ]
  },
  {
   "cell_type": "code",
   "execution_count": 1072,
   "id": "7586e8d0",
   "metadata": {},
   "outputs": [
    {
     "data": {
      "text/plain": [
       "(0.9535697728407466, 0.0)"
      ]
     },
     "execution_count": 1072,
     "metadata": {},
     "output_type": "execute_result"
    }
   ],
   "source": [
    "r, p = stats.pearsonr(without_phone_service.tenure, without_phone_service.total_charges)\n",
    "r, p"
   ]
  },
  {
   "cell_type": "code",
   "execution_count": 1073,
   "id": "aad0e933",
   "metadata": {},
   "outputs": [
    {
     "data": {
      "text/plain": [
       "(0.9413276892816262, 0.0)"
      ]
     },
     "execution_count": 1073,
     "metadata": {},
     "output_type": "execute_result"
    }
   ],
   "source": [
    "r, p = stats.pearsonr(internet_service_DSL.tenure, internet_service_DSL.total_charges)\n",
    "r, p"
   ]
  },
  {
   "cell_type": "code",
   "execution_count": 1074,
   "id": "4d79d6d8",
   "metadata": {},
   "outputs": [
    {
     "data": {
      "text/plain": [
       "(0.9853093528070621, 0.0)"
      ]
     },
     "execution_count": 1074,
     "metadata": {},
     "output_type": "execute_result"
    }
   ],
   "source": [
    "r, p = stats.pearsonr(internet_service_Fiber_optic.tenure, internet_service_Fiber_optic.total_charges)\n",
    "r, p"
   ]
  },
  {
   "cell_type": "code",
   "execution_count": 1075,
   "id": "852150b2",
   "metadata": {},
   "outputs": [
    {
     "data": {
      "text/plain": [
       "(0.9815669784401064, 0.0)"
      ]
     },
     "execution_count": 1075,
     "metadata": {},
     "output_type": "execute_result"
    }
   ],
   "source": [
    "r, p = stats.pearsonr(internet_service_None.tenure, internet_service_None.total_charges)\n",
    "r, p"
   ]
  },
  {
   "cell_type": "markdown",
   "id": "c2fea328",
   "metadata": {},
   "source": [
    "3. Use the employees database.\n",
    "\n",
    "- Is there a relationship between how long an employee has been with the company and their salary?\n",
    "- Is there a relationship between how long an employee has been with the company and the number of titles they have had?"
   ]
  },
  {
   "cell_type": "code",
   "execution_count": null,
   "id": "a02c30a4",
   "metadata": {},
   "outputs": [],
   "source": [
    "querry_salary_title = \"\"\"\n",
    "    SELECT emp_no, s.salary, s.from_date, s.to_date, t.title\n",
    "    FROM salaries s\n",
    "    JOIN titles t USING(emp_no);\n",
    "    \"\"\""
   ]
  },
  {
   "cell_type": "code",
   "execution_count": 1137,
   "id": "bfc353b4",
   "metadata": {},
   "outputs": [],
   "source": [
    "url = f'mysql+pymysql://{username}:{password}@{host}/employees'\n",
    "df = pd.read_sql(querry_salary_title, url)\n"
   ]
  },
  {
   "cell_type": "code",
   "execution_count": 1153,
   "id": "9b40c12a",
   "metadata": {},
   "outputs": [
    {
     "data": {
      "text/html": [
       "<div>\n",
       "<style scoped>\n",
       "    .dataframe tbody tr th:only-of-type {\n",
       "        vertical-align: middle;\n",
       "    }\n",
       "\n",
       "    .dataframe tbody tr th {\n",
       "        vertical-align: top;\n",
       "    }\n",
       "\n",
       "    .dataframe thead th {\n",
       "        text-align: right;\n",
       "    }\n",
       "</style>\n",
       "<table border=\"1\" class=\"dataframe\">\n",
       "  <thead>\n",
       "    <tr style=\"text-align: right;\">\n",
       "      <th></th>\n",
       "      <th>emp_no</th>\n",
       "      <th>salary</th>\n",
       "      <th>from_date</th>\n",
       "      <th>to_date</th>\n",
       "      <th>title</th>\n",
       "      <th>Salary_to_date</th>\n",
       "    </tr>\n",
       "  </thead>\n",
       "  <tbody>\n",
       "    <tr>\n",
       "      <th>0</th>\n",
       "      <td>10001</td>\n",
       "      <td>60117</td>\n",
       "      <td>1986-06-26</td>\n",
       "      <td>1987-06-26</td>\n",
       "      <td>Senior Engineer</td>\n",
       "      <td>1987-06-26</td>\n",
       "    </tr>\n",
       "    <tr>\n",
       "      <th>1</th>\n",
       "      <td>10001</td>\n",
       "      <td>62102</td>\n",
       "      <td>1987-06-26</td>\n",
       "      <td>1988-06-25</td>\n",
       "      <td>Senior Engineer</td>\n",
       "      <td>1988-06-25</td>\n",
       "    </tr>\n",
       "    <tr>\n",
       "      <th>2</th>\n",
       "      <td>10001</td>\n",
       "      <td>66074</td>\n",
       "      <td>1988-06-25</td>\n",
       "      <td>1989-06-25</td>\n",
       "      <td>Senior Engineer</td>\n",
       "      <td>1989-06-25</td>\n",
       "    </tr>\n",
       "    <tr>\n",
       "      <th>3</th>\n",
       "      <td>10001</td>\n",
       "      <td>66596</td>\n",
       "      <td>1989-06-25</td>\n",
       "      <td>1990-06-25</td>\n",
       "      <td>Senior Engineer</td>\n",
       "      <td>1990-06-25</td>\n",
       "    </tr>\n",
       "    <tr>\n",
       "      <th>4</th>\n",
       "      <td>10001</td>\n",
       "      <td>66961</td>\n",
       "      <td>1990-06-25</td>\n",
       "      <td>1991-06-25</td>\n",
       "      <td>Senior Engineer</td>\n",
       "      <td>1991-06-25</td>\n",
       "    </tr>\n",
       "  </tbody>\n",
       "</table>\n",
       "</div>"
      ],
      "text/plain": [
       "   emp_no  salary   from_date     to_date            title Salary_to_date\n",
       "0   10001   60117  1986-06-26  1987-06-26  Senior Engineer     1987-06-26\n",
       "1   10001   62102  1987-06-26  1988-06-25  Senior Engineer     1988-06-25\n",
       "2   10001   66074  1988-06-25  1989-06-25  Senior Engineer     1989-06-25\n",
       "3   10001   66596  1989-06-25  1990-06-25  Senior Engineer     1990-06-25\n",
       "4   10001   66961  1990-06-25  1991-06-25  Senior Engineer     1991-06-25"
      ]
     },
     "execution_count": 1153,
     "metadata": {},
     "output_type": "execute_result"
    }
   ],
   "source": [
    "df.head()"
   ]
  },
  {
   "cell_type": "code",
   "execution_count": 1154,
   "id": "00e6e1d5",
   "metadata": {},
   "outputs": [
    {
     "name": "stdout",
     "output_type": "stream",
     "text": [
      "<class 'pandas.core.frame.DataFrame'>\n",
      "RangeIndex: 4638507 entries, 0 to 4638506\n",
      "Data columns (total 6 columns):\n",
      " #   Column          Dtype \n",
      "---  ------          ----- \n",
      " 0   emp_no          int64 \n",
      " 1   salary          int64 \n",
      " 2   from_date       object\n",
      " 3   to_date         object\n",
      " 4   title           object\n",
      " 5   Salary_to_date  object\n",
      "dtypes: int64(2), object(4)\n",
      "memory usage: 212.3+ MB\n"
     ]
    }
   ],
   "source": [
    "df.info()"
   ]
  },
  {
   "cell_type": "code",
   "execution_count": 1138,
   "id": "b4463cc6",
   "metadata": {},
   "outputs": [
    {
     "data": {
      "text/plain": [
       "(4638507, 5)"
      ]
     },
     "execution_count": 1138,
     "metadata": {},
     "output_type": "execute_result"
    }
   ],
   "source": [
    "df.shape"
   ]
  },
  {
   "cell_type": "code",
   "execution_count": 1155,
   "id": "fe6835fa",
   "metadata": {},
   "outputs": [
    {
     "data": {
      "text/html": [
       "<div>\n",
       "<style scoped>\n",
       "    .dataframe tbody tr th:only-of-type {\n",
       "        vertical-align: middle;\n",
       "    }\n",
       "\n",
       "    .dataframe tbody tr th {\n",
       "        vertical-align: top;\n",
       "    }\n",
       "\n",
       "    .dataframe thead th {\n",
       "        text-align: right;\n",
       "    }\n",
       "</style>\n",
       "<table border=\"1\" class=\"dataframe\">\n",
       "  <thead>\n",
       "    <tr style=\"text-align: right;\">\n",
       "      <th></th>\n",
       "      <th>emp_no</th>\n",
       "      <th>salary</th>\n",
       "      <th>from_date</th>\n",
       "      <th>to_date</th>\n",
       "      <th>title</th>\n",
       "      <th>Salary_to_date</th>\n",
       "    </tr>\n",
       "  </thead>\n",
       "  <tbody>\n",
       "    <tr>\n",
       "      <th>0</th>\n",
       "      <td>10001</td>\n",
       "      <td>60117</td>\n",
       "      <td>1986-06-26</td>\n",
       "      <td>1987-06-26</td>\n",
       "      <td>Senior Engineer</td>\n",
       "      <td>1987-06-26</td>\n",
       "    </tr>\n",
       "    <tr>\n",
       "      <th>1</th>\n",
       "      <td>10001</td>\n",
       "      <td>62102</td>\n",
       "      <td>1987-06-26</td>\n",
       "      <td>1988-06-25</td>\n",
       "      <td>Senior Engineer</td>\n",
       "      <td>1988-06-25</td>\n",
       "    </tr>\n",
       "    <tr>\n",
       "      <th>2</th>\n",
       "      <td>10001</td>\n",
       "      <td>66074</td>\n",
       "      <td>1988-06-25</td>\n",
       "      <td>1989-06-25</td>\n",
       "      <td>Senior Engineer</td>\n",
       "      <td>1989-06-25</td>\n",
       "    </tr>\n",
       "    <tr>\n",
       "      <th>3</th>\n",
       "      <td>10001</td>\n",
       "      <td>66596</td>\n",
       "      <td>1989-06-25</td>\n",
       "      <td>1990-06-25</td>\n",
       "      <td>Senior Engineer</td>\n",
       "      <td>1990-06-25</td>\n",
       "    </tr>\n",
       "    <tr>\n",
       "      <th>4</th>\n",
       "      <td>10001</td>\n",
       "      <td>66961</td>\n",
       "      <td>1990-06-25</td>\n",
       "      <td>1991-06-25</td>\n",
       "      <td>Senior Engineer</td>\n",
       "      <td>1991-06-25</td>\n",
       "    </tr>\n",
       "    <tr>\n",
       "      <th>...</th>\n",
       "      <td>...</td>\n",
       "      <td>...</td>\n",
       "      <td>...</td>\n",
       "      <td>...</td>\n",
       "      <td>...</td>\n",
       "      <td>...</td>\n",
       "    </tr>\n",
       "    <tr>\n",
       "      <th>4638502</th>\n",
       "      <td>499999</td>\n",
       "      <td>63707</td>\n",
       "      <td>1997-11-30</td>\n",
       "      <td>1998-11-30</td>\n",
       "      <td>Engineer</td>\n",
       "      <td>1998-11-30</td>\n",
       "    </tr>\n",
       "    <tr>\n",
       "      <th>4638503</th>\n",
       "      <td>499999</td>\n",
       "      <td>67043</td>\n",
       "      <td>1998-11-30</td>\n",
       "      <td>1999-11-30</td>\n",
       "      <td>Engineer</td>\n",
       "      <td>1999-11-30</td>\n",
       "    </tr>\n",
       "    <tr>\n",
       "      <th>4638504</th>\n",
       "      <td>499999</td>\n",
       "      <td>70745</td>\n",
       "      <td>1999-11-30</td>\n",
       "      <td>2000-11-29</td>\n",
       "      <td>Engineer</td>\n",
       "      <td>2000-11-29</td>\n",
       "    </tr>\n",
       "    <tr>\n",
       "      <th>4638505</th>\n",
       "      <td>499999</td>\n",
       "      <td>74327</td>\n",
       "      <td>2000-11-29</td>\n",
       "      <td>2001-11-29</td>\n",
       "      <td>Engineer</td>\n",
       "      <td>2001-11-29</td>\n",
       "    </tr>\n",
       "    <tr>\n",
       "      <th>4638506</th>\n",
       "      <td>499999</td>\n",
       "      <td>77303</td>\n",
       "      <td>2001-11-29</td>\n",
       "      <td>9999-01-01</td>\n",
       "      <td>Engineer</td>\n",
       "      <td>9999-01-01</td>\n",
       "    </tr>\n",
       "  </tbody>\n",
       "</table>\n",
       "<p>4638497 rows × 6 columns</p>\n",
       "</div>"
      ],
      "text/plain": [
       "         emp_no  salary   from_date     to_date            title  \\\n",
       "0         10001   60117  1986-06-26  1987-06-26  Senior Engineer   \n",
       "1         10001   62102  1987-06-26  1988-06-25  Senior Engineer   \n",
       "2         10001   66074  1988-06-25  1989-06-25  Senior Engineer   \n",
       "3         10001   66596  1989-06-25  1990-06-25  Senior Engineer   \n",
       "4         10001   66961  1990-06-25  1991-06-25  Senior Engineer   \n",
       "...         ...     ...         ...         ...              ...   \n",
       "4638502  499999   63707  1997-11-30  1998-11-30         Engineer   \n",
       "4638503  499999   67043  1998-11-30  1999-11-30         Engineer   \n",
       "4638504  499999   70745  1999-11-30  2000-11-29         Engineer   \n",
       "4638505  499999   74327  2000-11-29  2001-11-29         Engineer   \n",
       "4638506  499999   77303  2001-11-29  9999-01-01         Engineer   \n",
       "\n",
       "        Salary_to_date  \n",
       "0           1987-06-26  \n",
       "1           1988-06-25  \n",
       "2           1989-06-25  \n",
       "3           1990-06-25  \n",
       "4           1991-06-25  \n",
       "...                ...  \n",
       "4638502     1998-11-30  \n",
       "4638503     1999-11-30  \n",
       "4638504     2000-11-29  \n",
       "4638505     2001-11-29  \n",
       "4638506     9999-01-01  \n",
       "\n",
       "[4638497 rows x 6 columns]"
      ]
     },
     "execution_count": 1155,
     "metadata": {},
     "output_type": "execute_result"
    }
   ],
   "source": [
    "kk = df.groupby(['emp_no', 'salary'])\n",
    "kk.head()\n"
   ]
  },
  {
   "cell_type": "code",
   "execution_count": 1149,
   "id": "e3a76e52",
   "metadata": {},
   "outputs": [
    {
     "data": {
      "text/plain": [
       "(2022, 12, 5)"
      ]
     },
     "execution_count": 1149,
     "metadata": {},
     "output_type": "execute_result"
    }
   ],
   "source": [
    "import datetime\n",
    "\n",
    "today_date = datetime.date.today()\n",
    "today_date\n",
    "\n",
    "today_date.year, today_date.month,today_date.day\n",
    "\n",
    "# df.to_date.astype(str).str.replace('date.today', today_date)\n"
   ]
  },
  {
   "cell_type": "code",
   "execution_count": 1156,
   "id": "adc3d9fd",
   "metadata": {},
   "outputs": [],
   "source": [
    "df['Salary_to_date'] = df.to_date"
   ]
  },
  {
   "cell_type": "code",
   "execution_count": 1157,
   "id": "316da96b",
   "metadata": {},
   "outputs": [],
   "source": [
    "df['duration'] = df['to_date']- df['from_date']\n"
   ]
  },
  {
   "cell_type": "code",
   "execution_count": 1158,
   "id": "045e4d33",
   "metadata": {},
   "outputs": [
    {
     "data": {
      "text/html": [
       "<div>\n",
       "<style scoped>\n",
       "    .dataframe tbody tr th:only-of-type {\n",
       "        vertical-align: middle;\n",
       "    }\n",
       "\n",
       "    .dataframe tbody tr th {\n",
       "        vertical-align: top;\n",
       "    }\n",
       "\n",
       "    .dataframe thead th {\n",
       "        text-align: right;\n",
       "    }\n",
       "</style>\n",
       "<table border=\"1\" class=\"dataframe\">\n",
       "  <thead>\n",
       "    <tr style=\"text-align: right;\">\n",
       "      <th></th>\n",
       "      <th>emp_no</th>\n",
       "      <th>salary</th>\n",
       "      <th>from_date</th>\n",
       "      <th>to_date</th>\n",
       "      <th>title</th>\n",
       "      <th>Salary_to_date</th>\n",
       "      <th>duration</th>\n",
       "    </tr>\n",
       "  </thead>\n",
       "  <tbody>\n",
       "    <tr>\n",
       "      <th>0</th>\n",
       "      <td>10001</td>\n",
       "      <td>60117</td>\n",
       "      <td>1986-06-26</td>\n",
       "      <td>1987-06-26</td>\n",
       "      <td>Senior Engineer</td>\n",
       "      <td>1987-06-26</td>\n",
       "      <td>365 days, 0:00:00</td>\n",
       "    </tr>\n",
       "    <tr>\n",
       "      <th>1</th>\n",
       "      <td>10001</td>\n",
       "      <td>62102</td>\n",
       "      <td>1987-06-26</td>\n",
       "      <td>1988-06-25</td>\n",
       "      <td>Senior Engineer</td>\n",
       "      <td>1988-06-25</td>\n",
       "      <td>365 days, 0:00:00</td>\n",
       "    </tr>\n",
       "    <tr>\n",
       "      <th>2</th>\n",
       "      <td>10001</td>\n",
       "      <td>66074</td>\n",
       "      <td>1988-06-25</td>\n",
       "      <td>1989-06-25</td>\n",
       "      <td>Senior Engineer</td>\n",
       "      <td>1989-06-25</td>\n",
       "      <td>365 days, 0:00:00</td>\n",
       "    </tr>\n",
       "    <tr>\n",
       "      <th>3</th>\n",
       "      <td>10001</td>\n",
       "      <td>66596</td>\n",
       "      <td>1989-06-25</td>\n",
       "      <td>1990-06-25</td>\n",
       "      <td>Senior Engineer</td>\n",
       "      <td>1990-06-25</td>\n",
       "      <td>365 days, 0:00:00</td>\n",
       "    </tr>\n",
       "    <tr>\n",
       "      <th>4</th>\n",
       "      <td>10001</td>\n",
       "      <td>66961</td>\n",
       "      <td>1990-06-25</td>\n",
       "      <td>1991-06-25</td>\n",
       "      <td>Senior Engineer</td>\n",
       "      <td>1991-06-25</td>\n",
       "      <td>365 days, 0:00:00</td>\n",
       "    </tr>\n",
       "  </tbody>\n",
       "</table>\n",
       "</div>"
      ],
      "text/plain": [
       "   emp_no  salary   from_date     to_date            title Salary_to_date  \\\n",
       "0   10001   60117  1986-06-26  1987-06-26  Senior Engineer     1987-06-26   \n",
       "1   10001   62102  1987-06-26  1988-06-25  Senior Engineer     1988-06-25   \n",
       "2   10001   66074  1988-06-25  1989-06-25  Senior Engineer     1989-06-25   \n",
       "3   10001   66596  1989-06-25  1990-06-25  Senior Engineer     1990-06-25   \n",
       "4   10001   66961  1990-06-25  1991-06-25  Senior Engineer     1991-06-25   \n",
       "\n",
       "            duration  \n",
       "0  365 days, 0:00:00  \n",
       "1  365 days, 0:00:00  \n",
       "2  365 days, 0:00:00  \n",
       "3  365 days, 0:00:00  \n",
       "4  365 days, 0:00:00  "
      ]
     },
     "execution_count": 1158,
     "metadata": {},
     "output_type": "execute_result"
    }
   ],
   "source": [
    "df.head()"
   ]
  },
  {
   "cell_type": "code",
   "execution_count": null,
   "id": "93f943a4",
   "metadata": {},
   "outputs": [],
   "source": []
  }
 ],
 "metadata": {
  "kernelspec": {
   "display_name": "Python 3 (ipykernel)",
   "language": "python",
   "name": "python3"
  },
  "language_info": {
   "codemirror_mode": {
    "name": "ipython",
    "version": 3
   },
   "file_extension": ".py",
   "mimetype": "text/x-python",
   "name": "python",
   "nbconvert_exporter": "python",
   "pygments_lexer": "ipython3",
   "version": "3.9.13"
  }
 },
 "nbformat": 4,
 "nbformat_minor": 5
}
