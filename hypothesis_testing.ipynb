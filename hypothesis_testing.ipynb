{
 "cells": [
  {
   "cell_type": "code",
   "execution_count": 170,
   "id": "11692012",
   "metadata": {},
   "outputs": [],
   "source": [
    "import pandas as pd\n",
    "import matplotlib.pyplot as plt\n",
    "import scipy.stats as stats\n",
    "import seaborn as sns\n",
    "from pydataset import data\n",
    "import env"
   ]
  },
  {
   "cell_type": "markdown",
   "id": "ef2e6687",
   "metadata": {},
   "source": [
    "For each of the following questions, formulate a null and alternative hypothesis (be as specific as you can be), then give an example of what a true positive, true negative, type I and type II errors would look like. Note that some of the questions are intentionally phrased in a vague way. It is your job to reword these as more precise questions that could be tested.\n",
    "\n",
    "- Has the network latency gone up since we switched internet service providers?\n",
    "- Is the website redesign any good?\n",
    "- Is our television ad driving more sales?"
   ]
  },
  {
   "cell_type": "markdown",
   "id": "2a6e9b7e",
   "metadata": {},
   "source": [
    "#### Has the network latency gone up since we switched internet service providers?Ho:  latency has remained the same or decrease\n",
    "$H_{0}$ :  Service providers has no effect on network latency\n",
    "\n",
    "$H_{a}$ : Service providers has effect on network latency\n",
    "\n",
    "True Positive: service provider limit bandwith on congestion\n",
    "\n",
    "True Negative: slow computer\n",
    "\n",
    "type I: Playing game on 4K graphics increases network latency  \n",
    "\n",
    "type II: Service provider internet speed is low"
   ]
  },
  {
   "cell_type": "markdown",
   "id": "237ee676",
   "metadata": {},
   "source": [
    "#### Is the website redesign any good?\n",
    "$H_{0}$ : website redesign has no effect on website traffic\n",
    "\n",
    "$H_{a}$ : website redesign has effect on website traffic\n",
    "\n",
    "True Positive: \n",
    "\n",
    "True Negative: \n",
    "\n",
    "type I: users visit website to use redesign website\n",
    "\n",
    "type II: users visit website because of promo coupon code"
   ]
  },
  {
   "cell_type": "markdown",
   "id": "ef54db08",
   "metadata": {},
   "source": [
    "#### Is our television ad driving more sales?\n",
    "$H_{0}$ : television ad has no effect on sale\n",
    "\n",
    "$H_{a}$ : television ad has effect sale\n",
    "\n",
    "True Positive: customers said that they bought items after watching ad\n",
    "\n",
    "True Negative: \n",
    "\n",
    "type I: no change on number of sales after airing ad\n",
    "\n",
    "type II: newspaper coupons increasing sales"
   ]
  },
  {
   "cell_type": "markdown",
   "id": "9edd25be",
   "metadata": {},
   "source": [
    "#### Answer with the type of test you would use (assume normal distribution):\n",
    "\n",
    "   - Is there a difference in grades of students on the second floor compared to grades of all students?\n",
    "    \n",
    "   - Are adults who drink milk taller than adults who dont drink milk?\n",
    "     \n",
    "   - Is the the price of gas higher in texas or in new mexico?    \n",
    "    \n",
    "   - Are there differences in stress levels between students who take data science vs students who take web development vs students who take cloud academy?\n",
    "   "
   ]
  },
  {
   "cell_type": "markdown",
   "id": "3e476758",
   "metadata": {},
   "source": [
    "2-tail One Sample T-Test\n",
    "\n",
    "2-tail Independent T-Test\n",
    "\n",
    "1-tail Independent T-Test, greater than\n",
    "\n",
    "ANOVA Analysis of Variance\n"
   ]
  },
  {
   "cell_type": "markdown",
   "id": "ec00665d",
   "metadata": {},
   "source": [
    "#### 2. Ace Realty wants to determine whether the average time it takes to sell homes is different for its two offices. A sample of 40 sales from office #1 revealed a mean of 90 days and a standard deviation of 15 days. A sample of 50 sales from office #2 revealed a mean of 100 days and a standard deviation of 20 days. Use a .05 level of significance."
   ]
  },
  {
   "cell_type": "markdown",
   "id": "42fa6400",
   "metadata": {},
   "source": [
    "####  3. Load the mpg dataset and use it to answer the following questions:\n",
    "\n",
    "    - Is there a difference in fuel-efficiency in cars from 2008 vs 1999? \n",
    "    \n",
    "    - Are compact cars more fuel-efficient than the average car?\n",
    "    \n",
    "    - Do manual cars get better gas mileage than automatic cars?"
   ]
  },
  {
   "cell_type": "code",
   "execution_count": 171,
   "id": "426c478a",
   "metadata": {},
   "outputs": [
    {
     "data": {
      "text/html": [
       "<div>\n",
       "<style scoped>\n",
       "    .dataframe tbody tr th:only-of-type {\n",
       "        vertical-align: middle;\n",
       "    }\n",
       "\n",
       "    .dataframe tbody tr th {\n",
       "        vertical-align: top;\n",
       "    }\n",
       "\n",
       "    .dataframe thead th {\n",
       "        text-align: right;\n",
       "    }\n",
       "</style>\n",
       "<table border=\"1\" class=\"dataframe\">\n",
       "  <thead>\n",
       "    <tr style=\"text-align: right;\">\n",
       "      <th></th>\n",
       "      <th>manufacturer</th>\n",
       "      <th>model</th>\n",
       "      <th>displ</th>\n",
       "      <th>year</th>\n",
       "      <th>cyl</th>\n",
       "      <th>trans</th>\n",
       "      <th>drv</th>\n",
       "      <th>cty</th>\n",
       "      <th>hwy</th>\n",
       "      <th>fl</th>\n",
       "      <th>class</th>\n",
       "    </tr>\n",
       "  </thead>\n",
       "  <tbody>\n",
       "    <tr>\n",
       "      <th>1</th>\n",
       "      <td>audi</td>\n",
       "      <td>a4</td>\n",
       "      <td>1.8</td>\n",
       "      <td>1999</td>\n",
       "      <td>4</td>\n",
       "      <td>auto(l5)</td>\n",
       "      <td>f</td>\n",
       "      <td>18</td>\n",
       "      <td>29</td>\n",
       "      <td>p</td>\n",
       "      <td>compact</td>\n",
       "    </tr>\n",
       "    <tr>\n",
       "      <th>2</th>\n",
       "      <td>audi</td>\n",
       "      <td>a4</td>\n",
       "      <td>1.8</td>\n",
       "      <td>1999</td>\n",
       "      <td>4</td>\n",
       "      <td>manual(m5)</td>\n",
       "      <td>f</td>\n",
       "      <td>21</td>\n",
       "      <td>29</td>\n",
       "      <td>p</td>\n",
       "      <td>compact</td>\n",
       "    </tr>\n",
       "    <tr>\n",
       "      <th>3</th>\n",
       "      <td>audi</td>\n",
       "      <td>a4</td>\n",
       "      <td>2.0</td>\n",
       "      <td>2008</td>\n",
       "      <td>4</td>\n",
       "      <td>manual(m6)</td>\n",
       "      <td>f</td>\n",
       "      <td>20</td>\n",
       "      <td>31</td>\n",
       "      <td>p</td>\n",
       "      <td>compact</td>\n",
       "    </tr>\n",
       "    <tr>\n",
       "      <th>4</th>\n",
       "      <td>audi</td>\n",
       "      <td>a4</td>\n",
       "      <td>2.0</td>\n",
       "      <td>2008</td>\n",
       "      <td>4</td>\n",
       "      <td>auto(av)</td>\n",
       "      <td>f</td>\n",
       "      <td>21</td>\n",
       "      <td>30</td>\n",
       "      <td>p</td>\n",
       "      <td>compact</td>\n",
       "    </tr>\n",
       "    <tr>\n",
       "      <th>5</th>\n",
       "      <td>audi</td>\n",
       "      <td>a4</td>\n",
       "      <td>2.8</td>\n",
       "      <td>1999</td>\n",
       "      <td>6</td>\n",
       "      <td>auto(l5)</td>\n",
       "      <td>f</td>\n",
       "      <td>16</td>\n",
       "      <td>26</td>\n",
       "      <td>p</td>\n",
       "      <td>compact</td>\n",
       "    </tr>\n",
       "  </tbody>\n",
       "</table>\n",
       "</div>"
      ],
      "text/plain": [
       "  manufacturer model  displ  year  cyl       trans drv  cty  hwy fl    class\n",
       "1         audi    a4    1.8  1999    4    auto(l5)   f   18   29  p  compact\n",
       "2         audi    a4    1.8  1999    4  manual(m5)   f   21   29  p  compact\n",
       "3         audi    a4    2.0  2008    4  manual(m6)   f   20   31  p  compact\n",
       "4         audi    a4    2.0  2008    4    auto(av)   f   21   30  p  compact\n",
       "5         audi    a4    2.8  1999    6    auto(l5)   f   16   26  p  compact"
      ]
     },
     "execution_count": 171,
     "metadata": {},
     "output_type": "execute_result"
    }
   ],
   "source": [
    "df = data('mpg')\n",
    "df.head()\n"
   ]
  },
  {
   "cell_type": "code",
   "execution_count": 172,
   "id": "1bb8fad0",
   "metadata": {},
   "outputs": [
    {
     "data": {
      "text/plain": [
       "1999    117\n",
       "2008    117\n",
       "Name: year, dtype: int64"
      ]
     },
     "execution_count": 172,
     "metadata": {},
     "output_type": "execute_result"
    }
   ],
   "source": [
    "df.year.value_counts()"
   ]
  },
  {
   "cell_type": "code",
   "execution_count": 173,
   "id": "2f513697",
   "metadata": {},
   "outputs": [
    {
     "name": "stdout",
     "output_type": "stream",
     "text": [
      "<class 'pandas.core.frame.DataFrame'>\n",
      "Int64Index: 234 entries, 1 to 234\n",
      "Data columns (total 11 columns):\n",
      " #   Column        Non-Null Count  Dtype  \n",
      "---  ------        --------------  -----  \n",
      " 0   manufacturer  234 non-null    object \n",
      " 1   model         234 non-null    object \n",
      " 2   displ         234 non-null    float64\n",
      " 3   year          234 non-null    int64  \n",
      " 4   cyl           234 non-null    int64  \n",
      " 5   trans         234 non-null    object \n",
      " 6   drv           234 non-null    object \n",
      " 7   cty           234 non-null    int64  \n",
      " 8   hwy           234 non-null    int64  \n",
      " 9   fl            234 non-null    object \n",
      " 10  class         234 non-null    object \n",
      "dtypes: float64(1), int64(4), object(6)\n",
      "memory usage: 21.9+ KB\n"
     ]
    }
   ],
   "source": [
    "df.info()"
   ]
  },
  {
   "cell_type": "code",
   "execution_count": 174,
   "id": "64160d17",
   "metadata": {},
   "outputs": [
    {
     "data": {
      "text/html": [
       "<div>\n",
       "<style scoped>\n",
       "    .dataframe tbody tr th:only-of-type {\n",
       "        vertical-align: middle;\n",
       "    }\n",
       "\n",
       "    .dataframe tbody tr th {\n",
       "        vertical-align: top;\n",
       "    }\n",
       "\n",
       "    .dataframe thead th {\n",
       "        text-align: right;\n",
       "    }\n",
       "</style>\n",
       "<table border=\"1\" class=\"dataframe\">\n",
       "  <thead>\n",
       "    <tr style=\"text-align: right;\">\n",
       "      <th></th>\n",
       "      <th>manufacturer</th>\n",
       "      <th>model</th>\n",
       "      <th>displ</th>\n",
       "      <th>year</th>\n",
       "      <th>cyl</th>\n",
       "      <th>trans</th>\n",
       "      <th>drv</th>\n",
       "      <th>cty</th>\n",
       "      <th>hwy</th>\n",
       "      <th>fl</th>\n",
       "      <th>class</th>\n",
       "      <th>fuel_efficiency</th>\n",
       "    </tr>\n",
       "  </thead>\n",
       "  <tbody>\n",
       "    <tr>\n",
       "      <th>1</th>\n",
       "      <td>audi</td>\n",
       "      <td>a4</td>\n",
       "      <td>1.8</td>\n",
       "      <td>1999</td>\n",
       "      <td>4</td>\n",
       "      <td>auto(l5)</td>\n",
       "      <td>f</td>\n",
       "      <td>18</td>\n",
       "      <td>29</td>\n",
       "      <td>p</td>\n",
       "      <td>compact</td>\n",
       "      <td>23.5</td>\n",
       "    </tr>\n",
       "    <tr>\n",
       "      <th>2</th>\n",
       "      <td>audi</td>\n",
       "      <td>a4</td>\n",
       "      <td>1.8</td>\n",
       "      <td>1999</td>\n",
       "      <td>4</td>\n",
       "      <td>manual(m5)</td>\n",
       "      <td>f</td>\n",
       "      <td>21</td>\n",
       "      <td>29</td>\n",
       "      <td>p</td>\n",
       "      <td>compact</td>\n",
       "      <td>25.0</td>\n",
       "    </tr>\n",
       "    <tr>\n",
       "      <th>3</th>\n",
       "      <td>audi</td>\n",
       "      <td>a4</td>\n",
       "      <td>2.0</td>\n",
       "      <td>2008</td>\n",
       "      <td>4</td>\n",
       "      <td>manual(m6)</td>\n",
       "      <td>f</td>\n",
       "      <td>20</td>\n",
       "      <td>31</td>\n",
       "      <td>p</td>\n",
       "      <td>compact</td>\n",
       "      <td>25.5</td>\n",
       "    </tr>\n",
       "    <tr>\n",
       "      <th>4</th>\n",
       "      <td>audi</td>\n",
       "      <td>a4</td>\n",
       "      <td>2.0</td>\n",
       "      <td>2008</td>\n",
       "      <td>4</td>\n",
       "      <td>auto(av)</td>\n",
       "      <td>f</td>\n",
       "      <td>21</td>\n",
       "      <td>30</td>\n",
       "      <td>p</td>\n",
       "      <td>compact</td>\n",
       "      <td>25.5</td>\n",
       "    </tr>\n",
       "    <tr>\n",
       "      <th>5</th>\n",
       "      <td>audi</td>\n",
       "      <td>a4</td>\n",
       "      <td>2.8</td>\n",
       "      <td>1999</td>\n",
       "      <td>6</td>\n",
       "      <td>auto(l5)</td>\n",
       "      <td>f</td>\n",
       "      <td>16</td>\n",
       "      <td>26</td>\n",
       "      <td>p</td>\n",
       "      <td>compact</td>\n",
       "      <td>21.0</td>\n",
       "    </tr>\n",
       "    <tr>\n",
       "      <th>...</th>\n",
       "      <td>...</td>\n",
       "      <td>...</td>\n",
       "      <td>...</td>\n",
       "      <td>...</td>\n",
       "      <td>...</td>\n",
       "      <td>...</td>\n",
       "      <td>...</td>\n",
       "      <td>...</td>\n",
       "      <td>...</td>\n",
       "      <td>...</td>\n",
       "      <td>...</td>\n",
       "      <td>...</td>\n",
       "    </tr>\n",
       "    <tr>\n",
       "      <th>230</th>\n",
       "      <td>volkswagen</td>\n",
       "      <td>passat</td>\n",
       "      <td>2.0</td>\n",
       "      <td>2008</td>\n",
       "      <td>4</td>\n",
       "      <td>auto(s6)</td>\n",
       "      <td>f</td>\n",
       "      <td>19</td>\n",
       "      <td>28</td>\n",
       "      <td>p</td>\n",
       "      <td>midsize</td>\n",
       "      <td>23.5</td>\n",
       "    </tr>\n",
       "    <tr>\n",
       "      <th>231</th>\n",
       "      <td>volkswagen</td>\n",
       "      <td>passat</td>\n",
       "      <td>2.0</td>\n",
       "      <td>2008</td>\n",
       "      <td>4</td>\n",
       "      <td>manual(m6)</td>\n",
       "      <td>f</td>\n",
       "      <td>21</td>\n",
       "      <td>29</td>\n",
       "      <td>p</td>\n",
       "      <td>midsize</td>\n",
       "      <td>25.0</td>\n",
       "    </tr>\n",
       "    <tr>\n",
       "      <th>232</th>\n",
       "      <td>volkswagen</td>\n",
       "      <td>passat</td>\n",
       "      <td>2.8</td>\n",
       "      <td>1999</td>\n",
       "      <td>6</td>\n",
       "      <td>auto(l5)</td>\n",
       "      <td>f</td>\n",
       "      <td>16</td>\n",
       "      <td>26</td>\n",
       "      <td>p</td>\n",
       "      <td>midsize</td>\n",
       "      <td>21.0</td>\n",
       "    </tr>\n",
       "    <tr>\n",
       "      <th>233</th>\n",
       "      <td>volkswagen</td>\n",
       "      <td>passat</td>\n",
       "      <td>2.8</td>\n",
       "      <td>1999</td>\n",
       "      <td>6</td>\n",
       "      <td>manual(m5)</td>\n",
       "      <td>f</td>\n",
       "      <td>18</td>\n",
       "      <td>26</td>\n",
       "      <td>p</td>\n",
       "      <td>midsize</td>\n",
       "      <td>22.0</td>\n",
       "    </tr>\n",
       "    <tr>\n",
       "      <th>234</th>\n",
       "      <td>volkswagen</td>\n",
       "      <td>passat</td>\n",
       "      <td>3.6</td>\n",
       "      <td>2008</td>\n",
       "      <td>6</td>\n",
       "      <td>auto(s6)</td>\n",
       "      <td>f</td>\n",
       "      <td>17</td>\n",
       "      <td>26</td>\n",
       "      <td>p</td>\n",
       "      <td>midsize</td>\n",
       "      <td>21.5</td>\n",
       "    </tr>\n",
       "  </tbody>\n",
       "</table>\n",
       "<p>234 rows × 12 columns</p>\n",
       "</div>"
      ],
      "text/plain": [
       "    manufacturer   model  displ  year  cyl       trans drv  cty  hwy fl  \\\n",
       "1           audi      a4    1.8  1999    4    auto(l5)   f   18   29  p   \n",
       "2           audi      a4    1.8  1999    4  manual(m5)   f   21   29  p   \n",
       "3           audi      a4    2.0  2008    4  manual(m6)   f   20   31  p   \n",
       "4           audi      a4    2.0  2008    4    auto(av)   f   21   30  p   \n",
       "5           audi      a4    2.8  1999    6    auto(l5)   f   16   26  p   \n",
       "..           ...     ...    ...   ...  ...         ...  ..  ...  ... ..   \n",
       "230   volkswagen  passat    2.0  2008    4    auto(s6)   f   19   28  p   \n",
       "231   volkswagen  passat    2.0  2008    4  manual(m6)   f   21   29  p   \n",
       "232   volkswagen  passat    2.8  1999    6    auto(l5)   f   16   26  p   \n",
       "233   volkswagen  passat    2.8  1999    6  manual(m5)   f   18   26  p   \n",
       "234   volkswagen  passat    3.6  2008    6    auto(s6)   f   17   26  p   \n",
       "\n",
       "       class  fuel_efficiency  \n",
       "1    compact             23.5  \n",
       "2    compact             25.0  \n",
       "3    compact             25.5  \n",
       "4    compact             25.5  \n",
       "5    compact             21.0  \n",
       "..       ...              ...  \n",
       "230  midsize             23.5  \n",
       "231  midsize             25.0  \n",
       "232  midsize             21.0  \n",
       "233  midsize             22.0  \n",
       "234  midsize             21.5  \n",
       "\n",
       "[234 rows x 12 columns]"
      ]
     },
     "execution_count": 174,
     "metadata": {},
     "output_type": "execute_result"
    }
   ],
   "source": [
    "df['fuel_efficiency'] = (df.cty + df.hwy)/2\n",
    "df"
   ]
  },
  {
   "cell_type": "code",
   "execution_count": 175,
   "id": "f4d4a711",
   "metadata": {},
   "outputs": [],
   "source": [
    "year_1999 = df[df.year == 1999].fuel_efficiency\n",
    "year_2008 = df[df.year == 2008].fuel_efficiency"
   ]
  },
  {
   "cell_type": "code",
   "execution_count": 176,
   "id": "cb97ca26",
   "metadata": {},
   "outputs": [
    {
     "data": {
      "text/plain": [
       "<AxesSubplot:>"
      ]
     },
     "execution_count": 176,
     "metadata": {},
     "output_type": "execute_result"
    },
    {
     "data": {
      "image/png": "[encoded data removed]",
      "text/plain": [
       "<Figure size 640x480 with 1 Axes>"
      ]
     },
     "metadata": {},
     "output_type": "display_data"
    }
   ],
   "source": [
    "year_1999.hist()"
   ]
  },
  {
   "cell_type": "code",
   "execution_count": 177,
   "id": "ae728135",
   "metadata": {},
   "outputs": [
    {
     "data": {
      "text/plain": [
       "<AxesSubplot:>"
      ]
     },
     "execution_count": 177,
     "metadata": {},
     "output_type": "execute_result"
    },
    {
     "data": {
      "image/png": "[encoded data removed]",
      "text/plain": [
       "<Figure size 640x480 with 1 Axes>"
      ]
     },
     "metadata": {},
     "output_type": "display_data"
    }
   ],
   "source": [
    "year_2008.hist()"
   ]
  },
  {
   "cell_type": "markdown",
   "id": "d2a9e4eb",
   "metadata": {},
   "source": [
    "#### Hypothesis\n",
    "$H_{0}$ : cars from 2008 and 1999 has no difference in fuel-efficiency\n",
    "\n",
    "$H_{a}$ : cars from 2008 and 1999 has difference in fuel- efficiency\n",
    "\n",
    "#### Significane Level\n",
    "Alpha set to 0.05"
   ]
  },
  {
   "cell_type": "code",
   "execution_count": 178,
   "id": "e39c2793",
   "metadata": {},
   "outputs": [],
   "source": [
    "alpha = 0.05"
   ]
  },
  {
   "cell_type": "markdown",
   "id": "83b30f3b",
   "metadata": {},
   "source": [
    "#### Verify assumptions\n",
    "\n",
    "- Independent sample\n",
    "- Normal Distribution, or at least 30 observations\n",
    "- Equal Variance"
   ]
  },
  {
   "cell_type": "code",
   "execution_count": 179,
   "id": "24505f87",
   "metadata": {},
   "outputs": [
    {
     "data": {
      "text/plain": [
       "(0.033228136671080453, 0.855517569468803)"
      ]
     },
     "execution_count": 179,
     "metadata": {},
     "output_type": "execute_result"
    }
   ],
   "source": [
    "t, p = stats.levene(year_1999, year_2008)\n",
    "t, p"
   ]
  },
  {
   "cell_type": "code",
   "execution_count": 180,
   "id": "d7a32580",
   "metadata": {},
   "outputs": [
    {
     "data": {
      "text/plain": [
       "(0.10300393353208691, 0.7482541485808683)"
      ]
     },
     "execution_count": 180,
     "metadata": {},
     "output_type": "execute_result"
    }
   ],
   "source": [
    "t, p = stats.kruskal(year_1999, year_2008)\n",
    "t, p"
   ]
  },
  {
   "cell_type": "markdown",
   "id": "34903da7",
   "metadata": {},
   "source": [
    "#### Decide:\n",
    "    \n",
    "- p-value < alpha"
   ]
  },
  {
   "cell_type": "code",
   "execution_count": 181,
   "id": "0ad012b6",
   "metadata": {},
   "outputs": [
    {
     "name": "stdout",
     "output_type": "stream",
     "text": [
      "Fail to reject $H_{0}$ \n"
     ]
    }
   ],
   "source": [
    "# Is there a difference in fuel-efficiency in cars from 2008 vs 1999?\n",
    "\n",
    "if p < alpha:\n",
    "    print('Reject $H_{0}$')\n",
    "else: \n",
    "    print('Fail to reject $H_{0}$ ')\n",
    "\n"
   ]
  },
  {
   "cell_type": "markdown",
   "id": "8394d616",
   "metadata": {},
   "source": [
    "##### Are compact cars more fuel-efficient than the average car?"
   ]
  },
  {
   "cell_type": "markdown",
   "id": "85d6a16a",
   "metadata": {},
   "source": [
    "#### Hypothesis\n",
    "$H_{0}$ :mean of fuel-efficient of compacts car not greater than mean of fuel-efficient of all cars\n",
    "\n",
    "$H_{a}$ : mean of fuel-efficient of compacts car greater than mean of fuel-efficient of all cars\n",
    "\n",
    "#### Significane Level\n",
    "Alpha set to 0.05"
   ]
  },
  {
   "cell_type": "code",
   "execution_count": 182,
   "id": "99d32345",
   "metadata": {},
   "outputs": [],
   "source": [
    "alpha = 0.05"
   ]
  },
  {
   "cell_type": "markdown",
   "id": "0b4f4127",
   "metadata": {},
   "source": [
    "##### Verify Assumptions\n",
    "\n",
    "- Normal Distribution, or at least 30 observations "
   ]
  },
  {
   "cell_type": "code",
   "execution_count": 188,
   "id": "bc87086c",
   "metadata": {},
   "outputs": [
    {
     "data": {
      "text/plain": [
       "suv           62\n",
       "compact       47\n",
       "midsize       41\n",
       "subcompact    35\n",
       "pickup        33\n",
       "minivan       11\n",
       "2seater        5\n",
       "Name: class, dtype: int64"
      ]
     },
     "execution_count": 188,
     "metadata": {},
     "output_type": "execute_result"
    }
   ],
   "source": [
    "df['class'].value_counts()"
   ]
  },
  {
   "cell_type": "code",
   "execution_count": 190,
   "id": "611b459e",
   "metadata": {},
   "outputs": [
    {
     "data": {
      "text/plain": [
       "20.14957264957265"
      ]
     },
     "execution_count": 190,
     "metadata": {},
     "output_type": "execute_result"
    }
   ],
   "source": [
    "compact_sample = df[df['class'] == 'compact'].fuel_efficiency\n",
    "overall_mean = df.fuel_efficiency.mean()\n",
    "overall_mean\n"
   ]
  },
  {
   "cell_type": "markdown",
   "id": "15d7aa1b",
   "metadata": {},
   "source": [
    "#### Compute test statistic and probability (t-statistic & p-value)"
   ]
  },
  {
   "cell_type": "code",
   "execution_count": 194,
   "id": "4f9818ac",
   "metadata": {},
   "outputs": [
    {
     "data": {
      "text/plain": [
       "(7.896888573132533, 2.0992818971585743e-10)"
      ]
     },
     "execution_count": 194,
     "metadata": {},
     "output_type": "execute_result"
    }
   ],
   "source": [
    "t, p = stats.ttest_1samp(compact_sample, overall_mean)\n",
    "t, p/2"
   ]
  },
  {
   "cell_type": "markdown",
   "id": "7b9565fa",
   "metadata": {},
   "source": [
    "#### Decide\n",
    "\n",
    "- p/2 < alpha and t > 0\n"
   ]
  },
  {
   "cell_type": "code",
   "execution_count": 195,
   "id": "163592af",
   "metadata": {},
   "outputs": [
    {
     "name": "stdout",
     "output_type": "stream",
     "text": [
      "We reject $H_{0}$\n"
     ]
    }
   ],
   "source": [
    "if p/2 > alpha:\n",
    "    print(\"We fail to reject $H_{0}$\")\n",
    "elif t < 0:\n",
    "    print(\"We fail to reject $H_{0}$\")\n",
    "else:\n",
    "    print(\"We reject $H_{0}$\")\n"
   ]
  },
  {
   "cell_type": "markdown",
   "id": "6b21c567",
   "metadata": {},
   "source": [
    "#### Do manual cars get better gas mileage than automatic cars?"
   ]
  },
  {
   "cell_type": "markdown",
   "id": "150cef69",
   "metadata": {},
   "source": [
    "#### Hypothesis\n",
    "\n",
    "𝐻0  : gas mileage of manual cars not greater than gas mileage of automatic car\n",
    "\n",
    "𝐻𝑎  : gas mileage of manual cars greater than gas mileage of automatic car\n",
    "\n",
    "#### Significane Level\n",
    "\n",
    "Alpha set to 0.05"
   ]
  },
  {
   "cell_type": "code",
   "execution_count": 198,
   "id": "633581aa",
   "metadata": {},
   "outputs": [],
   "source": [
    "alpha = 0.05"
   ]
  },
  {
   "cell_type": "code",
   "execution_count": 200,
   "id": "2fb2866d",
   "metadata": {},
   "outputs": [
    {
     "data": {
      "text/html": [
       "<div>\n",
       "<style scoped>\n",
       "    .dataframe tbody tr th:only-of-type {\n",
       "        vertical-align: middle;\n",
       "    }\n",
       "\n",
       "    .dataframe tbody tr th {\n",
       "        vertical-align: top;\n",
       "    }\n",
       "\n",
       "    .dataframe thead th {\n",
       "        text-align: right;\n",
       "    }\n",
       "</style>\n",
       "<table border=\"1\" class=\"dataframe\">\n",
       "  <thead>\n",
       "    <tr style=\"text-align: right;\">\n",
       "      <th></th>\n",
       "      <th>manufacturer</th>\n",
       "      <th>model</th>\n",
       "      <th>displ</th>\n",
       "      <th>year</th>\n",
       "      <th>cyl</th>\n",
       "      <th>trans</th>\n",
       "      <th>drv</th>\n",
       "      <th>cty</th>\n",
       "      <th>hwy</th>\n",
       "      <th>fl</th>\n",
       "      <th>class</th>\n",
       "      <th>fuel_efficiency</th>\n",
       "    </tr>\n",
       "  </thead>\n",
       "  <tbody>\n",
       "    <tr>\n",
       "      <th>1</th>\n",
       "      <td>audi</td>\n",
       "      <td>a4</td>\n",
       "      <td>1.8</td>\n",
       "      <td>1999</td>\n",
       "      <td>4</td>\n",
       "      <td>auto(l5)</td>\n",
       "      <td>f</td>\n",
       "      <td>18</td>\n",
       "      <td>29</td>\n",
       "      <td>p</td>\n",
       "      <td>compact</td>\n",
       "      <td>23.5</td>\n",
       "    </tr>\n",
       "    <tr>\n",
       "      <th>2</th>\n",
       "      <td>audi</td>\n",
       "      <td>a4</td>\n",
       "      <td>1.8</td>\n",
       "      <td>1999</td>\n",
       "      <td>4</td>\n",
       "      <td>manual(m5)</td>\n",
       "      <td>f</td>\n",
       "      <td>21</td>\n",
       "      <td>29</td>\n",
       "      <td>p</td>\n",
       "      <td>compact</td>\n",
       "      <td>25.0</td>\n",
       "    </tr>\n",
       "    <tr>\n",
       "      <th>3</th>\n",
       "      <td>audi</td>\n",
       "      <td>a4</td>\n",
       "      <td>2.0</td>\n",
       "      <td>2008</td>\n",
       "      <td>4</td>\n",
       "      <td>manual(m6)</td>\n",
       "      <td>f</td>\n",
       "      <td>20</td>\n",
       "      <td>31</td>\n",
       "      <td>p</td>\n",
       "      <td>compact</td>\n",
       "      <td>25.5</td>\n",
       "    </tr>\n",
       "    <tr>\n",
       "      <th>4</th>\n",
       "      <td>audi</td>\n",
       "      <td>a4</td>\n",
       "      <td>2.0</td>\n",
       "      <td>2008</td>\n",
       "      <td>4</td>\n",
       "      <td>auto(av)</td>\n",
       "      <td>f</td>\n",
       "      <td>21</td>\n",
       "      <td>30</td>\n",
       "      <td>p</td>\n",
       "      <td>compact</td>\n",
       "      <td>25.5</td>\n",
       "    </tr>\n",
       "    <tr>\n",
       "      <th>5</th>\n",
       "      <td>audi</td>\n",
       "      <td>a4</td>\n",
       "      <td>2.8</td>\n",
       "      <td>1999</td>\n",
       "      <td>6</td>\n",
       "      <td>auto(l5)</td>\n",
       "      <td>f</td>\n",
       "      <td>16</td>\n",
       "      <td>26</td>\n",
       "      <td>p</td>\n",
       "      <td>compact</td>\n",
       "      <td>21.0</td>\n",
       "    </tr>\n",
       "  </tbody>\n",
       "</table>\n",
       "</div>"
      ],
      "text/plain": [
       "  manufacturer model  displ  year  cyl       trans drv  cty  hwy fl    class  \\\n",
       "1         audi    a4    1.8  1999    4    auto(l5)   f   18   29  p  compact   \n",
       "2         audi    a4    1.8  1999    4  manual(m5)   f   21   29  p  compact   \n",
       "3         audi    a4    2.0  2008    4  manual(m6)   f   20   31  p  compact   \n",
       "4         audi    a4    2.0  2008    4    auto(av)   f   21   30  p  compact   \n",
       "5         audi    a4    2.8  1999    6    auto(l5)   f   16   26  p  compact   \n",
       "\n",
       "   fuel_efficiency  \n",
       "1             23.5  \n",
       "2             25.0  \n",
       "3             25.5  \n",
       "4             25.5  \n",
       "5             21.0  "
      ]
     },
     "execution_count": 200,
     "metadata": {},
     "output_type": "execute_result"
    }
   ],
   "source": [
    "df.head()"
   ]
  },
  {
   "cell_type": "code",
   "execution_count": 205,
   "id": "22ac0325",
   "metadata": {},
   "outputs": [],
   "source": [
    "manual_sample = df[df.trans.str.startswith('m')].fuel_efficiency\n",
    "auto_sample =df[df.trans.str.startswith('a')].fuel_efficiency \n"
   ]
  },
  {
   "cell_type": "markdown",
   "id": "e9ee0e2b",
   "metadata": {},
   "source": [
    "#### Verify assumptions\n",
    "\n",
    "- Independent sample\n",
    "- Normal Distribution, or at least 30 observations\n",
    "- Equal Variance"
   ]
  },
  {
   "cell_type": "code",
   "execution_count": 206,
   "id": "5443c78d",
   "metadata": {},
   "outputs": [
    {
     "data": {
      "text/plain": [
       "auto(l4)      83\n",
       "manual(m5)    58\n",
       "auto(l5)      39\n",
       "manual(m6)    19\n",
       "auto(s6)      16\n",
       "auto(l6)       6\n",
       "auto(av)       5\n",
       "auto(s5)       3\n",
       "auto(s4)       3\n",
       "auto(l3)       2\n",
       "Name: trans, dtype: int64"
      ]
     },
     "execution_count": 206,
     "metadata": {},
     "output_type": "execute_result"
    }
   ],
   "source": [
    "df.trans.value_counts()"
   ]
  },
  {
   "cell_type": "code",
   "execution_count": 208,
   "id": "6452797d",
   "metadata": {},
   "outputs": [
    {
     "data": {
      "text/plain": [
       "26.635167464114826"
      ]
     },
     "execution_count": 208,
     "metadata": {},
     "output_type": "execute_result"
    }
   ],
   "source": [
    "manual_sample.var()"
   ]
  },
  {
   "cell_type": "code",
   "execution_count": 209,
   "id": "19b83521",
   "metadata": {},
   "outputs": [
    {
     "data": {
      "text/plain": [
       "21.942777233382337"
      ]
     },
     "execution_count": 209,
     "metadata": {},
     "output_type": "execute_result"
    }
   ],
   "source": [
    "auto_sample.var()"
   ]
  },
  {
   "cell_type": "code",
   "execution_count": 210,
   "id": "1a53b8e7",
   "metadata": {},
   "outputs": [
    {
     "data": {
      "text/plain": [
       "(0.20075824847529639, 0.32726381775659286)"
      ]
     },
     "execution_count": 210,
     "metadata": {},
     "output_type": "execute_result"
    }
   ],
   "source": [
    "t, p = stats.levene(manual_sample, auto_sample)\n",
    "t, p/2"
   ]
  },
  {
   "cell_type": "markdown",
   "id": "2a3234fd",
   "metadata": {},
   "source": [
    "#### Compute test statistic and probability (t-statistic & p-value)"
   ]
  },
  {
   "cell_type": "code",
   "execution_count": null,
   "id": "017a3ea7",
   "metadata": {},
   "outputs": [],
   "source": []
  },
  {
   "cell_type": "markdown",
   "id": "197b1a32",
   "metadata": {},
   "source": [
    "#### Decide\n",
    "\n",
    "- p/2 < alpha and t > 0"
   ]
  },
  {
   "cell_type": "code",
   "execution_count": 213,
   "id": "51a3df55",
   "metadata": {},
   "outputs": [
    {
     "name": "stdout",
     "output_type": "stream",
     "text": [
      "We fail to reject $H_{0}$\n"
     ]
    }
   ],
   "source": [
    "if p / 2 > alpha:\n",
    "    print(\"We fail to reject $H_{0}$\")\n",
    "elif t < 0:\n",
    "    print(\"We fail to reject $H_{0}$\")\n",
    "else:\n",
    "    print(\"We reject $H_{0}$\")\n",
    "\n"
   ]
  },
  {
   "cell_type": "code",
   "execution_count": null,
   "id": "ea43db26",
   "metadata": {},
   "outputs": [],
   "source": []
  }
 ],
 "metadata": {
  "kernelspec": {
   "display_name": "Python 3 (ipykernel)",
   "language": "python",
   "name": "python3"
  },
  "language_info": {
   "codemirror_mode": {
    "name": "ipython",
    "version": 3
   },
   "file_extension": ".py",
   "mimetype": "text/x-python",
   "name": "python",
   "nbconvert_exporter": "python",
   "pygments_lexer": "ipython3",
   "version": "3.9.13"
  }
 },
 "nbformat": 4,
 "nbformat_minor": 5
}
