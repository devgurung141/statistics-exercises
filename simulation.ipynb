{
 "cells": [
  {
   "cell_type": "code",
   "execution_count": 75,
   "id": "e8b8e346",
   "metadata": {},
   "outputs": [],
   "source": [
    "%matplotlib inline\n",
    "import numpy as np\n",
    "import pandas as pd\n",
    "import matplotlib.pyplot as plt\n",
    "\n",
    "\n",
    "import viz # curriculum example visualizations\n",
    "\n",
    "np.random.seed(29)\n"
   ]
  },
  {
   "cell_type": "markdown",
   "id": "f10ecbd3",
   "metadata": {},
   "source": [
    "1. How likely is it that you roll doubles when rolling two dice?"
   ]
  },
  {
   "cell_type": "code",
   "execution_count": 3,
   "id": "1d6c62e4",
   "metadata": {},
   "outputs": [
    {
     "data": {
      "text/plain": [
       "array([[6, 3],\n",
       "       [4, 5],\n",
       "       [3, 5],\n",
       "       ...,\n",
       "       [2, 2],\n",
       "       [1, 5],\n",
       "       [3, 1]])"
      ]
     },
     "execution_count": 3,
     "metadata": {},
     "output_type": "execute_result"
    }
   ],
   "source": [
    "n_trials = nrows = 10_000\n",
    "n_dice = ncols = 2\n",
    "\n",
    "rolls = np.random.choice([1, 2, 3, 4, 5, 6], n_trials * n_dice).reshape(nrows, ncols)\n",
    "rolls"
   ]
  },
  {
   "cell_type": "code",
   "execution_count": 16,
   "id": "e8f398c1",
   "metadata": {},
   "outputs": [
    {
     "data": {
      "text/plain": [
       "0.1628"
      ]
     },
     "execution_count": 16,
     "metadata": {},
     "output_type": "execute_result"
    }
   ],
   "source": [
    "(pd.DataFrame(rolls)\n",
    " .apply(lambda row: row[0]== row[1],axis=1).mean())\n"
   ]
  },
  {
   "cell_type": "markdown",
   "id": "c15039a8",
   "metadata": {},
   "source": [
    "If you flip 8 coins, what is the probability of getting exactly 3 heads? What is the probability of getting more than 3 heads?"
   ]
  },
  {
   "cell_type": "code",
   "execution_count": 23,
   "id": "21f847b7",
   "metadata": {},
   "outputs": [
    {
     "data": {
      "text/plain": [
       "array([[0, 0, 1, ..., 1, 0, 1],\n",
       "       [1, 1, 0, ..., 0, 1, 0],\n",
       "       [0, 0, 1, ..., 0, 0, 0],\n",
       "       ...,\n",
       "       [1, 1, 1, ..., 0, 0, 1],\n",
       "       [0, 0, 1, ..., 0, 0, 1],\n",
       "       [1, 1, 0, ..., 1, 0, 0]])"
      ]
     },
     "execution_count": 23,
     "metadata": {},
     "output_type": "execute_result"
    }
   ],
   "source": [
    "n_trials = nrows = 10_000\n",
    "n_flip = ncols = 8\n",
    "\n",
    "flips = np.random.choice(2, n_trials * n_dice).reshape(nrows, ncols)\n",
    "flips"
   ]
  },
  {
   "cell_type": "code",
   "execution_count": 29,
   "id": "0d702bdc",
   "metadata": {},
   "outputs": [
    {
     "data": {
      "text/plain": [
       "0.2214"
      ]
     },
     "execution_count": 29,
     "metadata": {},
     "output_type": "execute_result"
    }
   ],
   "source": [
    "# the probability of getting exactly 3 heads\n",
    "\n",
    "(pd.DataFrame(flips)\n",
    " .apply(lambda row: row.values.sum()==3, axis=1).mean())"
   ]
  },
  {
   "cell_type": "code",
   "execution_count": 30,
   "id": "9d0b0fa2",
   "metadata": {},
   "outputs": [
    {
     "data": {
      "text/plain": [
       "0.6325"
      ]
     },
     "execution_count": 30,
     "metadata": {},
     "output_type": "execute_result"
    }
   ],
   "source": [
    "# the probability of getting more than 3 heads?\n",
    "\n",
    "(pd.DataFrame(flips)\n",
    " .apply(lambda row: row.values.sum()>3, axis=1).mean()) "
   ]
  },
  {
   "cell_type": "markdown",
   "id": "428f0bbb",
   "metadata": {},
   "source": [
    "3. There are approximitely 3 web development cohorts for every 1 data science cohort at Codeup. Assuming that Codeup randomly selects an alumni to put on a billboard, what are the odds that the two billboards I drive past both have data science students on them?"
   ]
  },
  {
   "cell_type": "code",
   "execution_count": 151,
   "id": "2f56c46c",
   "metadata": {},
   "outputs": [
    {
     "data": {
      "text/plain": [
       "array([[0, 1],\n",
       "       [2, 0],\n",
       "       [1, 2],\n",
       "       ...,\n",
       "       [3, 0],\n",
       "       [1, 1],\n",
       "       [0, 0]])"
      ]
     },
     "execution_count": 151,
     "metadata": {},
     "output_type": "execute_result"
    }
   ],
   "source": [
    "p_data_science = 1  #. probability of selecting data science cohort\n",
    "\n",
    "n_billboard = ncols = 2\n",
    "n_trials = nrows = 10_000\n",
    "\n",
    "data = np.random.choice(4,nrows * ncols).reshape(nrows, ncols)\n",
    "data"
   ]
  },
  {
   "cell_type": "code",
   "execution_count": 52,
   "id": "394f9fcf",
   "metadata": {},
   "outputs": [
    {
     "data": {
      "text/plain": [
       "0.0616"
      ]
     },
     "execution_count": 52,
     "metadata": {},
     "output_type": "execute_result"
    }
   ],
   "source": [
    "(pd.DataFrame(data)\n",
    " .apply(lambda row: row[0]== row[1] == 1,axis=1).mean())"
   ]
  },
  {
   "cell_type": "markdown",
   "id": "0569cc9f",
   "metadata": {},
   "source": [
    "4. Codeup students buy, on average, 3 poptart packages with a standard deviation of 1.5 a day from the snack vending machine. If on monday the machine is restocked with 17 poptart packages, how likely is it that I will be able to buy some poptarts on Friday afternoon? (Remember, if you have mean and standard deviation, use the np.random.normal) You'll need to make a judgement call on how to handle some of your values"
   ]
  },
  {
   "cell_type": "code",
   "execution_count": 59,
   "id": "57d8e7d9",
   "metadata": {},
   "outputs": [
    {
     "data": {
      "text/plain": [
       "array([[5.41822074, 2.02509321, 4.38569585, 7.1646236 ],\n",
       "       [5.06548474, 4.09813015, 1.89641697, 2.7837691 ],\n",
       "       [2.65367079, 3.97113847, 1.74842608, 3.22657456],\n",
       "       ...,\n",
       "       [1.8074832 , 5.25035243, 5.20160423, 2.69719383],\n",
       "       [4.97934923, 3.58533556, 2.9934409 , 2.18214437],\n",
       "       [4.41301036, 4.12815557, 0.65473347, 0.1376184 ]])"
      ]
     },
     "execution_count": 59,
     "metadata": {},
     "output_type": "execute_result"
    }
   ],
   "source": [
    "# each day, avg 3 poptart\n",
    "# number of poptart = 17,  on Monday\n",
    "# days  = 4 , on Friday\n",
    "\n",
    "n_poptart = ncols = 4\n",
    "n_trials = nrows = 10_000\n",
    "\n",
    "data = np.random.normal(3,1.5, nrows * ncols).reshape(nrows, ncols)\n",
    "data\n"
   ]
  },
  {
   "cell_type": "code",
   "execution_count": 89,
   "id": "386c67ac",
   "metadata": {},
   "outputs": [
    {
     "data": {
      "text/plain": [
       "0.0001"
      ]
     },
     "execution_count": 89,
     "metadata": {},
     "output_type": "execute_result"
    }
   ],
   "source": [
    "(pd.DataFrame(data)\n",
    " .apply(lambda row: row.values.sum()<(1/17), axis=1).mean())\n"
   ]
  },
  {
   "cell_type": "markdown",
   "id": "888fc526",
   "metadata": {},
   "source": [
    "5. Compare Heights\n",
    "  - Men have an average height of 178 cm and standard deviation of 8cm. \n",
    "  - Women have a mean of 170, sd = 6cm.\n",
    "  - Since you have means and standard deviations, you can use np.random.normal to generate observations.\n",
    "  - If a man and woman are chosen at random, what is the likelihood the woman is taller than the man?"
   ]
  },
  {
   "cell_type": "code",
   "execution_count": 64,
   "id": "ff7c1dc8",
   "metadata": {},
   "outputs": [
    {
     "data": {
      "text/plain": [
       "array([[188.41448163],\n",
       "       [193.97153301],\n",
       "       [176.74767992],\n",
       "       ...,\n",
       "       [171.55040906],\n",
       "       [161.12261756],\n",
       "       [191.92800807]])"
      ]
     },
     "execution_count": 64,
     "metadata": {},
     "output_type": "execute_result"
    }
   ],
   "source": [
    "n_height = ncols = 1\n",
    "n_trails = nrows = 10_000\n",
    "\n",
    "man_height = np.random.normal(178, 8, nrows * ncols).reshape(nrows, ncols)\n",
    "man_height"
   ]
  },
  {
   "cell_type": "code",
   "execution_count": 65,
   "id": "93bd3d08",
   "metadata": {},
   "outputs": [
    {
     "data": {
      "text/plain": [
       "array([[170.54372127],\n",
       "       [165.73296516],\n",
       "       [166.36132251],\n",
       "       ...,\n",
       "       [163.06740722],\n",
       "       [161.4182784 ],\n",
       "       [160.81303866]])"
      ]
     },
     "execution_count": 65,
     "metadata": {},
     "output_type": "execute_result"
    }
   ],
   "source": [
    "woman_height = np.random.normal(170, 6, nrows * ncols).reshape(nrows, ncols)\n",
    "woman_height"
   ]
  },
  {
   "cell_type": "code",
   "execution_count": 155,
   "id": "e060d01d",
   "metadata": {},
   "outputs": [
    {
     "data": {
      "text/plain": [
       "0.2161"
      ]
     },
     "execution_count": 155,
     "metadata": {},
     "output_type": "execute_result"
    }
   ],
   "source": [
    "(woman_height > man_height).mean()"
   ]
  },
  {
   "cell_type": "markdown",
   "id": "8a21a8f9",
   "metadata": {},
   "source": [
    "6. When installing anaconda on a student's computer, there's a 1 in 250 chance that the download is corrupted and the installation fails. What are the odds that after having 50 students download anaconda, no one has an installation issue? 100 students?\n",
    "\n",
    "    What is the probability that we observe an installation issue within the first 150 students that download anaconda?\n",
    "\n",
    "    How likely is it that 450 students all download anaconda without an issue?"
   ]
  },
  {
   "cell_type": "code",
   "execution_count": 216,
   "id": "5df3ebb9",
   "metadata": {},
   "outputs": [
    {
     "data": {
      "text/plain": [
       "array([[0.74855752],\n",
       "       [0.47391252],\n",
       "       [0.76918295],\n",
       "       ...,\n",
       "       [0.48479528],\n",
       "       [0.93285992],\n",
       "       [0.61647907]])"
      ]
     },
     "execution_count": 216,
     "metadata": {},
     "output_type": "execute_result"
    }
   ],
   "source": [
    "p_installation_fail = 1/250\n",
    "p_installation_success = 249/250\n",
    "\n",
    "ncols = 1\n",
    "nrows = 10_000\n",
    "\n",
    "data = np.random.random((nrows, ncols))\n",
    "data\n",
    "\n"
   ]
  },
  {
   "cell_type": "code",
   "execution_count": 218,
   "id": "08c89c1a",
   "metadata": {},
   "outputs": [
    {
     "data": {
      "text/plain": [
       "0.7997"
      ]
     },
     "execution_count": 218,
     "metadata": {},
     "output_type": "execute_result"
    }
   ],
   "source": [
    "\n",
    "(pd.DataFrame(data)\n",
    " .apply(lambda row: row.values > (1/250)* 50).sum(axis=1).mean())"
   ]
  },
  {
   "cell_type": "code",
   "execution_count": 219,
   "id": "7dcb6bc0",
   "metadata": {},
   "outputs": [
    {
     "data": {
      "text/plain": [
       "0.6018"
      ]
     },
     "execution_count": 219,
     "metadata": {},
     "output_type": "execute_result"
    }
   ],
   "source": [
    "(pd.DataFrame(data)\n",
    " .apply(lambda row: row.values > (1/250)* 100).sum(axis=1).mean())"
   ]
  },
  {
   "cell_type": "code",
   "execution_count": 221,
   "id": "4305c65c",
   "metadata": {},
   "outputs": [
    {
     "data": {
      "text/plain": [
       "0.5921"
      ]
     },
     "execution_count": 221,
     "metadata": {},
     "output_type": "execute_result"
    }
   ],
   "source": [
    "(pd.DataFrame(data)\n",
    " .apply(lambda row: row.values < (1/250)* 150).sum(axis=1).mean())"
   ]
  },
  {
   "cell_type": "code",
   "execution_count": 222,
   "id": "9087b6f3",
   "metadata": {},
   "outputs": [
    {
     "data": {
      "text/plain": [
       "1.0"
      ]
     },
     "execution_count": 222,
     "metadata": {},
     "output_type": "execute_result"
    }
   ],
   "source": [
    "(pd.DataFrame(data)\n",
    " .apply(lambda row: row.values < (1/250)* 450).sum(axis=1).mean())"
   ]
  },
  {
   "cell_type": "code",
   "execution_count": 189,
   "id": "ac684923",
   "metadata": {},
   "outputs": [
    {
     "data": {
      "text/plain": [
       "array([[0.24771566, 0.81548919, 0.10741276, ..., 0.26117463, 0.6523691 ,\n",
       "        0.68243057],\n",
       "       [0.65451722, 0.96988021, 0.38383672, ..., 0.2307404 , 0.88555304,\n",
       "        0.16470616],\n",
       "       [0.8623366 , 0.3802841 , 0.79076283, ..., 0.62037852, 0.59619359,\n",
       "        0.36803281],\n",
       "       ...,\n",
       "       [0.04739318, 0.67383319, 0.71291694, ..., 0.8313982 , 0.87884641,\n",
       "        0.90537531],\n",
       "       [0.39613804, 0.5653801 , 0.30061853, ..., 0.90575957, 0.78538107,\n",
       "        0.96780902],\n",
       "       [0.15381812, 0.39078776, 0.90137426, ..., 0.43912546, 0.49482485,\n",
       "        0.33469846]])"
      ]
     },
     "execution_count": 189,
     "metadata": {},
     "output_type": "execute_result"
    }
   ],
   "source": [
    "ncols = 100\n",
    "nrows = 10_000\n",
    "data = np.random.random((nrows, ncols))\n",
    "data\n"
   ]
  },
  {
   "cell_type": "code",
   "execution_count": 211,
   "id": "7f0b98a2",
   "metadata": {},
   "outputs": [
    {
     "data": {
      "text/plain": [
       "99.594"
      ]
     },
     "execution_count": 211,
     "metadata": {},
     "output_type": "execute_result"
    }
   ],
   "source": [
    "(pd.DataFrame(data)\n",
    " .apply(lambda row: row.values > p_installation_fail).sum(axis=1).mean())"
   ]
  },
  {
   "cell_type": "code",
   "execution_count": 201,
   "id": "81bdac05",
   "metadata": {},
   "outputs": [
    {
     "data": {
      "text/plain": [
       "array([[0.29424718, 0.2885849 , 0.86281458, ..., 0.07414573, 0.73274695,\n",
       "        0.49470294],\n",
       "       [0.53340994, 0.19822676, 0.42520711, ..., 0.1196712 , 0.86789901,\n",
       "        0.56175688],\n",
       "       [0.36191879, 0.06579903, 0.75353766, ..., 0.03741123, 0.50940295,\n",
       "        0.92504184],\n",
       "       ...,\n",
       "       [0.65651213, 0.85945975, 0.68344581, ..., 0.67118712, 0.75998461,\n",
       "        0.31410818],\n",
       "       [0.09711309, 0.42736532, 0.02159681, ..., 0.30397706, 0.67744593,\n",
       "        0.8603748 ],\n",
       "       [0.76669071, 0.26445713, 0.83285133, ..., 0.18295814, 0.89666695,\n",
       "        0.29885198]])"
      ]
     },
     "execution_count": 201,
     "metadata": {},
     "output_type": "execute_result"
    }
   ],
   "source": [
    "ncols = 100\n",
    "nrows = 10_000\n",
    "data = np.random.random((nrows, ncols))\n",
    "data"
   ]
  },
  {
   "cell_type": "code",
   "execution_count": 202,
   "id": "9ae2df8e",
   "metadata": {},
   "outputs": [
    {
     "data": {
      "text/plain": [
       "0.4075"
      ]
     },
     "execution_count": 202,
     "metadata": {},
     "output_type": "execute_result"
    }
   ],
   "source": [
    "(pd.DataFrame(data)\n",
    " .apply(lambda row: row.values < p_installation_fail).sum(axis=1).mean())"
   ]
  },
  {
   "cell_type": "code",
   "execution_count": 203,
   "id": "d505d64a",
   "metadata": {},
   "outputs": [
    {
     "data": {
      "text/plain": [
       "array([[0.37951524, 0.77835806, 0.59986975, ..., 0.4647389 , 0.35401831,\n",
       "        0.91337184],\n",
       "       [0.85550522, 0.1990643 , 0.44461905, ..., 0.31236468, 0.00829659,\n",
       "        0.33511564],\n",
       "       [0.12840438, 0.82120997, 0.18001747, ..., 0.67280012, 0.7309798 ,\n",
       "        0.50240386],\n",
       "       ...,\n",
       "       [0.19751236, 0.56174009, 0.09327568, ..., 0.07367598, 0.93292059,\n",
       "        0.02572691],\n",
       "       [0.78224746, 0.57314404, 0.04735993, ..., 0.49210388, 0.2920506 ,\n",
       "        0.27613784],\n",
       "       [0.20645797, 0.71428419, 0.16291744, ..., 0.54255161, 0.43344815,\n",
       "        0.59244447]])"
      ]
     },
     "execution_count": 203,
     "metadata": {},
     "output_type": "execute_result"
    }
   ],
   "source": [
    "ncols = 450\n",
    "nrows = 10_000\n",
    "data = np.random.random((nrows, ncols))\n",
    "data"
   ]
  },
  {
   "cell_type": "code",
   "execution_count": 210,
   "id": "5a69fc39",
   "metadata": {},
   "outputs": [
    {
     "data": {
      "text/plain": [
       "0.406"
      ]
     },
     "execution_count": 210,
     "metadata": {},
     "output_type": "execute_result"
    }
   ],
   "source": [
    "(pd.DataFrame(data)\n",
    " .apply(lambda row: row.values > p_installation_fail).sum(axis=1).mean())"
   ]
  },
  {
   "cell_type": "markdown",
   "id": "28d58cd2",
   "metadata": {},
   "source": [
    "7. There's a 70% chance on any given day that there will be at least one food truck at Travis Park. However, you haven't seen a food truck there in 3 days. How unlikely is this?\n",
    "\n",
    "    How likely is it that a food truck will show up sometime this week?"
   ]
  },
  {
   "cell_type": "code",
   "execution_count": null,
   "id": "008c2c2e",
   "metadata": {},
   "outputs": [],
   "source": []
  },
  {
   "cell_type": "markdown",
   "id": "58dca6a3",
   "metadata": {},
   "source": [
    "<!-- # If 23 people are in the same room, what are the odds that two of them share a birthday? What if it's 20 people? 40? -->"
   ]
  },
  {
   "cell_type": "code",
   "execution_count": 148,
   "id": "33d4ed01",
   "metadata": {},
   "outputs": [
    {
     "data": {
      "text/plain": [
       "array([[0.99674913, 0.83427989, 0.26107082],\n",
       "       [0.58012672, 0.4503099 , 0.43264922],\n",
       "       [0.73513937, 0.00421607, 0.9585584 ],\n",
       "       ...,\n",
       "       [0.27565242, 0.46561256, 0.4991321 ],\n",
       "       [0.48548991, 0.22321908, 0.86783577],\n",
       "       [0.24904338, 0.53279851, 0.66423149]])"
      ]
     },
     "execution_count": 148,
     "metadata": {},
     "output_type": "execute_result"
    }
   ],
   "source": [
    "p_truck = .7  #  probability of a food truck present at Travis Park on any given day\n",
    "p_no_truck = .3  #  probability of a food truck absent at Travis Park on any given day\n",
    "\n",
    "n_days_without_truck = ncols = 3\n",
    "n_trials = nrows = 10_000\n",
    "\n",
    "data = np.random.random((nrows, ncols))\n",
    "data\n"
   ]
  },
  {
   "cell_type": "code",
   "execution_count": 179,
   "id": "351d1bb9",
   "metadata": {},
   "outputs": [
    {
     "data": {
      "text/plain": [
       "array([[False,  True],\n",
       "       [ True, False],\n",
       "       [ True,  True],\n",
       "       ...,\n",
       "       [ True, False],\n",
       "       [ True,  True],\n",
       "       [False, False]])"
      ]
     },
     "execution_count": 179,
     "metadata": {},
     "output_type": "execute_result"
    }
   ],
   "source": [
    "data < p_truck"
   ]
  },
  {
   "cell_type": "code",
   "execution_count": 186,
   "id": "e0f03c06",
   "metadata": {},
   "outputs": [
    {
     "data": {
      "text/plain": [
       "array([1, 1, 0, ..., 1, 0, 2])"
      ]
     },
     "execution_count": 186,
     "metadata": {},
     "output_type": "execute_result"
    }
   ],
   "source": [
    "(data < p_no_truck).sum(axis=1)"
   ]
  },
  {
   "cell_type": "code",
   "execution_count": 183,
   "id": "a33ad998",
   "metadata": {},
   "outputs": [
    {
     "data": {
      "text/plain": [
       "0.4982"
      ]
     },
     "execution_count": 183,
     "metadata": {},
     "output_type": "execute_result"
    }
   ],
   "source": [
    "(data < p_truck).sum(axis=1).mean()"
   ]
  },
  {
   "cell_type": "code",
   "execution_count": 185,
   "id": "660dcfed",
   "metadata": {},
   "outputs": [
    {
     "data": {
      "text/plain": [
       "0.4982"
      ]
     },
     "execution_count": 185,
     "metadata": {},
     "output_type": "execute_result"
    }
   ],
   "source": [
    "\n",
    "(pd.DataFrame(data)\n",
    " .apply(lambda row: row.values < p_no_truck).sum(axis=1).mean())"
   ]
  },
  {
   "cell_type": "markdown",
   "id": "098550d3",
   "metadata": {},
   "source": [
    "8. If 23 people are in the same room, what are the odds that two of them share a birthday? What if it's 20 people? 40?"
   ]
  },
  {
   "cell_type": "code",
   "execution_count": 130,
   "id": "eae80dab",
   "metadata": {},
   "outputs": [
    {
     "data": {
      "text/plain": [
       "array([[0.00195361, 0.15699442],\n",
       "       [0.05630093, 0.2728512 ],\n",
       "       [0.04130166, 0.67146318],\n",
       "       ...,\n",
       "       [0.47767834, 0.84645793],\n",
       "       [0.1284385 , 0.60463806],\n",
       "       [0.195951  , 0.70279102]])"
      ]
     },
     "execution_count": 130,
     "metadata": {},
     "output_type": "execute_result"
    }
   ],
   "source": [
    "n_share_birthday = ncols = 2\n",
    "n_trials = nrows = 10_000\n",
    "\n",
    "data = np.random.random((nrows, ncols))\n",
    "data"
   ]
  },
  {
   "cell_type": "code",
   "execution_count": 135,
   "id": "d4b75f4a",
   "metadata": {},
   "outputs": [
    {
     "data": {
      "text/plain": [
       "array([[ True, False],\n",
       "       [ True, False],\n",
       "       [ True, False],\n",
       "       ...,\n",
       "       [False, False],\n",
       "       [False, False],\n",
       "       [False, False]])"
      ]
     },
     "execution_count": 135,
     "metadata": {},
     "output_type": "execute_result"
    }
   ],
   "source": [
    "k = data < (2/23)\n",
    "k"
   ]
  },
  {
   "cell_type": "code",
   "execution_count": 136,
   "id": "68455843",
   "metadata": {},
   "outputs": [
    {
     "data": {
      "text/plain": [
       "array([1, 1, 1, ..., 0, 0, 0])"
      ]
     },
     "execution_count": 136,
     "metadata": {},
     "output_type": "execute_result"
    }
   ],
   "source": [
    "k.sum(axis=1)"
   ]
  },
  {
   "cell_type": "code",
   "execution_count": 137,
   "id": "7aff4304",
   "metadata": {},
   "outputs": [
    {
     "data": {
      "text/plain": [
       "0.1803"
      ]
     },
     "execution_count": 137,
     "metadata": {},
     "output_type": "execute_result"
    }
   ],
   "source": [
    "k.sum(axis=1).mean()"
   ]
  },
  {
   "cell_type": "code",
   "execution_count": 141,
   "id": "4b89697c",
   "metadata": {},
   "outputs": [
    {
     "data": {
      "text/plain": [
       "0.1803"
      ]
     },
     "execution_count": 141,
     "metadata": {},
     "output_type": "execute_result"
    }
   ],
   "source": [
    "p_share_birthday = n_total = 2/23\n",
    "(pd.DataFrame(data)\n",
    " .apply(lambda row: row.values < n_total_23).sum(axis=1).mean())"
   ]
  },
  {
   "cell_type": "code",
   "execution_count": 142,
   "id": "e9658711",
   "metadata": {},
   "outputs": [
    {
     "data": {
      "text/plain": [
       "0.2058"
      ]
     },
     "execution_count": 142,
     "metadata": {},
     "output_type": "execute_result"
    }
   ],
   "source": [
    "p_share_birthday = n_total = 2/20\n",
    "(pd.DataFrame(data)\n",
    " .apply(lambda row: row.values < n_total).sum(axis=1).mean())"
   ]
  },
  {
   "cell_type": "code",
   "execution_count": 143,
   "id": "5299b1f7",
   "metadata": {},
   "outputs": [
    {
     "data": {
      "text/plain": [
       "0.1071"
      ]
     },
     "execution_count": 143,
     "metadata": {},
     "output_type": "execute_result"
    }
   ],
   "source": [
    "p_share_birthday = n_total = 2/40\n",
    "(pd.DataFrame(data)\n",
    " .apply(lambda row: row.values < n_total).sum(axis=1).mean())"
   ]
  },
  {
   "cell_type": "code",
   "execution_count": null,
   "id": "271aae7c",
   "metadata": {},
   "outputs": [],
   "source": []
  }
 ],
 "metadata": {
  "kernelspec": {
   "display_name": "Python 3 (ipykernel)",
   "language": "python",
   "name": "python3"
  },
  "language_info": {
   "codemirror_mode": {
    "name": "ipython",
    "version": 3
   },
   "file_extension": ".py",
   "mimetype": "text/x-python",
   "name": "python",
   "nbconvert_exporter": "python",
   "pygments_lexer": "ipython3",
   "version": "3.9.13"
  }
 },
 "nbformat": 4,
 "nbformat_minor": 5
}
