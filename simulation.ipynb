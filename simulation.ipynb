{
 "cells": [
  {
   "cell_type": "code",
   "execution_count": 226,
   "id": "e8b8e346",
   "metadata": {},
   "outputs": [],
   "source": [
    "%matplotlib inline\n",
    "import numpy as np\n",
    "import pandas as pd\n",
    "import matplotlib.pyplot as plt\n",
    "\n",
    "np.random.seed(29)"
   ]
  },
  {
   "cell_type": "markdown",
   "id": "f10ecbd3",
   "metadata": {},
   "source": [
    "1. How likely is it that you roll doubles when rolling two dice?"
   ]
  },
  {
   "cell_type": "code",
   "execution_count": 227,
   "id": "1d6c62e4",
   "metadata": {},
   "outputs": [
    {
     "data": {
      "text/plain": [
       "array([[6, 4],\n",
       "       [5, 6],\n",
       "       [3, 1],\n",
       "       ...,\n",
       "       [2, 5],\n",
       "       [1, 4],\n",
       "       [4, 6]])"
      ]
     },
     "execution_count": 227,
     "metadata": {},
     "output_type": "execute_result"
    }
   ],
   "source": [
    "n_trials = nrows = 10_000\n",
    "n_dice = ncols = 2\n",
    "\n",
    "rolls = np.random.choice([1, 2, 3, 4, 5, 6], n_trials * n_dice).reshape(nrows, ncols)\n",
    "rolls"
   ]
  },
  {
   "cell_type": "code",
   "execution_count": 228,
   "id": "e8f398c1",
   "metadata": {},
   "outputs": [
    {
     "data": {
      "text/plain": [
       "0.1709"
      ]
     },
     "execution_count": 228,
     "metadata": {},
     "output_type": "execute_result"
    }
   ],
   "source": [
    "(pd.DataFrame(rolls)\n",
    " .apply(lambda row: row[0]== row[1],axis=1).mean())\n"
   ]
  },
  {
   "cell_type": "markdown",
   "id": "c15039a8",
   "metadata": {},
   "source": [
    "2. If you flip 8 coins, what is the probability of getting exactly 3 heads? What is the probability of getting more than 3 heads?"
   ]
  },
  {
   "cell_type": "code",
   "execution_count": 415,
   "id": "21f847b7",
   "metadata": {},
   "outputs": [
    {
     "data": {
      "text/plain": [
       "array([[1, 1, 0, ..., 1, 0, 1],\n",
       "       [0, 0, 0, ..., 1, 1, 1],\n",
       "       [1, 1, 0, ..., 1, 1, 1],\n",
       "       ...,\n",
       "       [1, 1, 1, ..., 1, 0, 0],\n",
       "       [1, 1, 0, ..., 1, 1, 0],\n",
       "       [0, 0, 0, ..., 1, 1, 0]])"
      ]
     },
     "execution_count": 415,
     "metadata": {},
     "output_type": "execute_result"
    }
   ],
   "source": [
    "n_trials = nrows = 10_000\n",
    "n_flip = ncols = 8\n",
    "\n",
    "flips = np.random.choice(2, nrows * ncols).reshape(nrows, ncols)\n",
    "flips"
   ]
  },
  {
   "cell_type": "code",
   "execution_count": 416,
   "id": "0d702bdc",
   "metadata": {},
   "outputs": [
    {
     "data": {
      "text/plain": [
       "0.2174"
      ]
     },
     "execution_count": 416,
     "metadata": {},
     "output_type": "execute_result"
    }
   ],
   "source": [
    "# the probability of getting exactly 3 heads\n",
    "\n",
    "(pd.DataFrame(flips)\n",
    " .apply(lambda row: row.values.sum()==3, axis=1).mean())"
   ]
  },
  {
   "cell_type": "code",
   "execution_count": 233,
   "id": "9d0b0fa2",
   "metadata": {},
   "outputs": [
    {
     "data": {
      "text/plain": [
       "0.6423"
      ]
     },
     "execution_count": 233,
     "metadata": {},
     "output_type": "execute_result"
    }
   ],
   "source": [
    "# the probability of getting more than 3 heads?\n",
    "\n",
    "(pd.DataFrame(flips)\n",
    " .apply(lambda row: row.values.sum()>3, axis=1).mean()) "
   ]
  },
  {
   "cell_type": "markdown",
   "id": "428f0bbb",
   "metadata": {},
   "source": [
    "3. There are approximitely 3 web development cohorts for every 1 data science cohort at Codeup. Assuming that Codeup randomly selects an alumni to put on a billboard, what are the odds that the two billboards I drive past both have data science students on them?"
   ]
  },
  {
   "cell_type": "code",
   "execution_count": 524,
   "id": "2f56c46c",
   "metadata": {},
   "outputs": [
    {
     "data": {
      "text/plain": [
       "array([[2, 1],\n",
       "       [0, 2],\n",
       "       [0, 2],\n",
       "       ...,\n",
       "       [1, 0],\n",
       "       [2, 1],\n",
       "       [3, 0]])"
      ]
     },
     "execution_count": 524,
     "metadata": {},
     "output_type": "execute_result"
    }
   ],
   "source": [
    "p_data_science = 1\n",
    "\n",
    "n_billboard = ncols = 2\n",
    "n_trials = nrows = 10_000\n",
    "\n",
    "data = np.random.choice(4,nrows * ncols).reshape(nrows, ncols)\n",
    "data"
   ]
  },
  {
   "cell_type": "code",
   "execution_count": 525,
   "id": "394f9fcf",
   "metadata": {},
   "outputs": [
    {
     "data": {
      "text/plain": [
       "0.0626"
      ]
     },
     "execution_count": 525,
     "metadata": {},
     "output_type": "execute_result"
    }
   ],
   "source": [
    "(pd.DataFrame(data)\n",
    " .apply(lambda row: row[0]== row[1] == 1,axis=1).mean())"
   ]
  },
  {
   "cell_type": "markdown",
   "id": "0569cc9f",
   "metadata": {},
   "source": [
    "4. Codeup students buy, on average, 3 poptart packages with a standard deviation of 1.5 a day from the snack vending machine. If on monday the machine is restocked with 17 poptart packages, how likely is it that I will be able to buy some poptarts on Friday afternoon? (Remember, if you have mean and standard deviation, use the np.random.normal) You'll need to make a judgement call on how to handle some of your values"
   ]
  },
  {
   "cell_type": "code",
   "execution_count": 440,
   "id": "57d8e7d9",
   "metadata": {},
   "outputs": [
    {
     "data": {
      "text/plain": [
       "array([[1.73235497, 4.61602395, 2.92027431, 3.66561798, 4.14096827],\n",
       "       [0.71316809, 2.47558408, 4.19410198, 4.25057987, 4.7634395 ],\n",
       "       [4.63575585, 2.89056491, 2.51988969, 4.46387699, 1.66020255],\n",
       "       ...,\n",
       "       [1.90492544, 2.43942133, 2.20094061, 1.82354242, 4.60462191],\n",
       "       [6.24245717, 2.5039856 , 1.29547142, 3.94791983, 4.93582173],\n",
       "       [4.48377966, 4.18498326, 3.49257189, 3.38791367, 6.44919044]])"
      ]
     },
     "execution_count": 440,
     "metadata": {},
     "output_type": "execute_result"
    }
   ],
   "source": [
    "# each day, avg 3 poptart\n",
    "# number of poptart = 17,  on Monday\n",
    "# days  = 4 , on Friday\n",
    "\n",
    "n_poptart = ncols = 5\n",
    "n_trials = nrows = 10_000\n",
    "\n",
    "data = np.random.normal(3,1.5, nrows * ncols).reshape(nrows, ncols)\n",
    "data\n"
   ]
  },
  {
   "cell_type": "code",
   "execution_count": 443,
   "id": "97a58628",
   "metadata": {},
   "outputs": [
    {
     "data": {
      "text/plain": [
       "0.6289"
      ]
     },
     "execution_count": 443,
     "metadata": {},
     "output_type": "execute_result"
    }
   ],
   "source": [
    "poptarts_per_week = data.sum(axis=1)\n",
    "(poptarts_per_week < 16).mean()"
   ]
  },
  {
   "cell_type": "code",
   "execution_count": 441,
   "id": "386c67ac",
   "metadata": {},
   "outputs": [
    {
     "data": {
      "text/plain": [
       "0.6289"
      ]
     },
     "execution_count": 441,
     "metadata": {},
     "output_type": "execute_result"
    }
   ],
   "source": [
    "(pd.DataFrame(data)\n",
    " .apply(lambda row: row.values.sum()< 16, axis=1).mean())\n"
   ]
  },
  {
   "cell_type": "markdown",
   "id": "888fc526",
   "metadata": {},
   "source": [
    "5. Compare Heights\n",
    "  - Men have an average height of 178 cm and standard deviation of 8cm. \n",
    "  - Women have a mean of 170, sd = 6cm.\n",
    "  - Since you have means and standard deviations, you can use np.random.normal to generate observations.\n",
    "  - If a man and woman are chosen at random, what is the likelihood the woman is taller than the man?"
   ]
  },
  {
   "cell_type": "code",
   "execution_count": 236,
   "id": "ff7c1dc8",
   "metadata": {},
   "outputs": [
    {
     "data": {
      "text/plain": [
       "array([[180.52404019],\n",
       "       [190.84381374],\n",
       "       [170.47132543],\n",
       "       ...,\n",
       "       [183.78366938],\n",
       "       [184.33659627],\n",
       "       [157.10486396]])"
      ]
     },
     "execution_count": 236,
     "metadata": {},
     "output_type": "execute_result"
    }
   ],
   "source": [
    "n_height = ncols = 1\n",
    "n_trails = nrows = 10_000\n",
    "\n",
    "man_height = np.random.normal(178, 8, nrows * ncols).reshape(nrows, ncols)\n",
    "man_height"
   ]
  },
  {
   "cell_type": "code",
   "execution_count": 237,
   "id": "93bd3d08",
   "metadata": {},
   "outputs": [
    {
     "data": {
      "text/plain": [
       "array([[174.76405932],\n",
       "       [169.45288291],\n",
       "       [168.6452196 ],\n",
       "       ...,\n",
       "       [167.59030253],\n",
       "       [169.20912114],\n",
       "       [162.89597937]])"
      ]
     },
     "execution_count": 237,
     "metadata": {},
     "output_type": "execute_result"
    }
   ],
   "source": [
    "woman_height = np.random.normal(170, 6, nrows * ncols).reshape(nrows, ncols)\n",
    "woman_height"
   ]
  },
  {
   "cell_type": "code",
   "execution_count": 238,
   "id": "e060d01d",
   "metadata": {},
   "outputs": [
    {
     "data": {
      "text/plain": [
       "0.2143"
      ]
     },
     "execution_count": 238,
     "metadata": {},
     "output_type": "execute_result"
    }
   ],
   "source": [
    "(woman_height > man_height).mean()"
   ]
  },
  {
   "cell_type": "markdown",
   "id": "8a21a8f9",
   "metadata": {},
   "source": [
    "6. When installing anaconda on a student's computer, there's a 1 in 250 chance that the download is corrupted and the installation fails. What are the odds that after having 50 students download anaconda, no one has an installation issue? 100 students?\n",
    "\n",
    "    What is the probability that we observe an installation issue within the first 150 students that download anaconda?\n",
    "\n",
    "    How likely is it that 450 students all download anaconda without an issue?"
   ]
  },
  {
   "cell_type": "code",
   "execution_count": 464,
   "id": "90e1cac2",
   "metadata": {},
   "outputs": [
    {
     "data": {
      "text/plain": [
       "array([['F', 'F', 'F', ..., 'F', 'F', 'F'],\n",
       "       ['F', 'F', 'F', ..., 'F', 'F', 'F'],\n",
       "       ['F', 'F', 'F', ..., 'F', 'F', 'F'],\n",
       "       ...,\n",
       "       ['F', 'F', 'F', ..., 'F', 'F', 'F'],\n",
       "       ['F', 'F', 'F', ..., 'F', 'F', 'F'],\n",
       "       ['F', 'F', 'F', ..., 'F', 'S', 'F']], dtype='<U1')"
      ]
     },
     "execution_count": 464,
     "metadata": {},
     "output_type": "execute_result"
    }
   ],
   "source": [
    "# ----solution------\n",
    "\n",
    "outcomes = ['S', 'F']\n",
    "n_students = 50\n",
    "n_trials = 10_000\n",
    "data = np.random.choice(outcomes, size= (n_trials, n_students), p=[1/250, 249/250]).reshape(n_trials, n_students)\n",
    "data"
   ]
  },
  {
   "cell_type": "code",
   "execution_count": 471,
   "id": "a79c2261",
   "metadata": {},
   "outputs": [
    {
     "data": {
      "text/plain": [
       "array([0, 0, 0, ..., 0, 1, 1])"
      ]
     },
     "execution_count": 471,
     "metadata": {},
     "output_type": "execute_result"
    }
   ],
   "source": [
    "(data == 'S').sum(axis=1)\n"
   ]
  },
  {
   "cell_type": "code",
   "execution_count": 472,
   "id": "f4ffad1d",
   "metadata": {},
   "outputs": [
    {
     "data": {
      "text/plain": [
       "0.0"
      ]
     },
     "execution_count": 472,
     "metadata": {},
     "output_type": "execute_result"
    }
   ],
   "source": [
    "((data == 'S').sum(axis=1)== n_students).mean()"
   ]
  },
  {
   "cell_type": "markdown",
   "id": "28d58cd2",
   "metadata": {},
   "source": [
    "7. There's a 70% chance on any given day that there will be at least one food truck at Travis Park. However, you haven't seen a food truck there in 3 days. How unlikely is this?\n",
    "\n",
    "    How likely is it that a food truck will show up sometime this week?"
   ]
  },
  {
   "cell_type": "markdown",
   "id": "58dca6a3",
   "metadata": {},
   "source": [
    "<!-- # If 23 people are in the same room, what are the odds that two of them share a birthday? What if it's 20 people? 40? -->"
   ]
  },
  {
   "cell_type": "code",
   "execution_count": 479,
   "id": "33d4ed01",
   "metadata": {},
   "outputs": [
    {
     "data": {
      "text/plain": [
       "array([[0.11063663, 0.62541093, 0.67517752],\n",
       "       [0.55779137, 0.0515499 , 0.95436534],\n",
       "       [0.11494852, 0.33522784, 0.01551747],\n",
       "       ...,\n",
       "       [0.19343678, 0.46662778, 0.16402172],\n",
       "       [0.39186969, 0.73717663, 0.23827296],\n",
       "       [0.97462004, 0.47392644, 0.58148796]])"
      ]
     },
     "execution_count": 479,
     "metadata": {},
     "output_type": "execute_result"
    }
   ],
   "source": [
    "p_truck = .7  #  probability of a food truck present at Travis Park on any given day\n",
    "p_no_truck = .3  #  probability of a food truck absent at Travis Park on any given day\n",
    "\n",
    "n_days_without_truck = ncols = 3\n",
    "n_trials = nrows = 10_000\n",
    "\n",
    "data = np.random.random((nrows, ncols))\n",
    "data\n"
   ]
  },
  {
   "cell_type": "code",
   "execution_count": 480,
   "id": "a33ad998",
   "metadata": {},
   "outputs": [
    {
     "data": {
      "text/plain": [
       "array([0, 1, 0, ..., 0, 1, 1])"
      ]
     },
     "execution_count": 480,
     "metadata": {},
     "output_type": "execute_result"
    }
   ],
   "source": [
    "(data > p_truck).sum(axis=1)"
   ]
  },
  {
   "cell_type": "code",
   "execution_count": 481,
   "id": "f0b1b1c7",
   "metadata": {},
   "outputs": [
    {
     "data": {
      "text/plain": [
       "array([False, False, False, ..., False, False, False])"
      ]
     },
     "execution_count": 481,
     "metadata": {},
     "output_type": "execute_result"
    }
   ],
   "source": [
    "(data > p_truck).sum(axis=1)>3"
   ]
  },
  {
   "cell_type": "code",
   "execution_count": 493,
   "id": "c5b16e6f",
   "metadata": {},
   "outputs": [
    {
     "data": {
      "text/plain": [
       "0.0264"
      ]
     },
     "execution_count": 493,
     "metadata": {},
     "output_type": "execute_result"
    }
   ],
   "source": [
    "((data > p_truck).sum(axis=1)==3).mean()"
   ]
  },
  {
   "cell_type": "code",
   "execution_count": 491,
   "id": "26a1a5e1",
   "metadata": {},
   "outputs": [
    {
     "data": {
      "text/plain": [
       "0.9736"
      ]
     },
     "execution_count": 491,
     "metadata": {},
     "output_type": "execute_result"
    }
   ],
   "source": [
    "((data < p_truck).sum(axis=1)>=1).mean()"
   ]
  },
  {
   "cell_type": "code",
   "execution_count": 458,
   "id": "411a2063",
   "metadata": {},
   "outputs": [
    {
     "data": {
      "text/plain": [
       "array([[1, 1, 1],\n",
       "       [1, 0, 1],\n",
       "       [0, 1, 0],\n",
       "       ...,\n",
       "       [0, 0, 1],\n",
       "       [1, 1, 0],\n",
       "       [0, 0, 1]])"
      ]
     },
     "execution_count": 458,
     "metadata": {},
     "output_type": "execute_result"
    }
   ],
   "source": [
    "# ---------solution----------\n",
    "\n",
    "# 0 = no trucks, 1 = truck show up\n",
    "outcomes = [0,1]\n",
    "n_days = 3\n",
    "n_trials = 10_000\n",
    "trucks = np.random.choice([0,1], size= (n_trials, n_days), p=[.3, .7]).reshape(n_trials, n_days)\n",
    "trucks\n"
   ]
  },
  {
   "cell_type": "code",
   "execution_count": 469,
   "id": "075bddcf",
   "metadata": {},
   "outputs": [
    {
     "data": {
      "text/plain": [
       "array([3, 2, 1, ..., 1, 2, 1])"
      ]
     },
     "execution_count": 469,
     "metadata": {},
     "output_type": "execute_result"
    }
   ],
   "source": [
    "trucks.sum(axis=1)"
   ]
  },
  {
   "cell_type": "code",
   "execution_count": 470,
   "id": "286e4390",
   "metadata": {},
   "outputs": [
    {
     "data": {
      "text/plain": [
       "0.0292"
      ]
     },
     "execution_count": 470,
     "metadata": {},
     "output_type": "execute_result"
    }
   ],
   "source": [
    "(trucks.sum(axis=1)==0).mean()"
   ]
  },
  {
   "cell_type": "code",
   "execution_count": 461,
   "id": "79d7befc",
   "metadata": {},
   "outputs": [
    {
     "data": {
      "text/plain": [
       "0.9708"
      ]
     },
     "execution_count": 461,
     "metadata": {},
     "output_type": "execute_result"
    }
   ],
   "source": [
    "(trucks.sum(axis=1)>=1).mean()"
   ]
  },
  {
   "cell_type": "markdown",
   "id": "098550d3",
   "metadata": {},
   "source": [
    "8. If 23 people are in the same room, what are the odds that two of them share a birthday? What if it's 20 people? 40?"
   ]
  },
  {
   "cell_type": "code",
   "execution_count": null,
   "id": "271aae7c",
   "metadata": {},
   "outputs": [],
   "source": [
    "#---solution ---"
   ]
  },
  {
   "cell_type": "code",
   "execution_count": 510,
   "id": "008e8e33",
   "metadata": {},
   "outputs": [],
   "source": [
    "#number of days in a year\n",
    "outcomes = range(0, 365) \n",
    "\n",
    "n_students= 23 #number of students\n",
    "\n",
    "n_simulations = 10000"
   ]
  },
  {
   "cell_type": "code",
   "execution_count": 519,
   "id": "926cd586",
   "metadata": {},
   "outputs": [
    {
     "data": {
      "text/plain": [
       "array([[250,  49,  39, ..., 302, 314, 127],\n",
       "       [ 71, 226, 173, ...,   5, 115, 320],\n",
       "       [211,  26, 336, ...,  48, 125, 143],\n",
       "       ...,\n",
       "       [269, 257, 154, ..., 186, 176, 261],\n",
       "       [243,  17,   0, ...,  71, 322, 236],\n",
       "       [255, 289,  80, ..., 166,  18,  32]])"
      ]
     },
     "execution_count": 519,
     "metadata": {},
     "output_type": "execute_result"
    }
   ],
   "source": [
    "#using random choice to get the possible birthdays\n",
    "birthdays= np.random.choice(outcomes, size=(n_simulations, n_students))\n",
    "\n",
    "birthdays"
   ]
  },
  {
   "cell_type": "code",
   "execution_count": 520,
   "id": "8aab3071",
   "metadata": {},
   "outputs": [
    {
     "data": {
      "text/html": [
       "<div>\n",
       "<style scoped>\n",
       "    .dataframe tbody tr th:only-of-type {\n",
       "        vertical-align: middle;\n",
       "    }\n",
       "\n",
       "    .dataframe tbody tr th {\n",
       "        vertical-align: top;\n",
       "    }\n",
       "\n",
       "    .dataframe thead th {\n",
       "        text-align: right;\n",
       "    }\n",
       "</style>\n",
       "<table border=\"1\" class=\"dataframe\">\n",
       "  <thead>\n",
       "    <tr style=\"text-align: right;\">\n",
       "      <th></th>\n",
       "      <th>0</th>\n",
       "      <th>1</th>\n",
       "      <th>2</th>\n",
       "      <th>3</th>\n",
       "      <th>4</th>\n",
       "      <th>5</th>\n",
       "      <th>6</th>\n",
       "      <th>7</th>\n",
       "      <th>8</th>\n",
       "      <th>9</th>\n",
       "      <th>...</th>\n",
       "      <th>30</th>\n",
       "      <th>31</th>\n",
       "      <th>32</th>\n",
       "      <th>33</th>\n",
       "      <th>34</th>\n",
       "      <th>35</th>\n",
       "      <th>36</th>\n",
       "      <th>37</th>\n",
       "      <th>38</th>\n",
       "      <th>39</th>\n",
       "    </tr>\n",
       "  </thead>\n",
       "  <tbody>\n",
       "    <tr>\n",
       "      <th>0</th>\n",
       "      <td>250</td>\n",
       "      <td>49</td>\n",
       "      <td>39</td>\n",
       "      <td>219</td>\n",
       "      <td>33</td>\n",
       "      <td>65</td>\n",
       "      <td>275</td>\n",
       "      <td>3</td>\n",
       "      <td>43</td>\n",
       "      <td>287</td>\n",
       "      <td>...</td>\n",
       "      <td>151</td>\n",
       "      <td>257</td>\n",
       "      <td>79</td>\n",
       "      <td>241</td>\n",
       "      <td>97</td>\n",
       "      <td>347</td>\n",
       "      <td>87</td>\n",
       "      <td>302</td>\n",
       "      <td>314</td>\n",
       "      <td>127</td>\n",
       "    </tr>\n",
       "    <tr>\n",
       "      <th>1</th>\n",
       "      <td>71</td>\n",
       "      <td>226</td>\n",
       "      <td>173</td>\n",
       "      <td>209</td>\n",
       "      <td>318</td>\n",
       "      <td>11</td>\n",
       "      <td>150</td>\n",
       "      <td>261</td>\n",
       "      <td>139</td>\n",
       "      <td>293</td>\n",
       "      <td>...</td>\n",
       "      <td>49</td>\n",
       "      <td>39</td>\n",
       "      <td>95</td>\n",
       "      <td>305</td>\n",
       "      <td>205</td>\n",
       "      <td>360</td>\n",
       "      <td>113</td>\n",
       "      <td>5</td>\n",
       "      <td>115</td>\n",
       "      <td>320</td>\n",
       "    </tr>\n",
       "    <tr>\n",
       "      <th>2</th>\n",
       "      <td>211</td>\n",
       "      <td>26</td>\n",
       "      <td>336</td>\n",
       "      <td>219</td>\n",
       "      <td>221</td>\n",
       "      <td>36</td>\n",
       "      <td>303</td>\n",
       "      <td>212</td>\n",
       "      <td>72</td>\n",
       "      <td>9</td>\n",
       "      <td>...</td>\n",
       "      <td>37</td>\n",
       "      <td>284</td>\n",
       "      <td>170</td>\n",
       "      <td>231</td>\n",
       "      <td>43</td>\n",
       "      <td>358</td>\n",
       "      <td>283</td>\n",
       "      <td>48</td>\n",
       "      <td>125</td>\n",
       "      <td>143</td>\n",
       "    </tr>\n",
       "    <tr>\n",
       "      <th>3</th>\n",
       "      <td>53</td>\n",
       "      <td>291</td>\n",
       "      <td>290</td>\n",
       "      <td>191</td>\n",
       "      <td>151</td>\n",
       "      <td>215</td>\n",
       "      <td>361</td>\n",
       "      <td>145</td>\n",
       "      <td>172</td>\n",
       "      <td>208</td>\n",
       "      <td>...</td>\n",
       "      <td>17</td>\n",
       "      <td>215</td>\n",
       "      <td>312</td>\n",
       "      <td>126</td>\n",
       "      <td>177</td>\n",
       "      <td>49</td>\n",
       "      <td>157</td>\n",
       "      <td>146</td>\n",
       "      <td>215</td>\n",
       "      <td>250</td>\n",
       "    </tr>\n",
       "    <tr>\n",
       "      <th>4</th>\n",
       "      <td>61</td>\n",
       "      <td>305</td>\n",
       "      <td>205</td>\n",
       "      <td>270</td>\n",
       "      <td>327</td>\n",
       "      <td>57</td>\n",
       "      <td>291</td>\n",
       "      <td>324</td>\n",
       "      <td>104</td>\n",
       "      <td>249</td>\n",
       "      <td>...</td>\n",
       "      <td>324</td>\n",
       "      <td>251</td>\n",
       "      <td>157</td>\n",
       "      <td>211</td>\n",
       "      <td>273</td>\n",
       "      <td>178</td>\n",
       "      <td>89</td>\n",
       "      <td>258</td>\n",
       "      <td>269</td>\n",
       "      <td>156</td>\n",
       "    </tr>\n",
       "  </tbody>\n",
       "</table>\n",
       "<p>5 rows × 40 columns</p>\n",
       "</div>"
      ],
      "text/plain": [
       "    0    1    2    3    4    5    6    7    8    9   ...   30   31   32   33  \\\n",
       "0  250   49   39  219   33   65  275    3   43  287  ...  151  257   79  241   \n",
       "1   71  226  173  209  318   11  150  261  139  293  ...   49   39   95  305   \n",
       "2  211   26  336  219  221   36  303  212   72    9  ...   37  284  170  231   \n",
       "3   53  291  290  191  151  215  361  145  172  208  ...   17  215  312  126   \n",
       "4   61  305  205  270  327   57  291  324  104  249  ...  324  251  157  211   \n",
       "\n",
       "    34   35   36   37   38   39  \n",
       "0   97  347   87  302  314  127  \n",
       "1  205  360  113    5  115  320  \n",
       "2   43  358  283   48  125  143  \n",
       "3  177   49  157  146  215  250  \n",
       "4  273  178   89  258  269  156  \n",
       "\n",
       "[5 rows x 40 columns]"
      ]
     },
     "execution_count": 520,
     "metadata": {},
     "output_type": "execute_result"
    }
   ],
   "source": [
    "#turn it into a DF so it's easier to read\n",
    "birthdays = pd.DataFrame(birthdays)\n",
    "\n",
    "birthdays.head()"
   ]
  },
  {
   "cell_type": "code",
   "execution_count": 512,
   "id": "b471f9a4",
   "metadata": {},
   "outputs": [
    {
     "data": {
      "text/plain": [
       "0.5055"
      ]
     },
     "execution_count": 512,
     "metadata": {},
     "output_type": "execute_result"
    }
   ],
   "source": [
    "# For 23 people, what are the odds that two of them share a birthday? \n",
    "\n",
    "(birthdays.nunique(axis=1) < 23).mean()"
   ]
  },
  {
   "cell_type": "code",
   "execution_count": 521,
   "id": "fdc02826",
   "metadata": {},
   "outputs": [
    {
     "data": {
      "text/plain": [
       "0.413"
      ]
     },
     "execution_count": 521,
     "metadata": {},
     "output_type": "execute_result"
    }
   ],
   "source": [
    "# For 20 people, what are the odds that two of them share a birthday?\n",
    "\n",
    "n_students = 20\n",
    "birthdays= np.random.choice(outcomes, size=(n_simulations, n_students))\n",
    "\n",
    "birthdays = pd.DataFrame(birthdays)\n",
    "(birthdays.nunique(axis=1) < n_students).mean()"
   ]
  },
  {
   "cell_type": "code",
   "execution_count": 518,
   "id": "e445ad06",
   "metadata": {},
   "outputs": [
    {
     "data": {
      "text/plain": [
       "0.8894"
      ]
     },
     "execution_count": 518,
     "metadata": {},
     "output_type": "execute_result"
    }
   ],
   "source": [
    "# For 40 people, what are the odds that two of them share a birthday?\n",
    "\n",
    "n_students = 40\n",
    "birthdays= np.random.choice(outcomes, size=(n_simulations, n_students))\n",
    "\n",
    "birthdays = pd.DataFrame(birthdays)\n",
    "(birthdays.nunique(axis=1) < n_students).mean()"
   ]
  },
  {
   "cell_type": "code",
   "execution_count": null,
   "id": "510158dd",
   "metadata": {},
   "outputs": [],
   "source": []
  }
 ],
 "metadata": {
  "kernelspec": {
   "display_name": "Python 3 (ipykernel)",
   "language": "python",
   "name": "python3"
  },
  "language_info": {
   "codemirror_mode": {
    "name": "ipython",
    "version": 3
   },
   "file_extension": ".py",
   "mimetype": "text/x-python",
   "name": "python",
   "nbconvert_exporter": "python",
   "pygments_lexer": "ipython3",
   "version": "3.9.13"
  }
 },
 "nbformat": 4,
 "nbformat_minor": 5
}
